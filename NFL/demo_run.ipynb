{
 "cells": [
  {
   "cell_type": "markdown",
   "metadata": {},
   "source": [
    "- GraphLab runs in Python 2.7.x env only, it is capable of processing big data (both relational data and non-relational data) quickly\n",
    "     - [GraphLab homepage](https://turi.com/)\n",
    "     - [docs of GraphLab](https://turi.com/products/create/docs/index.html) \n",
    "\n",
    "\n",
    "- Lyndon, Dec. 20, 2019"
   ]
  },
  {
   "cell_type": "code",
   "execution_count": 1,
   "metadata": {},
   "outputs": [],
   "source": [
    "import os\n",
    "import pandas as pd\n",
    "import graphlab as gl\n",
    "\n",
    "data_dir = './NFL_data/demo/'"
   ]
  },
  {
   "cell_type": "code",
   "execution_count": 2,
   "metadata": {},
   "outputs": [
    {
     "name": "stdout",
     "output_type": "stream",
     "text": [
      "0 14073680-status_alter.csv\n",
      "1 14073680-status_ego.csv\n",
      "2 14073680-alter.csv\n",
      "3 14073680-status_ego-LIWC.csv\n",
      "4 14073680-status_ego-Watson.csv\n"
     ]
    }
   ],
   "source": [
    "data_list = os.listdir(data_dir)\n",
    "for i, j in enumerate(data_list):\n",
    "    print i, j"
   ]
  },
  {
   "cell_type": "markdown",
   "metadata": {},
   "source": [
    "### For the status_ego"
   ]
  },
  {
   "cell_type": "code",
   "execution_count": 3,
   "metadata": {},
   "outputs": [
    {
     "name": "stdout",
     "output_type": "stream",
     "text": [
      "This non-commercial license of GraphLab Create for academic use is assigned to luoc18@mails.tsinghua.edu.cn and will expire on December 19, 2020.\n"
     ]
    },
    {
     "name": "stderr",
     "output_type": "stream",
     "text": [
      "[INFO] graphlab.cython.cy_server: GraphLab Create v2.1 started. Logging: /tmp/graphlab_server_1576956426.log\n"
     ]
    },
    {
     "data": {
      "text/html": [
       "<pre>Unable to parse line \"672548111168880641,14073680,1449182939.0,\"RT @MarkSReynolds: .@JournalistsLike New Zealand's main daily newspaper asks a question of America on behalf of the world.\"</pre>"
      ],
      "text/plain": [
       "Unable to parse line \"672548111168880641,14073680,1449182939.0,\"RT @MarkSReynolds: .@JournalistsLike New Zealand's main daily newspaper asks a question of America on behalf of the world.\""
      ]
     },
     "metadata": {},
     "output_type": "display_data"
    },
    {
     "data": {
      "text/html": [
       "PHByZT5VbmFibGUgdG8gcGFyc2UgbGluZSAiQG56aGVyYWxkIGh0dHBzOuKApiIsMCwzOSwzLDAsMCxlbiI8L3ByZT4=\n"
      ],
      "text/plain": [
       "VW5hYmxlIHRvIHBhcnNlIGxpbmUgIkBuemhlcmFsZCBodHRwczrigKYiLDAsMzksMywwLDAsZW4i\n"
      ]
     },
     "metadata": {},
     "output_type": "display_data"
    },
    {
     "data": {
      "text/html": [
       "PHByZT5VbmFibGUgdG8gcGFyc2UgbGluZSAiaHR0cDovL3QuY28vNnpTU+KApiIsMCwxNCwxLDAsMCxlbiI8L3ByZT4=\n"
      ],
      "text/plain": [
       "VW5hYmxlIHRvIHBhcnNlIGxpbmUgImh0dHA6Ly90LmNvLzZ6U1PigKYiLDAsMTQsMSwwLDAsZW4i\n"
      ]
     },
     "metadata": {},
     "output_type": "display_data"
    },
    {
     "data": {
      "text/html": [
       "PHByZT5VbmFibGUgdG8gcGFyc2UgbGluZSAiNjMyNjU5NjIyOTQ4NTY0OTkyLDE0MDczNjgwLDE0Mzk2NzI3ODMuMCwiUlQgQGJpbGxtb24xOiAiIkthdHJpbmEgaGFzIGEgbGVzc29uLiBJdOKAmXMgYWJvdXQgd2hhdCBoYXBwZW5zIHdoZW4geW91IGZvbGxvdyBkZXN0cnVjdGl2ZSBhcHByb2FjaCB0byBwb2xpY3kgTWNRdWVhcnkgc2hpbGxzIGZvci4iIiI8L3ByZT4=\n"
      ],
      "text/plain": [
       "VW5hYmxlIHRvIHBhcnNlIGxpbmUgIjYzMjY1OTYyMjk0ODU2NDk5MiwxNDA3MzY4MCwxNDM5NjcyNzgzLjAsIlJUIEBiaWxsbW9uMTogIiJLYXRyaW5hIGhhcyBhIGxlc3Nvbi4gSXTigJlzIGFib3V0IHdoYXQgaGFwcGVucyB3aGVuIHlvdSBmb2xsb3cgZGVzdHJ1Y3RpdmUgYXBwcm9hY2ggdG8gcG9saWN5IE1jUXVlYXJ5IHNoaWxscyBmb3IuIiIi\n"
      ]
     },
     "metadata": {},
     "output_type": "display_data"
    },
    {
     "data": {
      "text/html": [
       "PHByZT5VbmFibGUgdG8gcGFyc2UgbGluZSAiaHR0cDovL3Qu4oCmIiwwLDEzLDEsMCwwLGVuIjwvcHJlPg==\n"
      ],
      "text/plain": [
       "VW5hYmxlIHRvIHBhcnNlIGxpbmUgImh0dHA6Ly90LuKApiIsMCwxMywxLDAsMCxlbiI=\n"
      ]
     },
     "metadata": {},
     "output_type": "display_data"
    },
    {
     "data": {
      "text/html": [
       "<pre>Unable to parse line \"683754625552416768,14073680,1451854780.0,\"Dan: \"\"Aren't we 2-0 against the Falcons this season?\"\"\"</pre>"
      ],
      "text/plain": [
       "Unable to parse line \"683754625552416768,14073680,1451854780.0,\"Dan: \"\"Aren't we 2-0 against the Falcons this season?\"\"\""
      ]
     },
     "metadata": {},
     "output_type": "display_data"
    },
    {
     "name": "stdout",
     "output_type": "stream",
     "text": [
      "------------------------------------------------------\n",
      "Inferred types from first 100 line(s) of file as \n",
      "column_type_hints=[int,int,float,str,int,int,int,int,int,str]\n",
      "If parsing fails due to incorrect types, you can correct\n",
      "the inferred type list above and pass it to read_csv in\n",
      "the column_type_hints argument\n",
      "------------------------------------------------------\n"
     ]
    },
    {
     "data": {
      "text/html": [
       "<pre>Unable to parse line \"\"\"Yeah.\"\"\"</pre>"
      ],
      "text/plain": [
       "Unable to parse line \"\"\"Yeah.\"\"\""
      ]
     },
     "metadata": {},
     "output_type": "display_data"
    },
    {
     "data": {
      "text/html": [
       "<pre>Unable to parse line \"Laughs. \"\"YEAAAAAH!!\"\" \"</pre>"
      ],
      "text/plain": [
       "Unable to parse line \"Laughs. \"\"YEAAAAAH!!\"\" \""
      ]
     },
     "metadata": {},
     "output_type": "display_data"
    },
    {
     "data": {
      "text/html": [
       "<pre>Unable to parse line \"661542177151913984,14073680,1446558920.0,\"RT @fargonia: Is there a word for \"\"Love the South, but hate its politics?\"\"\"</pre>"
      ],
      "text/plain": [
       "Unable to parse line \"661542177151913984,14073680,1446558920.0,\"RT @fargonia: Is there a word for \"\"Love the South, but hate its politics?\"\"\""
      ]
     },
     "metadata": {},
     "output_type": "display_data"
    },
    {
     "data": {
      "text/html": [
       "<pre>Unable to parse line \"'Cuz that's me.\",0,1,1,0,0,en\"</pre>"
      ],
      "text/plain": [
       "Unable to parse line \"'Cuz that's me.\",0,1,1,0,0,en\""
      ]
     },
     "metadata": {},
     "output_type": "display_data"
    },
    {
     "data": {
      "text/html": [
       "<pre>Unable to parse line \"672512097784225793,14073680,1449174353.0,\"RT @SassyTexasGal: Please, if you can. Father of 6 killed in San Bernardino massacre.\"</pre>"
      ],
      "text/plain": [
       "Unable to parse line \"672512097784225793,14073680,1449174353.0,\"RT @SassyTexasGal: Please, if you can. Father of 6 killed in San Bernardino massacre.\""
      ]
     },
     "metadata": {},
     "output_type": "display_data"
    },
    {
     "data": {
      "text/html": [
       "<pre>971 lines failed to parse correctly</pre>"
      ],
      "text/plain": [
       "971 lines failed to parse correctly"
      ]
     },
     "metadata": {},
     "output_type": "display_data"
    },
    {
     "data": {
      "text/html": [
       "<pre>Finished parsing file /Users/lyndon/graphlab/NFL_data/demo/14073680-status_ego.csv</pre>"
      ],
      "text/plain": [
       "Finished parsing file /Users/lyndon/graphlab/NFL_data/demo/14073680-status_ego.csv"
      ]
     },
     "metadata": {},
     "output_type": "display_data"
    },
    {
     "data": {
      "text/html": [
       "<pre>Parsing completed. Parsed 100 lines in 0.046285 secs.</pre>"
      ],
      "text/plain": [
       "Parsing completed. Parsed 100 lines in 0.046285 secs."
      ]
     },
     "metadata": {},
     "output_type": "display_data"
    },
    {
     "data": {
      "text/html": [
       "<pre>Unable to parse line \"672548111168880641,14073680,1449182939.0,\"RT @MarkSReynolds: .@JournalistsLike New Zealand's main daily newspaper asks a question of America on behalf of the world.\"</pre>"
      ],
      "text/plain": [
       "Unable to parse line \"672548111168880641,14073680,1449182939.0,\"RT @MarkSReynolds: .@JournalistsLike New Zealand's main daily newspaper asks a question of America on behalf of the world.\""
      ]
     },
     "metadata": {},
     "output_type": "display_data"
    },
    {
     "data": {
      "text/html": [
       "PHByZT5VbmFibGUgdG8gcGFyc2UgbGluZSAiQG56aGVyYWxkIGh0dHBzOuKApiIsMCwzOSwzLDAsMCxlbiI8L3ByZT4=\n"
      ],
      "text/plain": [
       "VW5hYmxlIHRvIHBhcnNlIGxpbmUgIkBuemhlcmFsZCBodHRwczrigKYiLDAsMzksMywwLDAsZW4i\n"
      ]
     },
     "metadata": {},
     "output_type": "display_data"
    },
    {
     "data": {
      "text/html": [
       "PHByZT5VbmFibGUgdG8gcGFyc2UgbGluZSAiaHR0cDovL3QuY28vNnpTU+KApiIsMCwxNCwxLDAsMCxlbiI8L3ByZT4=\n"
      ],
      "text/plain": [
       "VW5hYmxlIHRvIHBhcnNlIGxpbmUgImh0dHA6Ly90LmNvLzZ6U1PigKYiLDAsMTQsMSwwLDAsZW4i\n"
      ]
     },
     "metadata": {},
     "output_type": "display_data"
    },
    {
     "data": {
      "text/html": [
       "<pre>Unable to parse line \"672512097784225793,14073680,1449174353.0,\"RT @SassyTexasGal: Please, if you can. Father of 6 killed in San Bernardino massacre.\"</pre>"
      ],
      "text/plain": [
       "Unable to parse line \"672512097784225793,14073680,1449174353.0,\"RT @SassyTexasGal: Please, if you can. Father of 6 killed in San Bernardino massacre.\""
      ]
     },
     "metadata": {},
     "output_type": "display_data"
    },
    {
     "data": {
      "text/html": [
       "<pre>Unable to parse line \"691780329187774469,14073680,1453768257.0,\"RT @BlueHeronFarmTX: Sometimes you need a shower before you make dinner because there is an absurd amount of goat saliva in your hair.\"</pre>"
      ],
      "text/plain": [
       "Unable to parse line \"691780329187774469,14073680,1453768257.0,\"RT @BlueHeronFarmTX: Sometimes you need a shower before you make dinner because there is an absurd amount of goat saliva in your hair.\""
      ]
     },
     "metadata": {},
     "output_type": "display_data"
    },
    {
     "data": {
      "text/html": [
       "<pre>Unable to parse line \"683754625552416768,14073680,1451854780.0,\"Dan: \"\"Aren't we 2-0 against the Falcons this season?\"\"\"</pre>"
      ],
      "text/plain": [
       "Unable to parse line \"683754625552416768,14073680,1451854780.0,\"Dan: \"\"Aren't we 2-0 against the Falcons this season?\"\"\""
      ]
     },
     "metadata": {},
     "output_type": "display_data"
    },
    {
     "data": {
      "text/html": [
       "PHByZT5VbmFibGUgdG8gcGFyc2UgbGluZSAiLi4u4oCmIiwwLDMsMSwwLDAsZW4iPC9wcmU+\n"
      ],
      "text/plain": [
       "VW5hYmxlIHRvIHBhcnNlIGxpbmUgIi4uLuKApiIsMCwzLDEsMCwwLGVuIg==\n"
      ]
     },
     "metadata": {},
     "output_type": "display_data"
    },
    {
     "data": {
      "text/html": [
       "<pre>Unable to parse line \"661542177151913984,14073680,1446558920.0,\"RT @fargonia: Is there a word for \"\"Love the South, but hate its politics?\"\"\"</pre>"
      ],
      "text/plain": [
       "Unable to parse line \"661542177151913984,14073680,1446558920.0,\"RT @fargonia: Is there a word for \"\"Love the South, but hate its politics?\"\"\""
      ]
     },
     "metadata": {},
     "output_type": "display_data"
    },
    {
     "data": {
      "text/html": [
       "PHByZT5VbmFibGUgdG8gcGFyc2UgbGluZSAiVGhlIFdldHplbCBGYW1pbHkgfCBLaWRzICZhbXA7IEZhbWlseSAtIFlvdUNhcmluZyBodHRwczrigKYiLDAsNiwxLDAsMCxlbiI8L3ByZT4=\n"
      ],
      "text/plain": [
       "VW5hYmxlIHRvIHBhcnNlIGxpbmUgIlRoZSBXZXR6ZWwgRmFtaWx5IHwgS2lkcyAmYW1wOyBGYW1pbHkgLSBZb3VDYXJpbmcgaHR0cHM64oCmIiwwLDYsMSwwLDAsZW4i\n"
      ]
     },
     "metadata": {},
     "output_type": "display_data"
    },
    {
     "data": {
      "text/html": [
       "<pre>Unable to parse line \"\"\"Yeah.\"\"\"</pre>"
      ],
      "text/plain": [
       "Unable to parse line \"\"\"Yeah.\"\"\""
      ]
     },
     "metadata": {},
     "output_type": "display_data"
    },
    {
     "data": {
      "text/html": [
       "<pre>Unable to parse line \"691748105994137600,14073680,1453760575.0,\"RT @StephStradley: OK, which one of you is this guy? \"</pre>"
      ],
      "text/plain": [
       "Unable to parse line \"691748105994137600,14073680,1453760575.0,\"RT @StephStradley: OK, which one of you is this guy? \""
      ]
     },
     "metadata": {},
     "output_type": "display_data"
    },
    {
     "data": {
      "text/html": [
       "PHByZT5VbmFibGUgdG8gcGFyc2UgbGluZSAiNjMyNjU5NjIyOTQ4NTY0OTkyLDE0MDczNjgwLDE0Mzk2NzI3ODMuMCwiUlQgQGJpbGxtb24xOiAiIkthdHJpbmEgaGFzIGEgbGVzc29uLiBJdOKAmXMgYWJvdXQgd2hhdCBoYXBwZW5zIHdoZW4geW91IGZvbGxvdyBkZXN0cnVjdGl2ZSBhcHByb2FjaCB0byBwb2xpY3kgTWNRdWVhcnkgc2hpbGxzIGZvci4iIiI8L3ByZT4=\n"
      ],
      "text/plain": [
       "VW5hYmxlIHRvIHBhcnNlIGxpbmUgIjYzMjY1OTYyMjk0ODU2NDk5MiwxNDA3MzY4MCwxNDM5NjcyNzgzLjAsIlJUIEBiaWxsbW9uMTogIiJLYXRyaW5hIGhhcyBhIGxlc3Nvbi4gSXTigJlzIGFib3V0IHdoYXQgaGFwcGVucyB3aGVuIHlvdSBmb2xsb3cgZGVzdHJ1Y3RpdmUgYXBwcm9hY2ggdG8gcG9saWN5IE1jUXVlYXJ5IHNoaWxscyBmb3IuIiIi\n"
      ]
     },
     "metadata": {},
     "output_type": "display_data"
    },
    {
     "data": {
      "text/html": [
       "<pre>Unable to parse line \"'Cuz that's me.\",0,1,1,0,0,en\"</pre>"
      ],
      "text/plain": [
       "Unable to parse line \"'Cuz that's me.\",0,1,1,0,0,en\""
      ]
     },
     "metadata": {},
     "output_type": "display_data"
    },
    {
     "data": {
      "text/html": [
       "<pre>972 lines failed to parse correctly</pre>"
      ],
      "text/plain": [
       "972 lines failed to parse correctly"
      ]
     },
     "metadata": {},
     "output_type": "display_data"
    },
    {
     "data": {
      "text/html": [
       "<pre>Finished parsing file /Users/lyndon/graphlab/NFL_data/demo/14073680-status_ego.csv</pre>"
      ],
      "text/plain": [
       "Finished parsing file /Users/lyndon/graphlab/NFL_data/demo/14073680-status_ego.csv"
      ]
     },
     "metadata": {},
     "output_type": "display_data"
    },
    {
     "data": {
      "text/html": [
       "<pre>Parsing completed. Parsed 12160 lines in 0.047882 secs.</pre>"
      ],
      "text/plain": [
       "Parsing completed. Parsed 12160 lines in 0.047882 secs."
      ]
     },
     "metadata": {},
     "output_type": "display_data"
    },
    {
     "data": {
      "text/html": [
       "<div style=\"max-height:1000px;max-width:1500px;overflow:auto;\"><table frame=\"box\" rules=\"cols\">\n",
       "    <tr>\n",
       "        <th style=\"padding-left: 1em; padding-right: 1em; text-align: center\">id</th>\n",
       "        <th style=\"padding-left: 1em; padding-right: 1em; text-align: center\">user_id</th>\n",
       "        <th style=\"padding-left: 1em; padding-right: 1em; text-align: center\">created_at</th>\n",
       "        <th style=\"padding-left: 1em; padding-right: 1em; text-align: center\">text</th>\n",
       "        <th style=\"padding-left: 1em; padding-right: 1em; text-align: center\">favorite_count</th>\n",
       "        <th style=\"padding-left: 1em; padding-right: 1em; text-align: center\">retweet_count</th>\n",
       "        <th style=\"padding-left: 1em; padding-right: 1em; text-align: center\">mention_count</th>\n",
       "    </tr>\n",
       "    <tr>\n",
       "        <td style=\"padding-left: 1em; padding-right: 1em; text-align: center; vertical-align: top\">692040748263297024</td>\n",
       "        <td style=\"padding-left: 1em; padding-right: 1em; text-align: center; vertical-align: top\">14073680</td>\n",
       "        <td style=\"padding-left: 1em; padding-right: 1em; text-align: center; vertical-align: top\">1453830346.0</td>\n",
       "        <td style=\"padding-left: 1em; padding-right: 1em; text-align: center; vertical-align: top\">RT @gadboislensnola: AIR<br>BNB proposing to collect ...</td>\n",
       "        <td style=\"padding-left: 1em; padding-right: 1em; text-align: center; vertical-align: top\">0</td>\n",
       "        <td style=\"padding-left: 1em; padding-right: 1em; text-align: center; vertical-align: top\">3</td>\n",
       "        <td style=\"padding-left: 1em; padding-right: 1em; text-align: center; vertical-align: top\">1</td>\n",
       "    </tr>\n",
       "    <tr>\n",
       "        <td style=\"padding-left: 1em; padding-right: 1em; text-align: center; vertical-align: top\">692035170354868224</td>\n",
       "        <td style=\"padding-left: 1em; padding-right: 1em; text-align: center; vertical-align: top\">14073680</td>\n",
       "        <td style=\"padding-left: 1em; padding-right: 1em; text-align: center; vertical-align: top\">1453829016.0</td>\n",
       "        <td style=\"padding-left: 1em; padding-right: 1em; text-align: center; vertical-align: top\">@fransco @NOLA_Fredo I<br>have no idea. Talk about ...</td>\n",
       "        <td style=\"padding-left: 1em; padding-right: 1em; text-align: center; vertical-align: top\">0</td>\n",
       "        <td style=\"padding-left: 1em; padding-right: 1em; text-align: center; vertical-align: top\">0</td>\n",
       "        <td style=\"padding-left: 1em; padding-right: 1em; text-align: center; vertical-align: top\">2</td>\n",
       "    </tr>\n",
       "    <tr>\n",
       "        <td style=\"padding-left: 1em; padding-right: 1em; text-align: center; vertical-align: top\">692034361999302658</td>\n",
       "        <td style=\"padding-left: 1em; padding-right: 1em; text-align: center; vertical-align: top\">14073680</td>\n",
       "        <td style=\"padding-left: 1em; padding-right: 1em; text-align: center; vertical-align: top\">1453828823.0</td>\n",
       "        <td style=\"padding-left: 1em; padding-right: 1em; text-align: center; vertical-align: top\">Yes. God help us all.<br>https://t.co/DXUCUlyzBZ ...</td>\n",
       "        <td style=\"padding-left: 1em; padding-right: 1em; text-align: center; vertical-align: top\">0</td>\n",
       "        <td style=\"padding-left: 1em; padding-right: 1em; text-align: center; vertical-align: top\">0</td>\n",
       "        <td style=\"padding-left: 1em; padding-right: 1em; text-align: center; vertical-align: top\">0</td>\n",
       "    </tr>\n",
       "    <tr>\n",
       "        <td style=\"padding-left: 1em; padding-right: 1em; text-align: center; vertical-align: top\">692033806270763008</td>\n",
       "        <td style=\"padding-left: 1em; padding-right: 1em; text-align: center; vertical-align: top\">14073680</td>\n",
       "        <td style=\"padding-left: 1em; padding-right: 1em; text-align: center; vertical-align: top\">1453828691.0</td>\n",
       "        <td style=\"padding-left: 1em; padding-right: 1em; text-align: center; vertical-align: top\">Patrick Swayze's Bodhi<br>would kick the asses of ...</td>\n",
       "        <td style=\"padding-left: 1em; padding-right: 1em; text-align: center; vertical-align: top\">4</td>\n",
       "        <td style=\"padding-left: 1em; padding-right: 1em; text-align: center; vertical-align: top\">0</td>\n",
       "        <td style=\"padding-left: 1em; padding-right: 1em; text-align: center; vertical-align: top\">0</td>\n",
       "    </tr>\n",
       "    <tr>\n",
       "        <td style=\"padding-left: 1em; padding-right: 1em; text-align: center; vertical-align: top\">692033257081217024</td>\n",
       "        <td style=\"padding-left: 1em; padding-right: 1em; text-align: center; vertical-align: top\">14073680</td>\n",
       "        <td style=\"padding-left: 1em; padding-right: 1em; text-align: center; vertical-align: top\">1453828560.0</td>\n",
       "        <td style=\"padding-left: 1em; padding-right: 1em; text-align: center; vertical-align: top\">Duuuuude.<br>https://t.co/8ZZXmnaIQT ...</td>\n",
       "        <td style=\"padding-left: 1em; padding-right: 1em; text-align: center; vertical-align: top\">0</td>\n",
       "        <td style=\"padding-left: 1em; padding-right: 1em; text-align: center; vertical-align: top\">0</td>\n",
       "        <td style=\"padding-left: 1em; padding-right: 1em; text-align: center; vertical-align: top\">0</td>\n",
       "    </tr>\n",
       "    <tr>\n",
       "        <td style=\"padding-left: 1em; padding-right: 1em; text-align: center; vertical-align: top\">692032799222566912</td>\n",
       "        <td style=\"padding-left: 1em; padding-right: 1em; text-align: center; vertical-align: top\">14073680</td>\n",
       "        <td style=\"padding-left: 1em; padding-right: 1em; text-align: center; vertical-align: top\">1453828451.0</td>\n",
       "        <td style=\"padding-left: 1em; padding-right: 1em; text-align: center; vertical-align: top\">The current @BeingNOLA<br>seems to be igniting a ...</td>\n",
       "        <td style=\"padding-left: 1em; padding-right: 1em; text-align: center; vertical-align: top\">3</td>\n",
       "        <td style=\"padding-left: 1em; padding-right: 1em; text-align: center; vertical-align: top\">0</td>\n",
       "        <td style=\"padding-left: 1em; padding-right: 1em; text-align: center; vertical-align: top\">1</td>\n",
       "    </tr>\n",
       "    <tr>\n",
       "        <td style=\"padding-left: 1em; padding-right: 1em; text-align: center; vertical-align: top\">692025407193817088</td>\n",
       "        <td style=\"padding-left: 1em; padding-right: 1em; text-align: center; vertical-align: top\">14073680</td>\n",
       "        <td style=\"padding-left: 1em; padding-right: 1em; text-align: center; vertical-align: top\">1453826688.0</td>\n",
       "        <td style=\"padding-left: 1em; padding-right: 1em; text-align: center; vertical-align: top\">RT @amaditalks: This,<br>entirely. ...</td>\n",
       "        <td style=\"padding-left: 1em; padding-right: 1em; text-align: center; vertical-align: top\">0</td>\n",
       "        <td style=\"padding-left: 1em; padding-right: 1em; text-align: center; vertical-align: top\">28</td>\n",
       "        <td style=\"padding-left: 1em; padding-right: 1em; text-align: center; vertical-align: top\">1</td>\n",
       "    </tr>\n",
       "    <tr>\n",
       "        <td style=\"padding-left: 1em; padding-right: 1em; text-align: center; vertical-align: top\">692025326180835329</td>\n",
       "        <td style=\"padding-left: 1em; padding-right: 1em; text-align: center; vertical-align: top\">14073680</td>\n",
       "        <td style=\"padding-left: 1em; padding-right: 1em; text-align: center; vertical-align: top\">1453826669.0</td>\n",
       "        <td style=\"padding-left: 1em; padding-right: 1em; text-align: center; vertical-align: top\">RT @amaditalks: Think<br>about what this is ...</td>\n",
       "        <td style=\"padding-left: 1em; padding-right: 1em; text-align: center; vertical-align: top\">0</td>\n",
       "        <td style=\"padding-left: 1em; padding-right: 1em; text-align: center; vertical-align: top\">11</td>\n",
       "        <td style=\"padding-left: 1em; padding-right: 1em; text-align: center; vertical-align: top\">1</td>\n",
       "    </tr>\n",
       "    <tr>\n",
       "        <td style=\"padding-left: 1em; padding-right: 1em; text-align: center; vertical-align: top\">692023623217844225</td>\n",
       "        <td style=\"padding-left: 1em; padding-right: 1em; text-align: center; vertical-align: top\">14073680</td>\n",
       "        <td style=\"padding-left: 1em; padding-right: 1em; text-align: center; vertical-align: top\">1453826263.0</td>\n",
       "        <td style=\"padding-left: 1em; padding-right: 1em; text-align: center; vertical-align: top\">\"The idea was to<br>experiment with fiction ...</td>\n",
       "        <td style=\"padding-left: 1em; padding-right: 1em; text-align: center; vertical-align: top\">2</td>\n",
       "        <td style=\"padding-left: 1em; padding-right: 1em; text-align: center; vertical-align: top\">0</td>\n",
       "        <td style=\"padding-left: 1em; padding-right: 1em; text-align: center; vertical-align: top\">0</td>\n",
       "    </tr>\n",
       "    <tr>\n",
       "        <td style=\"padding-left: 1em; padding-right: 1em; text-align: center; vertical-align: top\">692002055779516416</td>\n",
       "        <td style=\"padding-left: 1em; padding-right: 1em; text-align: center; vertical-align: top\">14073680</td>\n",
       "        <td style=\"padding-left: 1em; padding-right: 1em; text-align: center; vertical-align: top\">1453821121.0</td>\n",
       "        <td style=\"padding-left: 1em; padding-right: 1em; text-align: center; vertical-align: top\">“'Soviet radiation,' he<br>joked, 'is the best ...</td>\n",
       "        <td style=\"padding-left: 1em; padding-right: 1em; text-align: center; vertical-align: top\">2</td>\n",
       "        <td style=\"padding-left: 1em; padding-right: 1em; text-align: center; vertical-align: top\">2</td>\n",
       "        <td style=\"padding-left: 1em; padding-right: 1em; text-align: center; vertical-align: top\">0</td>\n",
       "    </tr>\n",
       "</table>\n",
       "<table frame=\"box\" rules=\"cols\">\n",
       "    <tr>\n",
       "        <th style=\"padding-left: 1em; padding-right: 1em; text-align: center\">is_reply</th>\n",
       "        <th style=\"padding-left: 1em; padding-right: 1em; text-align: center\">is_retweet</th>\n",
       "        <th style=\"padding-left: 1em; padding-right: 1em; text-align: center\">lang</th>\n",
       "    </tr>\n",
       "    <tr>\n",
       "        <td style=\"padding-left: 1em; padding-right: 1em; text-align: center; vertical-align: top\">0</td>\n",
       "        <td style=\"padding-left: 1em; padding-right: 1em; text-align: center; vertical-align: top\">0</td>\n",
       "        <td style=\"padding-left: 1em; padding-right: 1em; text-align: center; vertical-align: top\">en</td>\n",
       "    </tr>\n",
       "    <tr>\n",
       "        <td style=\"padding-left: 1em; padding-right: 1em; text-align: center; vertical-align: top\">1</td>\n",
       "        <td style=\"padding-left: 1em; padding-right: 1em; text-align: center; vertical-align: top\">0</td>\n",
       "        <td style=\"padding-left: 1em; padding-right: 1em; text-align: center; vertical-align: top\">en</td>\n",
       "    </tr>\n",
       "    <tr>\n",
       "        <td style=\"padding-left: 1em; padding-right: 1em; text-align: center; vertical-align: top\">0</td>\n",
       "        <td style=\"padding-left: 1em; padding-right: 1em; text-align: center; vertical-align: top\">0</td>\n",
       "        <td style=\"padding-left: 1em; padding-right: 1em; text-align: center; vertical-align: top\">en</td>\n",
       "    </tr>\n",
       "    <tr>\n",
       "        <td style=\"padding-left: 1em; padding-right: 1em; text-align: center; vertical-align: top\">0</td>\n",
       "        <td style=\"padding-left: 1em; padding-right: 1em; text-align: center; vertical-align: top\">0</td>\n",
       "        <td style=\"padding-left: 1em; padding-right: 1em; text-align: center; vertical-align: top\">en</td>\n",
       "    </tr>\n",
       "    <tr>\n",
       "        <td style=\"padding-left: 1em; padding-right: 1em; text-align: center; vertical-align: top\">0</td>\n",
       "        <td style=\"padding-left: 1em; padding-right: 1em; text-align: center; vertical-align: top\">0</td>\n",
       "        <td style=\"padding-left: 1em; padding-right: 1em; text-align: center; vertical-align: top\">en</td>\n",
       "    </tr>\n",
       "    <tr>\n",
       "        <td style=\"padding-left: 1em; padding-right: 1em; text-align: center; vertical-align: top\">0</td>\n",
       "        <td style=\"padding-left: 1em; padding-right: 1em; text-align: center; vertical-align: top\">0</td>\n",
       "        <td style=\"padding-left: 1em; padding-right: 1em; text-align: center; vertical-align: top\">en</td>\n",
       "    </tr>\n",
       "    <tr>\n",
       "        <td style=\"padding-left: 1em; padding-right: 1em; text-align: center; vertical-align: top\">0</td>\n",
       "        <td style=\"padding-left: 1em; padding-right: 1em; text-align: center; vertical-align: top\">0</td>\n",
       "        <td style=\"padding-left: 1em; padding-right: 1em; text-align: center; vertical-align: top\">en</td>\n",
       "    </tr>\n",
       "    <tr>\n",
       "        <td style=\"padding-left: 1em; padding-right: 1em; text-align: center; vertical-align: top\">0</td>\n",
       "        <td style=\"padding-left: 1em; padding-right: 1em; text-align: center; vertical-align: top\">0</td>\n",
       "        <td style=\"padding-left: 1em; padding-right: 1em; text-align: center; vertical-align: top\">en</td>\n",
       "    </tr>\n",
       "    <tr>\n",
       "        <td style=\"padding-left: 1em; padding-right: 1em; text-align: center; vertical-align: top\">0</td>\n",
       "        <td style=\"padding-left: 1em; padding-right: 1em; text-align: center; vertical-align: top\">0</td>\n",
       "        <td style=\"padding-left: 1em; padding-right: 1em; text-align: center; vertical-align: top\">en</td>\n",
       "    </tr>\n",
       "    <tr>\n",
       "        <td style=\"padding-left: 1em; padding-right: 1em; text-align: center; vertical-align: top\">0</td>\n",
       "        <td style=\"padding-left: 1em; padding-right: 1em; text-align: center; vertical-align: top\">0</td>\n",
       "        <td style=\"padding-left: 1em; padding-right: 1em; text-align: center; vertical-align: top\">en</td>\n",
       "    </tr>\n",
       "</table>\n",
       "[12160 rows x 10 columns]<br/>Note: Only the head of the SFrame is printed.<br/>You can use print_rows(num_rows=m, num_columns=n) to print more rows and columns.\n",
       "</div>"
      ],
      "text/plain": [
       "Columns:\n",
       "\tid\tint\n",
       "\tuser_id\tint\n",
       "\tcreated_at\tfloat\n",
       "\ttext\tstr\n",
       "\tfavorite_count\tint\n",
       "\tretweet_count\tint\n",
       "\tmention_count\tint\n",
       "\tis_reply\tint\n",
       "\tis_retweet\tint\n",
       "\tlang\tstr\n",
       "\n",
       "Rows: 12160\n",
       "\n",
       "Data:\n",
       "+--------------------+----------+--------------+-------------------------------+\n",
       "|         id         | user_id  |  created_at  |              text             |\n",
       "+--------------------+----------+--------------+-------------------------------+\n",
       "| 692040748263297024 | 14073680 | 1453830346.0 | RT @gadboislensnola: AIR B... |\n",
       "| 692035170354868224 | 14073680 | 1453829016.0 | @fransco @NOLA_Fredo I hav... |\n",
       "| 692034361999302658 | 14073680 | 1453828823.0 | Yes. God help us all. http... |\n",
       "| 692033806270763008 | 14073680 | 1453828691.0 | Patrick Swayze's Bodhi wou... |\n",
       "| 692033257081217024 | 14073680 | 1453828560.0 | Duuuuude. https://t.co/8ZZ... |\n",
       "| 692032799222566912 | 14073680 | 1453828451.0 | The current @BeingNOLA see... |\n",
       "| 692025407193817088 | 14073680 | 1453826688.0 | RT @amaditalks: This, enti... |\n",
       "| 692025326180835329 | 14073680 | 1453826669.0 | RT @amaditalks: Think abou... |\n",
       "| 692023623217844225 | 14073680 | 1453826263.0 | \"The idea was to experimen... |\n",
       "| 692002055779516416 | 14073680 | 1453821121.0 | “'Soviet radiation,' he jo... |\n",
       "+--------------------+----------+--------------+-------------------------------+\n",
       "+----------------+---------------+---------------+----------+------------+------+\n",
       "| favorite_count | retweet_count | mention_count | is_reply | is_retweet | lang |\n",
       "+----------------+---------------+---------------+----------+------------+------+\n",
       "|       0        |       3       |       1       |    0     |     0      |  en  |\n",
       "|       0        |       0       |       2       |    1     |     0      |  en  |\n",
       "|       0        |       0       |       0       |    0     |     0      |  en  |\n",
       "|       4        |       0       |       0       |    0     |     0      |  en  |\n",
       "|       0        |       0       |       0       |    0     |     0      |  en  |\n",
       "|       3        |       0       |       1       |    0     |     0      |  en  |\n",
       "|       0        |       28      |       1       |    0     |     0      |  en  |\n",
       "|       0        |       11      |       1       |    0     |     0      |  en  |\n",
       "|       2        |       0       |       0       |    0     |     0      |  en  |\n",
       "|       2        |       2       |       0       |    0     |     0      |  en  |\n",
       "+----------------+---------------+---------------+----------+------------+------+\n",
       "[12160 rows x 10 columns]\n",
       "Note: Only the head of the SFrame is printed.\n",
       "You can use print_rows(num_rows=m, num_columns=n) to print more rows and columns."
      ]
     },
     "execution_count": 3,
     "metadata": {},
     "output_type": "execute_result"
    }
   ],
   "source": [
    "status_ego = gl.SFrame.read_csv(data_dir + data_list[1], \n",
    "                                header = True, \n",
    "                                delimiter = ',')\n",
    "status_ego\n",
    "# It can be inferred from warning message that there exist many blank lines in original data due to more than one paragraph in a single tweet\n",
    "# Original - No. of lines: 13319\n",
    "# Successfully parsed - No. of lines: 12160"
   ]
  },
  {
   "cell_type": "code",
   "execution_count": 4,
   "metadata": {},
   "outputs": [
    {
     "data": {
      "text/plain": [
       "dtype: int\n",
       "Rows: 12160\n",
       "[683740235918786560, 691997741359042560, 679829582128656384, 645094854259699712, 687870576740859905, 692334539973070849, 654858129214074881, 687377907061108736, 663462754221604864, 667022115191713792, 645295259753148416, 675749418172219392, 690190525522018305, 631879467049201664, 655476140220411904, 636380275467943937, 641292446777802752, 690178159665250304, 685703901308268544, 663914179514920960, 695811624095977472, 640699051558744064, 677717362662076417, 677725921239896064, 668605477618495488, 661584779427483648, 653299161383727105, 676953366958891010, 649726439151955968, 653213535187640320, 686917212142059520, 643529177459752961, 635589242945597440, 640724772649836548, 660492942537154560, 686562046163324928, 649418995125219328, 654482478350995457, 694884166307942401, 669923441454092288, 640706709795811328, 686410988023775234, 680815584049672193, 696490785437450240, 649786749644746752, 641228871128317952, 637654390245978112, 686967983483129856, 668527520610848768, 640919282696777729, 649718061180710913, 632589194464903168, 681900134951555072, 684208694712639488, 636977509414768642, 679366526693081088, 652207815793078272, 684029991919591424, 658763841845768196, 645975676068102148, 647075550868017153, 692935486105632770, 694881281906073600, 688581558941290497, 657158623232004096, 674961425563955200, 665035547132334080, 682604768196362240, 694371713983774720, 696518677793931264, 649410574871232512, 649195363992104960, 692404824713863170, 663756255475838977, 632270389117239296, 678670032012886017, 673627269806489600, 666808078189244421, 634725904984309760, 662813615200669696, 672826790017019904, 684102066524917761, 637984279582998528, 691099401532493825, 648217362332672000, 695394018176344064, 649030212768763904, 696875336412241920, 640266536603660290, 666727712342470656, 647651158689865728, 652116869680250880, 640921729838223360, 644340356939689984, 672421862748499968, 641292501844758528, 659322566494916608, 660598117692084224, 649207982891241473, 651579260063232000, ... ]"
      ]
     },
     "execution_count": 4,
     "metadata": {},
     "output_type": "execute_result"
    }
   ],
   "source": [
    "status_ego['id'].unique()\n",
    "# No duplicate values in \"id\" field"
   ]
  },
  {
   "cell_type": "code",
   "execution_count": 5,
   "metadata": {},
   "outputs": [
    {
     "data": {
      "text/plain": [
       "dtype: int\n",
       "Rows: 1\n",
       "[14073680]"
      ]
     },
     "execution_count": 5,
     "metadata": {},
     "output_type": "execute_result"
    }
   ],
   "source": [
    "status_ego['user_id'].unique()"
   ]
  },
  {
   "cell_type": "code",
   "execution_count": 6,
   "metadata": {},
   "outputs": [
    {
     "name": "stdout",
     "output_type": "stream",
     "text": [
      "Canvas is accessible via web browser at the URL: http://localhost:54443/index.html\n",
      "Opening Canvas in default web browser.\n"
     ]
    }
   ],
   "source": [
    "status_ego.show()"
   ]
  },
  {
   "cell_type": "markdown",
   "metadata": {},
   "source": [
    "### For the status_ego_Watson"
   ]
  },
  {
   "cell_type": "code",
   "execution_count": 7,
   "metadata": {},
   "outputs": [
    {
     "data": {
      "text/html": [
       "<pre>Finished parsing file /Users/lyndon/graphlab/NFL_data/demo/14073680-status_ego-Watson.csv</pre>"
      ],
      "text/plain": [
       "Finished parsing file /Users/lyndon/graphlab/NFL_data/demo/14073680-status_ego-Watson.csv"
      ]
     },
     "metadata": {},
     "output_type": "display_data"
    },
    {
     "data": {
      "text/html": [
       "<pre>Parsing completed. Parsed 100 lines in 0.031734 secs.</pre>"
      ],
      "text/plain": [
       "Parsing completed. Parsed 100 lines in 0.031734 secs."
      ]
     },
     "metadata": {},
     "output_type": "display_data"
    },
    {
     "name": "stdout",
     "output_type": "stream",
     "text": [
      "------------------------------------------------------\n",
      "Inferred types from first 100 line(s) of file as \n",
      "column_type_hints=[int,float,float,float,float,float,float,float]\n",
      "If parsing fails due to incorrect types, you can correct\n",
      "the inferred type list above and pass it to read_csv in\n",
      "the column_type_hints argument\n",
      "------------------------------------------------------\n"
     ]
    },
    {
     "data": {
      "text/html": [
       "<pre>Finished parsing file /Users/lyndon/graphlab/NFL_data/demo/14073680-status_ego-Watson.csv</pre>"
      ],
      "text/plain": [
       "Finished parsing file /Users/lyndon/graphlab/NFL_data/demo/14073680-status_ego-Watson.csv"
      ]
     },
     "metadata": {},
     "output_type": "display_data"
    },
    {
     "data": {
      "text/html": [
       "<pre>Parsing completed. Parsed 6890 lines in 0.016018 secs.</pre>"
      ],
      "text/plain": [
       "Parsing completed. Parsed 6890 lines in 0.016018 secs."
      ]
     },
     "metadata": {},
     "output_type": "display_data"
    },
    {
     "data": {
      "text/html": [
       "<div style=\"max-height:1000px;max-width:1500px;overflow:auto;\"><table frame=\"box\" rules=\"cols\">\n",
       "    <tr>\n",
       "        <th style=\"padding-left: 1em; padding-right: 1em; text-align: center\">id</th>\n",
       "        <th style=\"padding-left: 1em; padding-right: 1em; text-align: center\">joy</th>\n",
       "        <th style=\"padding-left: 1em; padding-right: 1em; text-align: center\">anger</th>\n",
       "        <th style=\"padding-left: 1em; padding-right: 1em; text-align: center\">fear</th>\n",
       "        <th style=\"padding-left: 1em; padding-right: 1em; text-align: center\">sadness</th>\n",
       "        <th style=\"padding-left: 1em; padding-right: 1em; text-align: center\">analytical</th>\n",
       "        <th style=\"padding-left: 1em; padding-right: 1em; text-align: center\">confident</th>\n",
       "        <th style=\"padding-left: 1em; padding-right: 1em; text-align: center\">tentative</th>\n",
       "    </tr>\n",
       "    <tr>\n",
       "        <td style=\"padding-left: 1em; padding-right: 1em; text-align: center; vertical-align: top\">692035170354868224</td>\n",
       "        <td style=\"padding-left: 1em; padding-right: 1em; text-align: center; vertical-align: top\">None</td>\n",
       "        <td style=\"padding-left: 1em; padding-right: 1em; text-align: center; vertical-align: top\">None</td>\n",
       "        <td style=\"padding-left: 1em; padding-right: 1em; text-align: center; vertical-align: top\">None</td>\n",
       "        <td style=\"padding-left: 1em; padding-right: 1em; text-align: center; vertical-align: top\">None</td>\n",
       "        <td style=\"padding-left: 1em; padding-right: 1em; text-align: center; vertical-align: top\">0.762356</td>\n",
       "        <td style=\"padding-left: 1em; padding-right: 1em; text-align: center; vertical-align: top\">None</td>\n",
       "        <td style=\"padding-left: 1em; padding-right: 1em; text-align: center; vertical-align: top\">0.615352</td>\n",
       "    </tr>\n",
       "    <tr>\n",
       "        <td style=\"padding-left: 1em; padding-right: 1em; text-align: center; vertical-align: top\">692034361999302658</td>\n",
       "        <td style=\"padding-left: 1em; padding-right: 1em; text-align: center; vertical-align: top\">None</td>\n",
       "        <td style=\"padding-left: 1em; padding-right: 1em; text-align: center; vertical-align: top\">None</td>\n",
       "        <td style=\"padding-left: 1em; padding-right: 1em; text-align: center; vertical-align: top\">None</td>\n",
       "        <td style=\"padding-left: 1em; padding-right: 1em; text-align: center; vertical-align: top\">None</td>\n",
       "        <td style=\"padding-left: 1em; padding-right: 1em; text-align: center; vertical-align: top\">None</td>\n",
       "        <td style=\"padding-left: 1em; padding-right: 1em; text-align: center; vertical-align: top\">0.942582</td>\n",
       "        <td style=\"padding-left: 1em; padding-right: 1em; text-align: center; vertical-align: top\">None</td>\n",
       "    </tr>\n",
       "    <tr>\n",
       "        <td style=\"padding-left: 1em; padding-right: 1em; text-align: center; vertical-align: top\">692032799222566912</td>\n",
       "        <td style=\"padding-left: 1em; padding-right: 1em; text-align: center; vertical-align: top\">None</td>\n",
       "        <td style=\"padding-left: 1em; padding-right: 1em; text-align: center; vertical-align: top\">None</td>\n",
       "        <td style=\"padding-left: 1em; padding-right: 1em; text-align: center; vertical-align: top\">None</td>\n",
       "        <td style=\"padding-left: 1em; padding-right: 1em; text-align: center; vertical-align: top\">None</td>\n",
       "        <td style=\"padding-left: 1em; padding-right: 1em; text-align: center; vertical-align: top\">None</td>\n",
       "        <td style=\"padding-left: 1em; padding-right: 1em; text-align: center; vertical-align: top\">None</td>\n",
       "        <td style=\"padding-left: 1em; padding-right: 1em; text-align: center; vertical-align: top\">0.58393</td>\n",
       "    </tr>\n",
       "    <tr>\n",
       "        <td style=\"padding-left: 1em; padding-right: 1em; text-align: center; vertical-align: top\">692025407193817088</td>\n",
       "        <td style=\"padding-left: 1em; padding-right: 1em; text-align: center; vertical-align: top\">None</td>\n",
       "        <td style=\"padding-left: 1em; padding-right: 1em; text-align: center; vertical-align: top\">None</td>\n",
       "        <td style=\"padding-left: 1em; padding-right: 1em; text-align: center; vertical-align: top\">None</td>\n",
       "        <td style=\"padding-left: 1em; padding-right: 1em; text-align: center; vertical-align: top\">None</td>\n",
       "        <td style=\"padding-left: 1em; padding-right: 1em; text-align: center; vertical-align: top\">None</td>\n",
       "        <td style=\"padding-left: 1em; padding-right: 1em; text-align: center; vertical-align: top\">0.898327</td>\n",
       "        <td style=\"padding-left: 1em; padding-right: 1em; text-align: center; vertical-align: top\">None</td>\n",
       "    </tr>\n",
       "    <tr>\n",
       "        <td style=\"padding-left: 1em; padding-right: 1em; text-align: center; vertical-align: top\">692023623217844225</td>\n",
       "        <td style=\"padding-left: 1em; padding-right: 1em; text-align: center; vertical-align: top\">None</td>\n",
       "        <td style=\"padding-left: 1em; padding-right: 1em; text-align: center; vertical-align: top\">None</td>\n",
       "        <td style=\"padding-left: 1em; padding-right: 1em; text-align: center; vertical-align: top\">None</td>\n",
       "        <td style=\"padding-left: 1em; padding-right: 1em; text-align: center; vertical-align: top\">None</td>\n",
       "        <td style=\"padding-left: 1em; padding-right: 1em; text-align: center; vertical-align: top\">0.882284</td>\n",
       "        <td style=\"padding-left: 1em; padding-right: 1em; text-align: center; vertical-align: top\">None</td>\n",
       "        <td style=\"padding-left: 1em; padding-right: 1em; text-align: center; vertical-align: top\">None</td>\n",
       "    </tr>\n",
       "    <tr>\n",
       "        <td style=\"padding-left: 1em; padding-right: 1em; text-align: center; vertical-align: top\">692002055779516416</td>\n",
       "        <td style=\"padding-left: 1em; padding-right: 1em; text-align: center; vertical-align: top\">0.557494</td>\n",
       "        <td style=\"padding-left: 1em; padding-right: 1em; text-align: center; vertical-align: top\">None</td>\n",
       "        <td style=\"padding-left: 1em; padding-right: 1em; text-align: center; vertical-align: top\">None</td>\n",
       "        <td style=\"padding-left: 1em; padding-right: 1em; text-align: center; vertical-align: top\">None</td>\n",
       "        <td style=\"padding-left: 1em; padding-right: 1em; text-align: center; vertical-align: top\">None</td>\n",
       "        <td style=\"padding-left: 1em; padding-right: 1em; text-align: center; vertical-align: top\">None</td>\n",
       "        <td style=\"padding-left: 1em; padding-right: 1em; text-align: center; vertical-align: top\">None</td>\n",
       "    </tr>\n",
       "    <tr>\n",
       "        <td style=\"padding-left: 1em; padding-right: 1em; text-align: center; vertical-align: top\">691996058021277700</td>\n",
       "        <td style=\"padding-left: 1em; padding-right: 1em; text-align: center; vertical-align: top\">None</td>\n",
       "        <td style=\"padding-left: 1em; padding-right: 1em; text-align: center; vertical-align: top\">None</td>\n",
       "        <td style=\"padding-left: 1em; padding-right: 1em; text-align: center; vertical-align: top\">None</td>\n",
       "        <td style=\"padding-left: 1em; padding-right: 1em; text-align: center; vertical-align: top\">None</td>\n",
       "        <td style=\"padding-left: 1em; padding-right: 1em; text-align: center; vertical-align: top\">0.532616</td>\n",
       "        <td style=\"padding-left: 1em; padding-right: 1em; text-align: center; vertical-align: top\">0.727798</td>\n",
       "        <td style=\"padding-left: 1em; padding-right: 1em; text-align: center; vertical-align: top\">None</td>\n",
       "    </tr>\n",
       "    <tr>\n",
       "        <td style=\"padding-left: 1em; padding-right: 1em; text-align: center; vertical-align: top\">691995574766166016</td>\n",
       "        <td style=\"padding-left: 1em; padding-right: 1em; text-align: center; vertical-align: top\">0.952048</td>\n",
       "        <td style=\"padding-left: 1em; padding-right: 1em; text-align: center; vertical-align: top\">None</td>\n",
       "        <td style=\"padding-left: 1em; padding-right: 1em; text-align: center; vertical-align: top\">None</td>\n",
       "        <td style=\"padding-left: 1em; padding-right: 1em; text-align: center; vertical-align: top\">None</td>\n",
       "        <td style=\"padding-left: 1em; padding-right: 1em; text-align: center; vertical-align: top\">None</td>\n",
       "        <td style=\"padding-left: 1em; padding-right: 1em; text-align: center; vertical-align: top\">None</td>\n",
       "        <td style=\"padding-left: 1em; padding-right: 1em; text-align: center; vertical-align: top\">0.822231</td>\n",
       "    </tr>\n",
       "    <tr>\n",
       "        <td style=\"padding-left: 1em; padding-right: 1em; text-align: center; vertical-align: top\">691995311741337601</td>\n",
       "        <td style=\"padding-left: 1em; padding-right: 1em; text-align: center; vertical-align: top\">None</td>\n",
       "        <td style=\"padding-left: 1em; padding-right: 1em; text-align: center; vertical-align: top\">None</td>\n",
       "        <td style=\"padding-left: 1em; padding-right: 1em; text-align: center; vertical-align: top\">None</td>\n",
       "        <td style=\"padding-left: 1em; padding-right: 1em; text-align: center; vertical-align: top\">None</td>\n",
       "        <td style=\"padding-left: 1em; padding-right: 1em; text-align: center; vertical-align: top\">0.793846</td>\n",
       "        <td style=\"padding-left: 1em; padding-right: 1em; text-align: center; vertical-align: top\">None</td>\n",
       "        <td style=\"padding-left: 1em; padding-right: 1em; text-align: center; vertical-align: top\">None</td>\n",
       "    </tr>\n",
       "    <tr>\n",
       "        <td style=\"padding-left: 1em; padding-right: 1em; text-align: center; vertical-align: top\">691995070812172289</td>\n",
       "        <td style=\"padding-left: 1em; padding-right: 1em; text-align: center; vertical-align: top\">0.508057</td>\n",
       "        <td style=\"padding-left: 1em; padding-right: 1em; text-align: center; vertical-align: top\">None</td>\n",
       "        <td style=\"padding-left: 1em; padding-right: 1em; text-align: center; vertical-align: top\">None</td>\n",
       "        <td style=\"padding-left: 1em; padding-right: 1em; text-align: center; vertical-align: top\">None</td>\n",
       "        <td style=\"padding-left: 1em; padding-right: 1em; text-align: center; vertical-align: top\">None</td>\n",
       "        <td style=\"padding-left: 1em; padding-right: 1em; text-align: center; vertical-align: top\">None</td>\n",
       "        <td style=\"padding-left: 1em; padding-right: 1em; text-align: center; vertical-align: top\">None</td>\n",
       "    </tr>\n",
       "</table>\n",
       "[6890 rows x 8 columns]<br/>Note: Only the head of the SFrame is printed.<br/>You can use print_rows(num_rows=m, num_columns=n) to print more rows and columns.\n",
       "</div>"
      ],
      "text/plain": [
       "Columns:\n",
       "\tid\tint\n",
       "\tjoy\tfloat\n",
       "\tanger\tfloat\n",
       "\tfear\tfloat\n",
       "\tsadness\tfloat\n",
       "\tanalytical\tfloat\n",
       "\tconfident\tfloat\n",
       "\ttentative\tfloat\n",
       "\n",
       "Rows: 6890\n",
       "\n",
       "Data:\n",
       "+--------------------+----------+-------+------+---------+------------+-----------+\n",
       "|         id         |   joy    | anger | fear | sadness | analytical | confident |\n",
       "+--------------------+----------+-------+------+---------+------------+-----------+\n",
       "| 692035170354868224 |   None   |  None | None |   None  |  0.762356  |    None   |\n",
       "| 692034361999302658 |   None   |  None | None |   None  |    None    |  0.942582 |\n",
       "| 692032799222566912 |   None   |  None | None |   None  |    None    |    None   |\n",
       "| 692025407193817088 |   None   |  None | None |   None  |    None    |  0.898327 |\n",
       "| 692023623217844225 |   None   |  None | None |   None  |  0.882284  |    None   |\n",
       "| 692002055779516416 | 0.557494 |  None | None |   None  |    None    |    None   |\n",
       "| 691996058021277700 |   None   |  None | None |   None  |  0.532616  |  0.727798 |\n",
       "| 691995574766166016 | 0.952048 |  None | None |   None  |    None    |    None   |\n",
       "| 691995311741337601 |   None   |  None | None |   None  |  0.793846  |    None   |\n",
       "| 691995070812172289 | 0.508057 |  None | None |   None  |    None    |    None   |\n",
       "+--------------------+----------+-------+------+---------+------------+-----------+\n",
       "+-----------+\n",
       "| tentative |\n",
       "+-----------+\n",
       "|  0.615352 |\n",
       "|    None   |\n",
       "|  0.58393  |\n",
       "|    None   |\n",
       "|    None   |\n",
       "|    None   |\n",
       "|    None   |\n",
       "|  0.822231 |\n",
       "|    None   |\n",
       "|    None   |\n",
       "+-----------+\n",
       "[6890 rows x 8 columns]\n",
       "Note: Only the head of the SFrame is printed.\n",
       "You can use print_rows(num_rows=m, num_columns=n) to print more rows and columns."
      ]
     },
     "execution_count": 7,
     "metadata": {},
     "output_type": "execute_result"
    }
   ],
   "source": [
    "status_ego_Watson = gl.SFrame.read_csv(data_dir + data_list[4], \n",
    "                                header = True, \n",
    "                                delimiter = ',')\n",
    "status_ego_Watson"
   ]
  },
  {
   "cell_type": "code",
   "execution_count": 8,
   "metadata": {},
   "outputs": [
    {
     "name": "stdout",
     "output_type": "stream",
     "text": [
      "5472 \n",
      "[677510208181043200, 688591800571789312, 691104273346592770, 675328946695569411, 664161842600607748, 637698074752581637, 644136153839304710, 676114013491560449, 674358813315633153, 643768139092656130]\n"
     ]
    }
   ],
   "source": [
    "# Find out cases in status_ego but not in status_ego_Watson\n",
    "diff_set = set(list(status_ego['id'])).difference(set(list(status_ego_Watson['id'])))\n",
    "print len(diff_set), '\\n', list(diff_set)[:10]\n",
    "# 5472 tweets in difference set are either short texts or texts without emotional words"
   ]
  },
  {
   "cell_type": "code",
   "execution_count": 9,
   "metadata": {},
   "outputs": [
    {
     "name": "stdout",
     "output_type": "stream",
     "text": [
      "@PFTompkins Reminds me of when my dad told me to put the dogs of bag food away.\n",
      "RT @cd_hooks: I want to do a series on Texas sex shops https://t.co/aXlccNDoeN\n",
      "Okay. #BobaFett https://t.co/uuEldDcwtr\n",
      "RT @SaintsCSC: Welcome back Brandon! We've not missed you! #Saints - JR https://t.co/FZpbjM1i6e\n",
      "@LisaGray_HouTX Aw, thanks!\n",
      "RT @AlgiersLady: TSA Says It Will Stop Touching So Many Black Women's Hair https://t.co/2EydPJDWtH via @HuffPostPol\n",
      ".@KeithSpera on Allen Toussaint: https://t.co/8z3KGi3ww7\n",
      "RT @lsilverwoman: Will New Medical Schools Help The Doctor Shortage In Texas? It's more complicated than you thought: https://t.co/OAv0Tfxn…\n",
      "RT @nolanolegal: This is important, as my son just tested high for lead: Protecting a New Generation of Poisoned Kids After Katrina http://…\n",
      "@marcspitz Me, too. L'chaim!\n"
     ]
    }
   ],
   "source": [
    "# Take a peek\n",
    "status_ego_new = pd.DataFrame(status_ego)\n",
    "for i in status_ego_new[status_ego_new['id'].isin(list(diff_set)[:10])]['text']:\n",
    "    print i"
   ]
  },
  {
   "cell_type": "markdown",
   "metadata": {},
   "source": [
    "### For the status_ego_LIWC"
   ]
  },
  {
   "cell_type": "code",
   "execution_count": 10,
   "metadata": {},
   "outputs": [
    {
     "data": {
      "text/html": [
       "<pre>Unable to parse line \"650878502858698752,14073680,1444016502.0,\"RT @BreauxMart: BOOM.\"</pre>"
      ],
      "text/plain": [
       "Unable to parse line \"650878502858698752,14073680,1444016502.0,\"RT @BreauxMart: BOOM.\""
      ]
     },
     "metadata": {},
     "output_type": "display_data"
    },
    {
     "data": {
      "text/html": [
       "<pre>Unable to parse line \"Goodnight.\"</pre>"
      ],
      "text/plain": [
       "Unable to parse line \"Goodnight.\""
      ]
     },
     "metadata": {},
     "output_type": "display_data"
    },
    {
     "data": {
      "text/html": [
       "PHByZT5VbmFibGUgdG8gcGFyc2UgbGluZSAiNjMyNjU5NjIyOTQ4NTY0OTkyLDE0MDczNjgwLDE0Mzk2NzI3ODMuMCwiUlQgQGJpbGxtb24xOiAiIkthdHJpbmEgaGFzIGEgbGVzc29uLiBJdOKAmXMgYWJvdXQgd2hhdCBoYXBwZW5zIHdoZW4geW91IGZvbGxvdyBkZXN0cnVjdGl2ZSBhcHByb2FjaCB0byBwb2xpY3kgTWNRdWVhcnkgc2hpbGxzIGZvci4iIiI8L3ByZT4=\n"
      ],
      "text/plain": [
       "VW5hYmxlIHRvIHBhcnNlIGxpbmUgIjYzMjY1OTYyMjk0ODU2NDk5MiwxNDA3MzY4MCwxNDM5NjcyNzgzLjAsIlJUIEBiaWxsbW9uMTogIiJLYXRyaW5hIGhhcyBhIGxlc3Nvbi4gSXTigJlzIGFib3V0IHdoYXQgaGFwcGVucyB3aGVuIHlvdSBmb2xsb3cgZGVzdHJ1Y3RpdmUgYXBwcm9hY2ggdG8gcG9saWN5IE1jUXVlYXJ5IHNoaWxscyBmb3IuIiIi\n"
      ]
     },
     "metadata": {},
     "output_type": "display_data"
    },
    {
     "data": {
      "text/html": [
       "PHByZT5VbmFibGUgdG8gcGFyc2UgbGluZSAiaHR0cDovL3Qu4oCmIiwwLDEzLDEsMCwwLGVuLDIzLDU4Ljc3LDkwLjM4LDI3LjM5LDEuMDAsNy42NywyNi4wOSw3My45MSwzOS4xMywxMy4wNCw0LjM1LDAuMDAsMC4wMCw0LjM1LDAuMDAsMC4wMCw4LjcwLDQuMzUsMTMuMDQsOC43MCw4LjcwLDQuMzUsMC4wMCwxNy4zOSw0LjM1LDAuMDAsOC43MCwwLjAwLDAuMDAsNC4zNSwwLjAwLDQuMzUsMC4wMCw0LjM1LDAuMDAsOC43MCwwLjAwLDAuMDAsMC4wMCwwLjAwLDQuMzUsNC4zNSwwLjAwLDAuMDAsMC4uLiI8L3ByZT4=\n"
      ],
      "text/plain": [
       "VW5hYmxlIHRvIHBhcnNlIGxpbmUgImh0dHA6Ly90LuKApiIsMCwxMywxLDAsMCxlbiwyMyw1OC43Nyw5MC4zOCwyNy4zOSwxLjAwLDcuNjcsMjYuMDksNzMuOTEsMzkuMTMsMTMuMDQsNC4zNSwwLjAwLDAuMDAsNC4zNSwwLjAwLDAuMDAsOC43MCw0LjM1LDEzLjA0LDguNzAsOC43MCw0LjM1LDAuMDAsMTcuMzksNC4zNSwwLjAwLDguNzAsMC4wMCwwLjAwLDQuMzUsMC4wMCw0LjM1LDAuMDAsNC4zNSwwLjAwLDguNzAsMC4wMCwwLjAwLDAuMDAsMC4wMCw0LjM1LDQuMzUsMC4wMCwwLjAwLDAuLi4i\n"
      ]
     },
     "metadata": {},
     "output_type": "display_data"
    },
    {
     "data": {
      "text/html": [
       "<pre>Unable to parse line \"672552509785817088,14073680,1449183988.0,\"RT @cd_hooks: first rule of Texas:\"</pre>"
      ],
      "text/plain": [
       "Unable to parse line \"672552509785817088,14073680,1449183988.0,\"RT @cd_hooks: first rule of Texas:\""
      ]
     },
     "metadata": {},
     "output_type": "display_data"
    },
    {
     "data": {
      "text/html": [
       "<pre>Unable to parse line \"Q) Can the state possibly get dumber?\"</pre>"
      ],
      "text/plain": [
       "Unable to parse line \"Q) Can the state possibly get dumber?\""
      ]
     },
     "metadata": {},
     "output_type": "display_data"
    },
    {
     "data": {
      "text/html": [
       "<pre>Unable to parse line \"A) Yes\",0,19,1,0,0,en,16,99.00,50.00,1.00,1.00,8.00,6.25,75.00,25.00,0.00,0.00,0.00,0.00,0.00,0.00,0.00,0.00,12.50,6.25,6.25,0.00,0.00,0.00,6.25,6.25,6.25,0.00,6.25,0.00,6.25,0.00,6.25,0.00,6.25,0.00,6.25,0.00,0.00,0.00,0.00,6.25,0.00,0.00,0.00,6.25,0.00,0...\"</pre>"
      ],
      "text/plain": [
       "Unable to parse line \"A) Yes\",0,19,1,0,0,en,16,99.00,50.00,1.00,1.00,8.00,6.25,75.00,25.00,0.00,0.00,0.00,0.00,0.00,0.00,0.00,0.00,12.50,6.25,6.25,0.00,0.00,0.00,6.25,6.25,6.25,0.00,6.25,0.00,6.25,0.00,6.25,0.00,6.25,0.00,6.25,0.00,0.00,0.00,0.00,6.25,0.00,0.00,0.00,6.25,0.00,0...\""
      ]
     },
     "metadata": {},
     "output_type": "display_data"
    },
    {
     "data": {
      "text/html": [
       "<pre>Unable to parse line \"672548111168880641,14073680,1449182939.0,\"RT @MarkSReynolds: .@JournalistsLike New Zealand's main daily newspaper asks a question of America on behalf of the world.\"</pre>"
      ],
      "text/plain": [
       "Unable to parse line \"672548111168880641,14073680,1449182939.0,\"RT @MarkSReynolds: .@JournalistsLike New Zealand's main daily newspaper asks a question of America on behalf of the world.\""
      ]
     },
     "metadata": {},
     "output_type": "display_data"
    },
    {
     "data": {
      "text/html": [
       "PHByZT5VbmFibGUgdG8gcGFyc2UgbGluZSAiQG56aGVyYWxkIGh0dHBzOuKApiIsMCwzOSwzLDAsMCxlbiwyMCw5OS4wMCw5My4zMCw3NC43NiwyNS43NywxMC4wMCwzNS4wMCw1NS4wMCwyNS4wMCwwLjAwLDAuMDAsMC4wMCwwLjAwLDAuMDAsMC4wMCwwLjAwLDAuMDAsMTAuMDAsMTUuMDAsMC4wMCwwLjAwLDAuMDAsMC4wMCw1LjAwLDEwLjAwLDAuMDAsMC4wMCwwLjAwLDAuMDAsMC4wMCwwLjAwLDAuMDAsMC4wMCwwLjAwLDAuMDAsMTUuMDAsMC4wMCwwLjAwLDAuMDAsMC4wMCw1LjAwLDUuMDAsMC4uLiI8L3ByZT4=\n"
      ],
      "text/plain": [
       "VW5hYmxlIHRvIHBhcnNlIGxpbmUgIkBuemhlcmFsZCBodHRwczrigKYiLDAsMzksMywwLDAsZW4sMjAsOTkuMDAsOTMuMzAsNzQuNzYsMjUuNzcsMTAuMDAsMzUuMDAsNTUuMDAsMjUuMDAsMC4wMCwwLjAwLDAuMDAsMC4wMCwwLjAwLDAuMDAsMC4wMCwwLjAwLDEwLjAwLDE1LjAwLDAuMDAsMC4wMCwwLjAwLDAuMDAsNS4wMCwxMC4wMCwwLjAwLDAuMDAsMC4wMCwwLjAwLDAuMDAsMC4wMCwwLjAwLDAuMDAsMC4wMCwwLjAwLDE1LjAwLDAuMDAsMC4wMCwwLjAwLDAuMDAsNS4wMCw1LjAwLDAuLi4i\n"
      ]
     },
     "metadata": {},
     "output_type": "display_data"
    },
    {
     "data": {
      "text/html": [
       "<pre>Unable to parse line \"672512097784225793,14073680,1449174353.0,\"RT @SassyTexasGal: Please, if you can. Father of 6 killed in San Bernardino massacre.\"</pre>"
      ],
      "text/plain": [
       "Unable to parse line \"672512097784225793,14073680,1449174353.0,\"RT @SassyTexasGal: Please, if you can. Father of 6 killed in San Bernardino massacre.\""
      ]
     },
     "metadata": {},
     "output_type": "display_data"
    },
    {
     "data": {
      "text/html": [
       "<pre>Unable to parse line \"642704975831822336,14073680,1442067781.0,\"RT @seanhfitz: Someone dredged up the old \"\"What's the worst thing you've seen in EMS?\"\" thing last night. \"</pre>"
      ],
      "text/plain": [
       "Unable to parse line \"642704975831822336,14073680,1442067781.0,\"RT @seanhfitz: Someone dredged up the old \"\"What's the worst thing you've seen in EMS?\"\" thing last night. \""
      ]
     },
     "metadata": {},
     "output_type": "display_data"
    },
    {
     "data": {
      "text/html": [
       "<pre>971 lines failed to parse correctly</pre>"
      ],
      "text/plain": [
       "971 lines failed to parse correctly"
      ]
     },
     "metadata": {},
     "output_type": "display_data"
    },
    {
     "data": {
      "text/html": [
       "<pre>Finished parsing file /Users/lyndon/graphlab/NFL_data/demo/14073680-status_ego-LIWC.csv</pre>"
      ],
      "text/plain": [
       "Finished parsing file /Users/lyndon/graphlab/NFL_data/demo/14073680-status_ego-LIWC.csv"
      ]
     },
     "metadata": {},
     "output_type": "display_data"
    },
    {
     "data": {
      "text/html": [
       "<pre>Parsing completed. Parsed 100 lines in 0.123624 secs.</pre>"
      ],
      "text/plain": [
       "Parsing completed. Parsed 100 lines in 0.123624 secs."
      ]
     },
     "metadata": {},
     "output_type": "display_data"
    },
    {
     "data": {
      "text/html": [
       "<pre>Unable to parse line \"id,user_id,created_at,text,favorite_count,retweet_count,mention_count,is_reply,is_retweet,lang,1,92.84,50.00,1.00,25.77,1.00,0.00,0.00,0.00,0.00,0.00,0.00,0.00,0.00,0.00,0.00,0.00,0.00,0.00,0.00,0.00,0.00,0.00,0.00,0.00,0.00,0.00,0.00,0.00,0.00,0.00,0.00,0...\"</pre>"
      ],
      "text/plain": [
       "Unable to parse line \"id,user_id,created_at,text,favorite_count,retweet_count,mention_count,is_reply,is_retweet,lang,1,92.84,50.00,1.00,25.77,1.00,0.00,0.00,0.00,0.00,0.00,0.00,0.00,0.00,0.00,0.00,0.00,0.00,0.00,0.00,0.00,0.00,0.00,0.00,0.00,0.00,0.00,0.00,0.00,0.00,0.00,0.00,0...\""
      ]
     },
     "metadata": {},
     "output_type": "display_data"
    },
    {
     "data": {
      "text/html": [
       "<pre>Unable to parse line \"650878502858698752,14073680,1444016502.0,\"RT @BreauxMart: BOOM.\"</pre>"
      ],
      "text/plain": [
       "Unable to parse line \"650878502858698752,14073680,1444016502.0,\"RT @BreauxMart: BOOM.\""
      ]
     },
     "metadata": {},
     "output_type": "display_data"
    },
    {
     "data": {
      "text/html": [
       "<pre>Unable to parse line \"642704975831822336,14073680,1442067781.0,\"RT @seanhfitz: Someone dredged up the old \"\"What's the worst thing you've seen in EMS?\"\" thing last night. \"</pre>"
      ],
      "text/plain": [
       "Unable to parse line \"642704975831822336,14073680,1442067781.0,\"RT @seanhfitz: Someone dredged up the old \"\"What's the worst thing you've seen in EMS?\"\" thing last night. \""
      ]
     },
     "metadata": {},
     "output_type": "display_data"
    },
    {
     "data": {
      "text/html": [
       "PHByZT5VbmFibGUgdG8gcGFyc2UgbGluZSAiNjMyNjU5NjIyOTQ4NTY0OTkyLDE0MDczNjgwLDE0Mzk2NzI3ODMuMCwiUlQgQGJpbGxtb24xOiAiIkthdHJpbmEgaGFzIGEgbGVzc29uLiBJdOKAmXMgYWJvdXQgd2hhdCBoYXBwZW5zIHdoZW4geW91IGZvbGxvdyBkZXN0cnVjdGl2ZSBhcHByb2FjaCB0byBwb2xpY3kgTWNRdWVhcnkgc2hpbGxzIGZvci4iIiI8L3ByZT4=\n"
      ],
      "text/plain": [
       "VW5hYmxlIHRvIHBhcnNlIGxpbmUgIjYzMjY1OTYyMjk0ODU2NDk5MiwxNDA3MzY4MCwxNDM5NjcyNzgzLjAsIlJUIEBiaWxsbW9uMTogIiJLYXRyaW5hIGhhcyBhIGxlc3Nvbi4gSXTigJlzIGFib3V0IHdoYXQgaGFwcGVucyB3aGVuIHlvdSBmb2xsb3cgZGVzdHJ1Y3RpdmUgYXBwcm9hY2ggdG8gcG9saWN5IE1jUXVlYXJ5IHNoaWxscyBmb3IuIiIi\n"
      ]
     },
     "metadata": {},
     "output_type": "display_data"
    },
    {
     "data": {
      "text/html": [
       "<pre>Unable to parse line \"Goodnight.\"</pre>"
      ],
      "text/plain": [
       "Unable to parse line \"Goodnight.\""
      ]
     },
     "metadata": {},
     "output_type": "display_data"
    },
    {
     "data": {
      "text/html": [
       "<pre>Unable to parse line \"\"\"Looking at my own soul.\"\"\",0,1,1,0,0,en,23,70.30,90.38,94.19,1.00,7.67,17.39,82.61,47.83,26.09,8.70,4.35,0.00,4.35,0.00,0.00,17.39,8.70,13.04,8.70,0.00,0.00,0.00,17.39,4.35,4.35,4.35,0.00,0.00,4.35,0.00,4.35,0.00,0.00,0.00,13.04,0.00,0.00,0.00,0.00,4.35,...\"</pre>"
      ],
      "text/plain": [
       "Unable to parse line \"\"\"Looking at my own soul.\"\"\",0,1,1,0,0,en,23,70.30,90.38,94.19,1.00,7.67,17.39,82.61,47.83,26.09,8.70,4.35,0.00,4.35,0.00,0.00,17.39,8.70,13.04,8.70,0.00,0.00,0.00,17.39,4.35,4.35,4.35,0.00,0.00,4.35,0.00,4.35,0.00,0.00,0.00,13.04,0.00,0.00,0.00,0.00,4.35,...\""
      ]
     },
     "metadata": {},
     "output_type": "display_data"
    },
    {
     "data": {
      "text/html": [
       "PHByZT5VbmFibGUgdG8gcGFyc2UgbGluZSAiaHR0cDovL3Qu4oCmIiwwLDEzLDEsMCwwLGVuLDIzLDU4Ljc3LDkwLjM4LDI3LjM5LDEuMDAsNy42NywyNi4wOSw3My45MSwzOS4xMywxMy4wNCw0LjM1LDAuMDAsMC4wMCw0LjM1LDAuMDAsMC4wMCw4LjcwLDQuMzUsMTMuMDQsOC43MCw4LjcwLDQuMzUsMC4wMCwxNy4zOSw0LjM1LDAuMDAsOC43MCwwLjAwLDAuMDAsNC4zNSwwLjAwLDQuMzUsMC4wMCw0LjM1LDAuMDAsOC43MCwwLjAwLDAuMDAsMC4wMCwwLjAwLDQuMzUsNC4zNSwwLjAwLDAuMDAsMC4uLiI8L3ByZT4=\n"
      ],
      "text/plain": [
       "VW5hYmxlIHRvIHBhcnNlIGxpbmUgImh0dHA6Ly90LuKApiIsMCwxMywxLDAsMCxlbiwyMyw1OC43Nyw5MC4zOCwyNy4zOSwxLjAwLDcuNjcsMjYuMDksNzMuOTEsMzkuMTMsMTMuMDQsNC4zNSwwLjAwLDAuMDAsNC4zNSwwLjAwLDAuMDAsOC43MCw0LjM1LDEzLjA0LDguNzAsOC43MCw0LjM1LDAuMDAsMTcuMzksNC4zNSwwLjAwLDguNzAsMC4wMCwwLjAwLDQuMzUsMC4wMCw0LjM1LDAuMDAsNC4zNSwwLjAwLDguNzAsMC4wMCwwLjAwLDAuMDAsMC4wMCw0LjM1LDQuMzUsMC4wMCwwLjAwLDAuLi4i\n"
      ]
     },
     "metadata": {},
     "output_type": "display_data"
    },
    {
     "data": {
      "text/html": [
       "<pre>Unable to parse line \"642558163523276800,14073680,1442032778.0,\"RT @pattonoswalt: David Lovering as Larry\"</pre>"
      ],
      "text/plain": [
       "Unable to parse line \"642558163523276800,14073680,1442032778.0,\"RT @pattonoswalt: David Lovering as Larry\""
      ]
     },
     "metadata": {},
     "output_type": "display_data"
    },
    {
     "data": {
      "text/html": [
       "<pre>Unable to parse line \"Kim Deal as Moe\"</pre>"
      ],
      "text/plain": [
       "Unable to parse line \"Kim Deal as Moe\""
      ]
     },
     "metadata": {},
     "output_type": "display_data"
    },
    {
     "data": {
      "text/html": [
       "<pre>Unable to parse line \"Black Francis as Curly\"</pre>"
      ],
      "text/plain": [
       "Unable to parse line \"Black Francis as Curly\""
      ]
     },
     "metadata": {},
     "output_type": "display_data"
    },
    {
     "data": {
      "text/html": [
       "<pre>973 lines failed to parse correctly</pre>"
      ],
      "text/plain": [
       "973 lines failed to parse correctly"
      ]
     },
     "metadata": {},
     "output_type": "display_data"
    },
    {
     "data": {
      "text/html": [
       "<pre>Finished parsing file /Users/lyndon/graphlab/NFL_data/demo/14073680-status_ego-LIWC.csv</pre>"
      ],
      "text/plain": [
       "Finished parsing file /Users/lyndon/graphlab/NFL_data/demo/14073680-status_ego-LIWC.csv"
      ]
     },
     "metadata": {},
     "output_type": "display_data"
    },
    {
     "data": {
      "text/html": [
       "<pre>Parsing completed. Parsed 12160 lines in 0.178126 secs.</pre>"
      ],
      "text/plain": [
       "Parsing completed. Parsed 12160 lines in 0.178126 secs."
      ]
     },
     "metadata": {},
     "output_type": "display_data"
    },
    {
     "data": {
      "text/html": [
       "<div style=\"max-height:1000px;max-width:1500px;overflow:auto;\"><table frame=\"box\" rules=\"cols\">\n",
       "    <tr>\n",
       "        <th style=\"padding-left: 1em; padding-right: 1em; text-align: center\">A</th>\n",
       "        <th style=\"padding-left: 1em; padding-right: 1em; text-align: center\">B</th>\n",
       "        <th style=\"padding-left: 1em; padding-right: 1em; text-align: center\">C</th>\n",
       "        <th style=\"padding-left: 1em; padding-right: 1em; text-align: center\">D</th>\n",
       "        <th style=\"padding-left: 1em; padding-right: 1em; text-align: center\">E</th>\n",
       "        <th style=\"padding-left: 1em; padding-right: 1em; text-align: center\">F</th>\n",
       "        <th style=\"padding-left: 1em; padding-right: 1em; text-align: center\">G</th>\n",
       "        <th style=\"padding-left: 1em; padding-right: 1em; text-align: center\">H</th>\n",
       "        <th style=\"padding-left: 1em; padding-right: 1em; text-align: center\">I</th>\n",
       "        <th style=\"padding-left: 1em; padding-right: 1em; text-align: center\">J</th>\n",
       "        <th style=\"padding-left: 1em; padding-right: 1em; text-align: center\">WC</th>\n",
       "        <th style=\"padding-left: 1em; padding-right: 1em; text-align: center\">Analytic</th>\n",
       "    </tr>\n",
       "    <tr>\n",
       "        <td style=\"padding-left: 1em; padding-right: 1em; text-align: center; vertical-align: top\">692040748263297024</td>\n",
       "        <td style=\"padding-left: 1em; padding-right: 1em; text-align: center; vertical-align: top\">14073680</td>\n",
       "        <td style=\"padding-left: 1em; padding-right: 1em; text-align: center; vertical-align: top\">1453830346.0</td>\n",
       "        <td style=\"padding-left: 1em; padding-right: 1em; text-align: center; vertical-align: top\">RT @gadboislensnola: AIR<br>BNB proposing to collect ...</td>\n",
       "        <td style=\"padding-left: 1em; padding-right: 1em; text-align: center; vertical-align: top\">0</td>\n",
       "        <td style=\"padding-left: 1em; padding-right: 1em; text-align: center; vertical-align: top\">3</td>\n",
       "        <td style=\"padding-left: 1em; padding-right: 1em; text-align: center; vertical-align: top\">1</td>\n",
       "        <td style=\"padding-left: 1em; padding-right: 1em; text-align: center; vertical-align: top\">0</td>\n",
       "        <td style=\"padding-left: 1em; padding-right: 1em; text-align: center; vertical-align: top\">0</td>\n",
       "        <td style=\"padding-left: 1em; padding-right: 1em; text-align: center; vertical-align: top\">en</td>\n",
       "        <td style=\"padding-left: 1em; padding-right: 1em; text-align: center; vertical-align: top\">13</td>\n",
       "        <td style=\"padding-left: 1em; padding-right: 1em; text-align: center; vertical-align: top\">97.77</td>\n",
       "    </tr>\n",
       "    <tr>\n",
       "        <td style=\"padding-left: 1em; padding-right: 1em; text-align: center; vertical-align: top\">692035170354868224</td>\n",
       "        <td style=\"padding-left: 1em; padding-right: 1em; text-align: center; vertical-align: top\">14073680</td>\n",
       "        <td style=\"padding-left: 1em; padding-right: 1em; text-align: center; vertical-align: top\">1453829016.0</td>\n",
       "        <td style=\"padding-left: 1em; padding-right: 1em; text-align: center; vertical-align: top\">@fransco @NOLA_Fredo I<br>have no idea. Talk about ...</td>\n",
       "        <td style=\"padding-left: 1em; padding-right: 1em; text-align: center; vertical-align: top\">0</td>\n",
       "        <td style=\"padding-left: 1em; padding-right: 1em; text-align: center; vertical-align: top\">0</td>\n",
       "        <td style=\"padding-left: 1em; padding-right: 1em; text-align: center; vertical-align: top\">2</td>\n",
       "        <td style=\"padding-left: 1em; padding-right: 1em; text-align: center; vertical-align: top\">1</td>\n",
       "        <td style=\"padding-left: 1em; padding-right: 1em; text-align: center; vertical-align: top\">0</td>\n",
       "        <td style=\"padding-left: 1em; padding-right: 1em; text-align: center; vertical-align: top\">en</td>\n",
       "        <td style=\"padding-left: 1em; padding-right: 1em; text-align: center; vertical-align: top\">11</td>\n",
       "        <td style=\"padding-left: 1em; padding-right: 1em; text-align: center; vertical-align: top\">31.44</td>\n",
       "    </tr>\n",
       "    <tr>\n",
       "        <td style=\"padding-left: 1em; padding-right: 1em; text-align: center; vertical-align: top\">692034361999302658</td>\n",
       "        <td style=\"padding-left: 1em; padding-right: 1em; text-align: center; vertical-align: top\">14073680</td>\n",
       "        <td style=\"padding-left: 1em; padding-right: 1em; text-align: center; vertical-align: top\">1453828823.0</td>\n",
       "        <td style=\"padding-left: 1em; padding-right: 1em; text-align: center; vertical-align: top\">Yes. God help us all.<br>https://t.co/DXUCUlyzBZ ...</td>\n",
       "        <td style=\"padding-left: 1em; padding-right: 1em; text-align: center; vertical-align: top\">0</td>\n",
       "        <td style=\"padding-left: 1em; padding-right: 1em; text-align: center; vertical-align: top\">0</td>\n",
       "        <td style=\"padding-left: 1em; padding-right: 1em; text-align: center; vertical-align: top\">0</td>\n",
       "        <td style=\"padding-left: 1em; padding-right: 1em; text-align: center; vertical-align: top\">0</td>\n",
       "        <td style=\"padding-left: 1em; padding-right: 1em; text-align: center; vertical-align: top\">0</td>\n",
       "        <td style=\"padding-left: 1em; padding-right: 1em; text-align: center; vertical-align: top\">en</td>\n",
       "        <td style=\"padding-left: 1em; padding-right: 1em; text-align: center; vertical-align: top\">10</td>\n",
       "        <td style=\"padding-left: 1em; padding-right: 1em; text-align: center; vertical-align: top\">77.33</td>\n",
       "    </tr>\n",
       "    <tr>\n",
       "        <td style=\"padding-left: 1em; padding-right: 1em; text-align: center; vertical-align: top\">692033806270763008</td>\n",
       "        <td style=\"padding-left: 1em; padding-right: 1em; text-align: center; vertical-align: top\">14073680</td>\n",
       "        <td style=\"padding-left: 1em; padding-right: 1em; text-align: center; vertical-align: top\">1453828691.0</td>\n",
       "        <td style=\"padding-left: 1em; padding-right: 1em; text-align: center; vertical-align: top\">Patrick Swayze's Bodhi<br>would kick the asses of ...</td>\n",
       "        <td style=\"padding-left: 1em; padding-right: 1em; text-align: center; vertical-align: top\">4</td>\n",
       "        <td style=\"padding-left: 1em; padding-right: 1em; text-align: center; vertical-align: top\">0</td>\n",
       "        <td style=\"padding-left: 1em; padding-right: 1em; text-align: center; vertical-align: top\">0</td>\n",
       "        <td style=\"padding-left: 1em; padding-right: 1em; text-align: center; vertical-align: top\">0</td>\n",
       "        <td style=\"padding-left: 1em; padding-right: 1em; text-align: center; vertical-align: top\">0</td>\n",
       "        <td style=\"padding-left: 1em; padding-right: 1em; text-align: center; vertical-align: top\">en</td>\n",
       "        <td style=\"padding-left: 1em; padding-right: 1em; text-align: center; vertical-align: top\">21</td>\n",
       "        <td style=\"padding-left: 1em; padding-right: 1em; text-align: center; vertical-align: top\">99.0</td>\n",
       "    </tr>\n",
       "    <tr>\n",
       "        <td style=\"padding-left: 1em; padding-right: 1em; text-align: center; vertical-align: top\">692033257081217024</td>\n",
       "        <td style=\"padding-left: 1em; padding-right: 1em; text-align: center; vertical-align: top\">14073680</td>\n",
       "        <td style=\"padding-left: 1em; padding-right: 1em; text-align: center; vertical-align: top\">1453828560.0</td>\n",
       "        <td style=\"padding-left: 1em; padding-right: 1em; text-align: center; vertical-align: top\">Duuuuude.<br>https://t.co/8ZZXmnaIQT ...</td>\n",
       "        <td style=\"padding-left: 1em; padding-right: 1em; text-align: center; vertical-align: top\">0</td>\n",
       "        <td style=\"padding-left: 1em; padding-right: 1em; text-align: center; vertical-align: top\">0</td>\n",
       "        <td style=\"padding-left: 1em; padding-right: 1em; text-align: center; vertical-align: top\">0</td>\n",
       "        <td style=\"padding-left: 1em; padding-right: 1em; text-align: center; vertical-align: top\">0</td>\n",
       "        <td style=\"padding-left: 1em; padding-right: 1em; text-align: center; vertical-align: top\">0</td>\n",
       "        <td style=\"padding-left: 1em; padding-right: 1em; text-align: center; vertical-align: top\">en</td>\n",
       "        <td style=\"padding-left: 1em; padding-right: 1em; text-align: center; vertical-align: top\">6</td>\n",
       "        <td style=\"padding-left: 1em; padding-right: 1em; text-align: center; vertical-align: top\">92.84</td>\n",
       "    </tr>\n",
       "    <tr>\n",
       "        <td style=\"padding-left: 1em; padding-right: 1em; text-align: center; vertical-align: top\">692032799222566912</td>\n",
       "        <td style=\"padding-left: 1em; padding-right: 1em; text-align: center; vertical-align: top\">14073680</td>\n",
       "        <td style=\"padding-left: 1em; padding-right: 1em; text-align: center; vertical-align: top\">1453828451.0</td>\n",
       "        <td style=\"padding-left: 1em; padding-right: 1em; text-align: center; vertical-align: top\">The current @BeingNOLA<br>seems to be igniting a ...</td>\n",
       "        <td style=\"padding-left: 1em; padding-right: 1em; text-align: center; vertical-align: top\">3</td>\n",
       "        <td style=\"padding-left: 1em; padding-right: 1em; text-align: center; vertical-align: top\">0</td>\n",
       "        <td style=\"padding-left: 1em; padding-right: 1em; text-align: center; vertical-align: top\">1</td>\n",
       "        <td style=\"padding-left: 1em; padding-right: 1em; text-align: center; vertical-align: top\">0</td>\n",
       "        <td style=\"padding-left: 1em; padding-right: 1em; text-align: center; vertical-align: top\">0</td>\n",
       "        <td style=\"padding-left: 1em; padding-right: 1em; text-align: center; vertical-align: top\">en</td>\n",
       "        <td style=\"padding-left: 1em; padding-right: 1em; text-align: center; vertical-align: top\">17</td>\n",
       "        <td style=\"padding-left: 1em; padding-right: 1em; text-align: center; vertical-align: top\">99.0</td>\n",
       "    </tr>\n",
       "    <tr>\n",
       "        <td style=\"padding-left: 1em; padding-right: 1em; text-align: center; vertical-align: top\">692025407193817088</td>\n",
       "        <td style=\"padding-left: 1em; padding-right: 1em; text-align: center; vertical-align: top\">14073680</td>\n",
       "        <td style=\"padding-left: 1em; padding-right: 1em; text-align: center; vertical-align: top\">1453826688.0</td>\n",
       "        <td style=\"padding-left: 1em; padding-right: 1em; text-align: center; vertical-align: top\">RT @amaditalks: This,<br>entirely. ...</td>\n",
       "        <td style=\"padding-left: 1em; padding-right: 1em; text-align: center; vertical-align: top\">0</td>\n",
       "        <td style=\"padding-left: 1em; padding-right: 1em; text-align: center; vertical-align: top\">28</td>\n",
       "        <td style=\"padding-left: 1em; padding-right: 1em; text-align: center; vertical-align: top\">1</td>\n",
       "        <td style=\"padding-left: 1em; padding-right: 1em; text-align: center; vertical-align: top\">0</td>\n",
       "        <td style=\"padding-left: 1em; padding-right: 1em; text-align: center; vertical-align: top\">0</td>\n",
       "        <td style=\"padding-left: 1em; padding-right: 1em; text-align: center; vertical-align: top\">en</td>\n",
       "        <td style=\"padding-left: 1em; padding-right: 1em; text-align: center; vertical-align: top\">9</td>\n",
       "        <td style=\"padding-left: 1em; padding-right: 1em; text-align: center; vertical-align: top\">74.89</td>\n",
       "    </tr>\n",
       "    <tr>\n",
       "        <td style=\"padding-left: 1em; padding-right: 1em; text-align: center; vertical-align: top\">692025326180835329</td>\n",
       "        <td style=\"padding-left: 1em; padding-right: 1em; text-align: center; vertical-align: top\">14073680</td>\n",
       "        <td style=\"padding-left: 1em; padding-right: 1em; text-align: center; vertical-align: top\">1453826669.0</td>\n",
       "        <td style=\"padding-left: 1em; padding-right: 1em; text-align: center; vertical-align: top\">RT @amaditalks: Think<br>about what this is ...</td>\n",
       "        <td style=\"padding-left: 1em; padding-right: 1em; text-align: center; vertical-align: top\">0</td>\n",
       "        <td style=\"padding-left: 1em; padding-right: 1em; text-align: center; vertical-align: top\">11</td>\n",
       "        <td style=\"padding-left: 1em; padding-right: 1em; text-align: center; vertical-align: top\">1</td>\n",
       "        <td style=\"padding-left: 1em; padding-right: 1em; text-align: center; vertical-align: top\">0</td>\n",
       "        <td style=\"padding-left: 1em; padding-right: 1em; text-align: center; vertical-align: top\">0</td>\n",
       "        <td style=\"padding-left: 1em; padding-right: 1em; text-align: center; vertical-align: top\">en</td>\n",
       "        <td style=\"padding-left: 1em; padding-right: 1em; text-align: center; vertical-align: top\">13</td>\n",
       "        <td style=\"padding-left: 1em; padding-right: 1em; text-align: center; vertical-align: top\">42.69</td>\n",
       "    </tr>\n",
       "    <tr>\n",
       "        <td style=\"padding-left: 1em; padding-right: 1em; text-align: center; vertical-align: top\">692023623217844225</td>\n",
       "        <td style=\"padding-left: 1em; padding-right: 1em; text-align: center; vertical-align: top\">14073680</td>\n",
       "        <td style=\"padding-left: 1em; padding-right: 1em; text-align: center; vertical-align: top\">1453826263.0</td>\n",
       "        <td style=\"padding-left: 1em; padding-right: 1em; text-align: center; vertical-align: top\">\"The idea was to<br>experiment with fiction ...</td>\n",
       "        <td style=\"padding-left: 1em; padding-right: 1em; text-align: center; vertical-align: top\">2</td>\n",
       "        <td style=\"padding-left: 1em; padding-right: 1em; text-align: center; vertical-align: top\">0</td>\n",
       "        <td style=\"padding-left: 1em; padding-right: 1em; text-align: center; vertical-align: top\">0</td>\n",
       "        <td style=\"padding-left: 1em; padding-right: 1em; text-align: center; vertical-align: top\">0</td>\n",
       "        <td style=\"padding-left: 1em; padding-right: 1em; text-align: center; vertical-align: top\">0</td>\n",
       "        <td style=\"padding-left: 1em; padding-right: 1em; text-align: center; vertical-align: top\">en</td>\n",
       "        <td style=\"padding-left: 1em; padding-right: 1em; text-align: center; vertical-align: top\">19</td>\n",
       "        <td style=\"padding-left: 1em; padding-right: 1em; text-align: center; vertical-align: top\">99.0</td>\n",
       "    </tr>\n",
       "    <tr>\n",
       "        <td style=\"padding-left: 1em; padding-right: 1em; text-align: center; vertical-align: top\">692002055779516416</td>\n",
       "        <td style=\"padding-left: 1em; padding-right: 1em; text-align: center; vertical-align: top\">14073680</td>\n",
       "        <td style=\"padding-left: 1em; padding-right: 1em; text-align: center; vertical-align: top\">1453821121.0</td>\n",
       "        <td style=\"padding-left: 1em; padding-right: 1em; text-align: center; vertical-align: top\">“'Soviet radiation,' he<br>joked, 'is the best ...</td>\n",
       "        <td style=\"padding-left: 1em; padding-right: 1em; text-align: center; vertical-align: top\">2</td>\n",
       "        <td style=\"padding-left: 1em; padding-right: 1em; text-align: center; vertical-align: top\">2</td>\n",
       "        <td style=\"padding-left: 1em; padding-right: 1em; text-align: center; vertical-align: top\">0</td>\n",
       "        <td style=\"padding-left: 1em; padding-right: 1em; text-align: center; vertical-align: top\">0</td>\n",
       "        <td style=\"padding-left: 1em; padding-right: 1em; text-align: center; vertical-align: top\">0</td>\n",
       "        <td style=\"padding-left: 1em; padding-right: 1em; text-align: center; vertical-align: top\">en</td>\n",
       "        <td style=\"padding-left: 1em; padding-right: 1em; text-align: center; vertical-align: top\">21</td>\n",
       "        <td style=\"padding-left: 1em; padding-right: 1em; text-align: center; vertical-align: top\">92.84</td>\n",
       "    </tr>\n",
       "</table>\n",
       "<table frame=\"box\" rules=\"cols\">\n",
       "    <tr>\n",
       "        <th style=\"padding-left: 1em; padding-right: 1em; text-align: center\">Clout</th>\n",
       "        <th style=\"padding-left: 1em; padding-right: 1em; text-align: center\">Authentic</th>\n",
       "        <th style=\"padding-left: 1em; padding-right: 1em; text-align: center\">Tone</th>\n",
       "        <th style=\"padding-left: 1em; padding-right: 1em; text-align: center\">WPS</th>\n",
       "        <th style=\"padding-left: 1em; padding-right: 1em; text-align: center\">Sixltr</th>\n",
       "        <th style=\"padding-left: 1em; padding-right: 1em; text-align: center\">Dic</th>\n",
       "        <th style=\"padding-left: 1em; padding-right: 1em; text-align: center\">function</th>\n",
       "        <th style=\"padding-left: 1em; padding-right: 1em; text-align: center\">pronoun</th>\n",
       "        <th style=\"padding-left: 1em; padding-right: 1em; text-align: center\">ppron</th>\n",
       "        <th style=\"padding-left: 1em; padding-right: 1em; text-align: center\">i</th>\n",
       "        <th style=\"padding-left: 1em; padding-right: 1em; text-align: center\">we</th>\n",
       "        <th style=\"padding-left: 1em; padding-right: 1em; text-align: center\">you</th>\n",
       "        <th style=\"padding-left: 1em; padding-right: 1em; text-align: center\">shehe</th>\n",
       "        <th style=\"padding-left: 1em; padding-right: 1em; text-align: center\">they</th>\n",
       "    </tr>\n",
       "    <tr>\n",
       "        <td style=\"padding-left: 1em; padding-right: 1em; text-align: center; vertical-align: top\">77.92</td>\n",
       "        <td style=\"padding-left: 1em; padding-right: 1em; text-align: center; vertical-align: top\">1.4</td>\n",
       "        <td style=\"padding-left: 1em; padding-right: 1em; text-align: center; vertical-align: top\">25.77</td>\n",
       "        <td style=\"padding-left: 1em; padding-right: 1em; text-align: center; vertical-align: top\">13.0</td>\n",
       "        <td style=\"padding-left: 1em; padding-right: 1em; text-align: center; vertical-align: top\">30.77</td>\n",
       "        <td style=\"padding-left: 1em; padding-right: 1em; text-align: center; vertical-align: top\">38.46</td>\n",
       "        <td style=\"padding-left: 1em; padding-right: 1em; text-align: center; vertical-align: top\">7.69</td>\n",
       "        <td style=\"padding-left: 1em; padding-right: 1em; text-align: center; vertical-align: top\">0.0</td>\n",
       "        <td style=\"padding-left: 1em; padding-right: 1em; text-align: center; vertical-align: top\">0.0</td>\n",
       "        <td style=\"padding-left: 1em; padding-right: 1em; text-align: center; vertical-align: top\">0.0</td>\n",
       "        <td style=\"padding-left: 1em; padding-right: 1em; text-align: center; vertical-align: top\">0.0</td>\n",
       "        <td style=\"padding-left: 1em; padding-right: 1em; text-align: center; vertical-align: top\">0.0</td>\n",
       "        <td style=\"padding-left: 1em; padding-right: 1em; text-align: center; vertical-align: top\">0.0</td>\n",
       "        <td style=\"padding-left: 1em; padding-right: 1em; text-align: center; vertical-align: top\">0.0</td>\n",
       "    </tr>\n",
       "    <tr>\n",
       "        <td style=\"padding-left: 1em; padding-right: 1em; text-align: center; vertical-align: top\">50.0</td>\n",
       "        <td style=\"padding-left: 1em; padding-right: 1em; text-align: center; vertical-align: top\">31.94</td>\n",
       "        <td style=\"padding-left: 1em; padding-right: 1em; text-align: center; vertical-align: top\">25.77</td>\n",
       "        <td style=\"padding-left: 1em; padding-right: 1em; text-align: center; vertical-align: top\">5.5</td>\n",
       "        <td style=\"padding-left: 1em; padding-right: 1em; text-align: center; vertical-align: top\">18.18</td>\n",
       "        <td style=\"padding-left: 1em; padding-right: 1em; text-align: center; vertical-align: top\">72.73</td>\n",
       "        <td style=\"padding-left: 1em; padding-right: 1em; text-align: center; vertical-align: top\">36.36</td>\n",
       "        <td style=\"padding-left: 1em; padding-right: 1em; text-align: center; vertical-align: top\">9.09</td>\n",
       "        <td style=\"padding-left: 1em; padding-right: 1em; text-align: center; vertical-align: top\">9.09</td>\n",
       "        <td style=\"padding-left: 1em; padding-right: 1em; text-align: center; vertical-align: top\">9.09</td>\n",
       "        <td style=\"padding-left: 1em; padding-right: 1em; text-align: center; vertical-align: top\">0.0</td>\n",
       "        <td style=\"padding-left: 1em; padding-right: 1em; text-align: center; vertical-align: top\">0.0</td>\n",
       "        <td style=\"padding-left: 1em; padding-right: 1em; text-align: center; vertical-align: top\">0.0</td>\n",
       "        <td style=\"padding-left: 1em; padding-right: 1em; text-align: center; vertical-align: top\">0.0</td>\n",
       "    </tr>\n",
       "    <tr>\n",
       "        <td style=\"padding-left: 1em; padding-right: 1em; text-align: center; vertical-align: top\">99.0</td>\n",
       "        <td style=\"padding-left: 1em; padding-right: 1em; text-align: center; vertical-align: top\">1.0</td>\n",
       "        <td style=\"padding-left: 1em; padding-right: 1em; text-align: center; vertical-align: top\">25.77</td>\n",
       "        <td style=\"padding-left: 1em; padding-right: 1em; text-align: center; vertical-align: top\">3.33</td>\n",
       "        <td style=\"padding-left: 1em; padding-right: 1em; text-align: center; vertical-align: top\">10.0</td>\n",
       "        <td style=\"padding-left: 1em; padding-right: 1em; text-align: center; vertical-align: top\">60.0</td>\n",
       "        <td style=\"padding-left: 1em; padding-right: 1em; text-align: center; vertical-align: top\">10.0</td>\n",
       "        <td style=\"padding-left: 1em; padding-right: 1em; text-align: center; vertical-align: top\">10.0</td>\n",
       "        <td style=\"padding-left: 1em; padding-right: 1em; text-align: center; vertical-align: top\">10.0</td>\n",
       "        <td style=\"padding-left: 1em; padding-right: 1em; text-align: center; vertical-align: top\">0.0</td>\n",
       "        <td style=\"padding-left: 1em; padding-right: 1em; text-align: center; vertical-align: top\">10.0</td>\n",
       "        <td style=\"padding-left: 1em; padding-right: 1em; text-align: center; vertical-align: top\">0.0</td>\n",
       "        <td style=\"padding-left: 1em; padding-right: 1em; text-align: center; vertical-align: top\">0.0</td>\n",
       "        <td style=\"padding-left: 1em; padding-right: 1em; text-align: center; vertical-align: top\">0.0</td>\n",
       "    </tr>\n",
       "    <tr>\n",
       "        <td style=\"padding-left: 1em; padding-right: 1em; text-align: center; vertical-align: top\">31.71</td>\n",
       "        <td style=\"padding-left: 1em; padding-right: 1em; text-align: center; vertical-align: top\">68.01</td>\n",
       "        <td style=\"padding-left: 1em; padding-right: 1em; text-align: center; vertical-align: top\">25.77</td>\n",
       "        <td style=\"padding-left: 1em; padding-right: 1em; text-align: center; vertical-align: top\">21.0</td>\n",
       "        <td style=\"padding-left: 1em; padding-right: 1em; text-align: center; vertical-align: top\">9.52</td>\n",
       "        <td style=\"padding-left: 1em; padding-right: 1em; text-align: center; vertical-align: top\">71.43</td>\n",
       "        <td style=\"padding-left: 1em; padding-right: 1em; text-align: center; vertical-align: top\">38.1</td>\n",
       "        <td style=\"padding-left: 1em; padding-right: 1em; text-align: center; vertical-align: top\">0.0</td>\n",
       "        <td style=\"padding-left: 1em; padding-right: 1em; text-align: center; vertical-align: top\">0.0</td>\n",
       "        <td style=\"padding-left: 1em; padding-right: 1em; text-align: center; vertical-align: top\">0.0</td>\n",
       "        <td style=\"padding-left: 1em; padding-right: 1em; text-align: center; vertical-align: top\">0.0</td>\n",
       "        <td style=\"padding-left: 1em; padding-right: 1em; text-align: center; vertical-align: top\">0.0</td>\n",
       "        <td style=\"padding-left: 1em; padding-right: 1em; text-align: center; vertical-align: top\">0.0</td>\n",
       "        <td style=\"padding-left: 1em; padding-right: 1em; text-align: center; vertical-align: top\">0.0</td>\n",
       "    </tr>\n",
       "    <tr>\n",
       "        <td style=\"padding-left: 1em; padding-right: 1em; text-align: center; vertical-align: top\">50.0</td>\n",
       "        <td style=\"padding-left: 1em; padding-right: 1em; text-align: center; vertical-align: top\">1.0</td>\n",
       "        <td style=\"padding-left: 1em; padding-right: 1em; text-align: center; vertical-align: top\">25.77</td>\n",
       "        <td style=\"padding-left: 1em; padding-right: 1em; text-align: center; vertical-align: top\">3.0</td>\n",
       "        <td style=\"padding-left: 1em; padding-right: 1em; text-align: center; vertical-align: top\">33.33</td>\n",
       "        <td style=\"padding-left: 1em; padding-right: 1em; text-align: center; vertical-align: top\">16.67</td>\n",
       "        <td style=\"padding-left: 1em; padding-right: 1em; text-align: center; vertical-align: top\">0.0</td>\n",
       "        <td style=\"padding-left: 1em; padding-right: 1em; text-align: center; vertical-align: top\">0.0</td>\n",
       "        <td style=\"padding-left: 1em; padding-right: 1em; text-align: center; vertical-align: top\">0.0</td>\n",
       "        <td style=\"padding-left: 1em; padding-right: 1em; text-align: center; vertical-align: top\">0.0</td>\n",
       "        <td style=\"padding-left: 1em; padding-right: 1em; text-align: center; vertical-align: top\">0.0</td>\n",
       "        <td style=\"padding-left: 1em; padding-right: 1em; text-align: center; vertical-align: top\">0.0</td>\n",
       "        <td style=\"padding-left: 1em; padding-right: 1em; text-align: center; vertical-align: top\">0.0</td>\n",
       "        <td style=\"padding-left: 1em; padding-right: 1em; text-align: center; vertical-align: top\">0.0</td>\n",
       "    </tr>\n",
       "    <tr>\n",
       "        <td style=\"padding-left: 1em; padding-right: 1em; text-align: center; vertical-align: top\">50.0</td>\n",
       "        <td style=\"padding-left: 1em; padding-right: 1em; text-align: center; vertical-align: top\">66.34</td>\n",
       "        <td style=\"padding-left: 1em; padding-right: 1em; text-align: center; vertical-align: top\">1.0</td>\n",
       "        <td style=\"padding-left: 1em; padding-right: 1em; text-align: center; vertical-align: top\">17.0</td>\n",
       "        <td style=\"padding-left: 1em; padding-right: 1em; text-align: center; vertical-align: top\">35.29</td>\n",
       "        <td style=\"padding-left: 1em; padding-right: 1em; text-align: center; vertical-align: top\">70.59</td>\n",
       "        <td style=\"padding-left: 1em; padding-right: 1em; text-align: center; vertical-align: top\">41.18</td>\n",
       "        <td style=\"padding-left: 1em; padding-right: 1em; text-align: center; vertical-align: top\">0.0</td>\n",
       "        <td style=\"padding-left: 1em; padding-right: 1em; text-align: center; vertical-align: top\">0.0</td>\n",
       "        <td style=\"padding-left: 1em; padding-right: 1em; text-align: center; vertical-align: top\">0.0</td>\n",
       "        <td style=\"padding-left: 1em; padding-right: 1em; text-align: center; vertical-align: top\">0.0</td>\n",
       "        <td style=\"padding-left: 1em; padding-right: 1em; text-align: center; vertical-align: top\">0.0</td>\n",
       "        <td style=\"padding-left: 1em; padding-right: 1em; text-align: center; vertical-align: top\">0.0</td>\n",
       "        <td style=\"padding-left: 1em; padding-right: 1em; text-align: center; vertical-align: top\">0.0</td>\n",
       "    </tr>\n",
       "    <tr>\n",
       "        <td style=\"padding-left: 1em; padding-right: 1em; text-align: center; vertical-align: top\">86.68</td>\n",
       "        <td style=\"padding-left: 1em; padding-right: 1em; text-align: center; vertical-align: top\">1.0</td>\n",
       "        <td style=\"padding-left: 1em; padding-right: 1em; text-align: center; vertical-align: top\">25.77</td>\n",
       "        <td style=\"padding-left: 1em; padding-right: 1em; text-align: center; vertical-align: top\">4.5</td>\n",
       "        <td style=\"padding-left: 1em; padding-right: 1em; text-align: center; vertical-align: top\">33.33</td>\n",
       "        <td style=\"padding-left: 1em; padding-right: 1em; text-align: center; vertical-align: top\">44.44</td>\n",
       "        <td style=\"padding-left: 1em; padding-right: 1em; text-align: center; vertical-align: top\">11.11</td>\n",
       "        <td style=\"padding-left: 1em; padding-right: 1em; text-align: center; vertical-align: top\">11.11</td>\n",
       "        <td style=\"padding-left: 1em; padding-right: 1em; text-align: center; vertical-align: top\">0.0</td>\n",
       "        <td style=\"padding-left: 1em; padding-right: 1em; text-align: center; vertical-align: top\">0.0</td>\n",
       "        <td style=\"padding-left: 1em; padding-right: 1em; text-align: center; vertical-align: top\">0.0</td>\n",
       "        <td style=\"padding-left: 1em; padding-right: 1em; text-align: center; vertical-align: top\">0.0</td>\n",
       "        <td style=\"padding-left: 1em; padding-right: 1em; text-align: center; vertical-align: top\">0.0</td>\n",
       "        <td style=\"padding-left: 1em; padding-right: 1em; text-align: center; vertical-align: top\">0.0</td>\n",
       "    </tr>\n",
       "    <tr>\n",
       "        <td style=\"padding-left: 1em; padding-right: 1em; text-align: center; vertical-align: top\">93.79</td>\n",
       "        <td style=\"padding-left: 1em; padding-right: 1em; text-align: center; vertical-align: top\">1.4</td>\n",
       "        <td style=\"padding-left: 1em; padding-right: 1em; text-align: center; vertical-align: top\">25.77</td>\n",
       "        <td style=\"padding-left: 1em; padding-right: 1em; text-align: center; vertical-align: top\">6.5</td>\n",
       "        <td style=\"padding-left: 1em; padding-right: 1em; text-align: center; vertical-align: top\">15.38</td>\n",
       "        <td style=\"padding-left: 1em; padding-right: 1em; text-align: center; vertical-align: top\">61.54</td>\n",
       "        <td style=\"padding-left: 1em; padding-right: 1em; text-align: center; vertical-align: top\">30.77</td>\n",
       "        <td style=\"padding-left: 1em; padding-right: 1em; text-align: center; vertical-align: top\">15.38</td>\n",
       "        <td style=\"padding-left: 1em; padding-right: 1em; text-align: center; vertical-align: top\">0.0</td>\n",
       "        <td style=\"padding-left: 1em; padding-right: 1em; text-align: center; vertical-align: top\">0.0</td>\n",
       "        <td style=\"padding-left: 1em; padding-right: 1em; text-align: center; vertical-align: top\">0.0</td>\n",
       "        <td style=\"padding-left: 1em; padding-right: 1em; text-align: center; vertical-align: top\">0.0</td>\n",
       "        <td style=\"padding-left: 1em; padding-right: 1em; text-align: center; vertical-align: top\">0.0</td>\n",
       "        <td style=\"padding-left: 1em; padding-right: 1em; text-align: center; vertical-align: top\">0.0</td>\n",
       "    </tr>\n",
       "    <tr>\n",
       "        <td style=\"padding-left: 1em; padding-right: 1em; text-align: center; vertical-align: top\">70.08</td>\n",
       "        <td style=\"padding-left: 1em; padding-right: 1em; text-align: center; vertical-align: top\">1.0</td>\n",
       "        <td style=\"padding-left: 1em; padding-right: 1em; text-align: center; vertical-align: top\">25.77</td>\n",
       "        <td style=\"padding-left: 1em; padding-right: 1em; text-align: center; vertical-align: top\">9.5</td>\n",
       "        <td style=\"padding-left: 1em; padding-right: 1em; text-align: center; vertical-align: top\">26.32</td>\n",
       "        <td style=\"padding-left: 1em; padding-right: 1em; text-align: center; vertical-align: top\">63.16</td>\n",
       "        <td style=\"padding-left: 1em; padding-right: 1em; text-align: center; vertical-align: top\">36.84</td>\n",
       "        <td style=\"padding-left: 1em; padding-right: 1em; text-align: center; vertical-align: top\">0.0</td>\n",
       "        <td style=\"padding-left: 1em; padding-right: 1em; text-align: center; vertical-align: top\">0.0</td>\n",
       "        <td style=\"padding-left: 1em; padding-right: 1em; text-align: center; vertical-align: top\">0.0</td>\n",
       "        <td style=\"padding-left: 1em; padding-right: 1em; text-align: center; vertical-align: top\">0.0</td>\n",
       "        <td style=\"padding-left: 1em; padding-right: 1em; text-align: center; vertical-align: top\">0.0</td>\n",
       "        <td style=\"padding-left: 1em; padding-right: 1em; text-align: center; vertical-align: top\">0.0</td>\n",
       "        <td style=\"padding-left: 1em; padding-right: 1em; text-align: center; vertical-align: top\">0.0</td>\n",
       "    </tr>\n",
       "    <tr>\n",
       "        <td style=\"padding-left: 1em; padding-right: 1em; text-align: center; vertical-align: top\">97.14</td>\n",
       "        <td style=\"padding-left: 1em; padding-right: 1em; text-align: center; vertical-align: top\">1.0</td>\n",
       "        <td style=\"padding-left: 1em; padding-right: 1em; text-align: center; vertical-align: top\">99.0</td>\n",
       "        <td style=\"padding-left: 1em; padding-right: 1em; text-align: center; vertical-align: top\">7.0</td>\n",
       "        <td style=\"padding-left: 1em; padding-right: 1em; text-align: center; vertical-align: top\">14.29</td>\n",
       "        <td style=\"padding-left: 1em; padding-right: 1em; text-align: center; vertical-align: top\">61.9</td>\n",
       "        <td style=\"padding-left: 1em; padding-right: 1em; text-align: center; vertical-align: top\">38.1</td>\n",
       "        <td style=\"padding-left: 1em; padding-right: 1em; text-align: center; vertical-align: top\">14.29</td>\n",
       "        <td style=\"padding-left: 1em; padding-right: 1em; text-align: center; vertical-align: top\">9.52</td>\n",
       "        <td style=\"padding-left: 1em; padding-right: 1em; text-align: center; vertical-align: top\">0.0</td>\n",
       "        <td style=\"padding-left: 1em; padding-right: 1em; text-align: center; vertical-align: top\">4.76</td>\n",
       "        <td style=\"padding-left: 1em; padding-right: 1em; text-align: center; vertical-align: top\">0.0</td>\n",
       "        <td style=\"padding-left: 1em; padding-right: 1em; text-align: center; vertical-align: top\">4.76</td>\n",
       "        <td style=\"padding-left: 1em; padding-right: 1em; text-align: center; vertical-align: top\">0.0</td>\n",
       "    </tr>\n",
       "</table>\n",
       "<table frame=\"box\" rules=\"cols\">\n",
       "    <tr>\n",
       "        <th style=\"padding-left: 1em; padding-right: 1em; text-align: center\">ipron</th>\n",
       "        <th style=\"padding-left: 1em; padding-right: 1em; text-align: center\">article</th>\n",
       "        <th style=\"padding-left: 1em; padding-right: 1em; text-align: center\">prep</th>\n",
       "        <th style=\"padding-left: 1em; padding-right: 1em; text-align: center\">auxverb</th>\n",
       "        <th style=\"padding-left: 1em; padding-right: 1em; text-align: center\">adverb</th>\n",
       "        <th style=\"padding-left: 1em; padding-right: 1em; text-align: center\">conj</th>\n",
       "        <th style=\"padding-left: 1em; padding-right: 1em; text-align: center\">negate</th>\n",
       "        <th style=\"padding-left: 1em; padding-right: 1em; text-align: center\">verb</th>\n",
       "        <th style=\"padding-left: 1em; padding-right: 1em; text-align: center\">adj</th>\n",
       "        <th style=\"padding-left: 1em; padding-right: 1em; text-align: center\">compare</th>\n",
       "        <th style=\"padding-left: 1em; padding-right: 1em; text-align: center\">interrog</th>\n",
       "        <th style=\"padding-left: 1em; padding-right: 1em; text-align: center\">number</th>\n",
       "        <th style=\"padding-left: 1em; padding-right: 1em; text-align: center\">quant</th>\n",
       "        <th style=\"padding-left: 1em; padding-right: 1em; text-align: center\">affect</th>\n",
       "        <th style=\"padding-left: 1em; padding-right: 1em; text-align: center\">...</th>\n",
       "    </tr>\n",
       "    <tr>\n",
       "        <td style=\"padding-left: 1em; padding-right: 1em; text-align: center; vertical-align: top\">0.0</td>\n",
       "        <td style=\"padding-left: 1em; padding-right: 1em; text-align: center; vertical-align: top\">0.0</td>\n",
       "        <td style=\"padding-left: 1em; padding-right: 1em; text-align: center; vertical-align: top\">7.69</td>\n",
       "        <td style=\"padding-left: 1em; padding-right: 1em; text-align: center; vertical-align: top\">0.0</td>\n",
       "        <td style=\"padding-left: 1em; padding-right: 1em; text-align: center; vertical-align: top\">0.0</td>\n",
       "        <td style=\"padding-left: 1em; padding-right: 1em; text-align: center; vertical-align: top\">0.0</td>\n",
       "        <td style=\"padding-left: 1em; padding-right: 1em; text-align: center; vertical-align: top\">0.0</td>\n",
       "        <td style=\"padding-left: 1em; padding-right: 1em; text-align: center; vertical-align: top\">0.0</td>\n",
       "        <td style=\"padding-left: 1em; padding-right: 1em; text-align: center; vertical-align: top\">0.0</td>\n",
       "        <td style=\"padding-left: 1em; padding-right: 1em; text-align: center; vertical-align: top\">0.0</td>\n",
       "        <td style=\"padding-left: 1em; padding-right: 1em; text-align: center; vertical-align: top\">0.0</td>\n",
       "        <td style=\"padding-left: 1em; padding-right: 1em; text-align: center; vertical-align: top\">0.0</td>\n",
       "        <td style=\"padding-left: 1em; padding-right: 1em; text-align: center; vertical-align: top\">0.0</td>\n",
       "        <td style=\"padding-left: 1em; padding-right: 1em; text-align: center; vertical-align: top\">0.0</td>\n",
       "        <td style=\"padding-left: 1em; padding-right: 1em; text-align: center; vertical-align: top\">...</td>\n",
       "    </tr>\n",
       "    <tr>\n",
       "        <td style=\"padding-left: 1em; padding-right: 1em; text-align: center; vertical-align: top\">0.0</td>\n",
       "        <td style=\"padding-left: 1em; padding-right: 1em; text-align: center; vertical-align: top\">0.0</td>\n",
       "        <td style=\"padding-left: 1em; padding-right: 1em; text-align: center; vertical-align: top\">9.09</td>\n",
       "        <td style=\"padding-left: 1em; padding-right: 1em; text-align: center; vertical-align: top\">9.09</td>\n",
       "        <td style=\"padding-left: 1em; padding-right: 1em; text-align: center; vertical-align: top\">9.09</td>\n",
       "        <td style=\"padding-left: 1em; padding-right: 1em; text-align: center; vertical-align: top\">0.0</td>\n",
       "        <td style=\"padding-left: 1em; padding-right: 1em; text-align: center; vertical-align: top\">9.09</td>\n",
       "        <td style=\"padding-left: 1em; padding-right: 1em; text-align: center; vertical-align: top\">9.09</td>\n",
       "        <td style=\"padding-left: 1em; padding-right: 1em; text-align: center; vertical-align: top\">0.0</td>\n",
       "        <td style=\"padding-left: 1em; padding-right: 1em; text-align: center; vertical-align: top\">0.0</td>\n",
       "        <td style=\"padding-left: 1em; padding-right: 1em; text-align: center; vertical-align: top\">0.0</td>\n",
       "        <td style=\"padding-left: 1em; padding-right: 1em; text-align: center; vertical-align: top\">0.0</td>\n",
       "        <td style=\"padding-left: 1em; padding-right: 1em; text-align: center; vertical-align: top\">0.0</td>\n",
       "        <td style=\"padding-left: 1em; padding-right: 1em; text-align: center; vertical-align: top\">0.0</td>\n",
       "        <td style=\"padding-left: 1em; padding-right: 1em; text-align: center; vertical-align: top\">...</td>\n",
       "    </tr>\n",
       "    <tr>\n",
       "        <td style=\"padding-left: 1em; padding-right: 1em; text-align: center; vertical-align: top\">0.0</td>\n",
       "        <td style=\"padding-left: 1em; padding-right: 1em; text-align: center; vertical-align: top\">0.0</td>\n",
       "        <td style=\"padding-left: 1em; padding-right: 1em; text-align: center; vertical-align: top\">0.0</td>\n",
       "        <td style=\"padding-left: 1em; padding-right: 1em; text-align: center; vertical-align: top\">0.0</td>\n",
       "        <td style=\"padding-left: 1em; padding-right: 1em; text-align: center; vertical-align: top\">0.0</td>\n",
       "        <td style=\"padding-left: 1em; padding-right: 1em; text-align: center; vertical-align: top\">0.0</td>\n",
       "        <td style=\"padding-left: 1em; padding-right: 1em; text-align: center; vertical-align: top\">0.0</td>\n",
       "        <td style=\"padding-left: 1em; padding-right: 1em; text-align: center; vertical-align: top\">0.0</td>\n",
       "        <td style=\"padding-left: 1em; padding-right: 1em; text-align: center; vertical-align: top\">0.0</td>\n",
       "        <td style=\"padding-left: 1em; padding-right: 1em; text-align: center; vertical-align: top\">0.0</td>\n",
       "        <td style=\"padding-left: 1em; padding-right: 1em; text-align: center; vertical-align: top\">0.0</td>\n",
       "        <td style=\"padding-left: 1em; padding-right: 1em; text-align: center; vertical-align: top\">0.0</td>\n",
       "        <td style=\"padding-left: 1em; padding-right: 1em; text-align: center; vertical-align: top\">10.0</td>\n",
       "        <td style=\"padding-left: 1em; padding-right: 1em; text-align: center; vertical-align: top\">0.0</td>\n",
       "        <td style=\"padding-left: 1em; padding-right: 1em; text-align: center; vertical-align: top\">...</td>\n",
       "    </tr>\n",
       "    <tr>\n",
       "        <td style=\"padding-left: 1em; padding-right: 1em; text-align: center; vertical-align: top\">0.0</td>\n",
       "        <td style=\"padding-left: 1em; padding-right: 1em; text-align: center; vertical-align: top\">14.29</td>\n",
       "        <td style=\"padding-left: 1em; padding-right: 1em; text-align: center; vertical-align: top\">19.05</td>\n",
       "        <td style=\"padding-left: 1em; padding-right: 1em; text-align: center; vertical-align: top\">4.76</td>\n",
       "        <td style=\"padding-left: 1em; padding-right: 1em; text-align: center; vertical-align: top\">0.0</td>\n",
       "        <td style=\"padding-left: 1em; padding-right: 1em; text-align: center; vertical-align: top\">4.76</td>\n",
       "        <td style=\"padding-left: 1em; padding-right: 1em; text-align: center; vertical-align: top\">0.0</td>\n",
       "        <td style=\"padding-left: 1em; padding-right: 1em; text-align: center; vertical-align: top\">9.52</td>\n",
       "        <td style=\"padding-left: 1em; padding-right: 1em; text-align: center; vertical-align: top\">4.76</td>\n",
       "        <td style=\"padding-left: 1em; padding-right: 1em; text-align: center; vertical-align: top\">4.76</td>\n",
       "        <td style=\"padding-left: 1em; padding-right: 1em; text-align: center; vertical-align: top\">0.0</td>\n",
       "        <td style=\"padding-left: 1em; padding-right: 1em; text-align: center; vertical-align: top\">4.76</td>\n",
       "        <td style=\"padding-left: 1em; padding-right: 1em; text-align: center; vertical-align: top\">4.76</td>\n",
       "        <td style=\"padding-left: 1em; padding-right: 1em; text-align: center; vertical-align: top\">0.0</td>\n",
       "        <td style=\"padding-left: 1em; padding-right: 1em; text-align: center; vertical-align: top\">...</td>\n",
       "    </tr>\n",
       "    <tr>\n",
       "        <td style=\"padding-left: 1em; padding-right: 1em; text-align: center; vertical-align: top\">0.0</td>\n",
       "        <td style=\"padding-left: 1em; padding-right: 1em; text-align: center; vertical-align: top\">0.0</td>\n",
       "        <td style=\"padding-left: 1em; padding-right: 1em; text-align: center; vertical-align: top\">0.0</td>\n",
       "        <td style=\"padding-left: 1em; padding-right: 1em; text-align: center; vertical-align: top\">0.0</td>\n",
       "        <td style=\"padding-left: 1em; padding-right: 1em; text-align: center; vertical-align: top\">0.0</td>\n",
       "        <td style=\"padding-left: 1em; padding-right: 1em; text-align: center; vertical-align: top\">0.0</td>\n",
       "        <td style=\"padding-left: 1em; padding-right: 1em; text-align: center; vertical-align: top\">0.0</td>\n",
       "        <td style=\"padding-left: 1em; padding-right: 1em; text-align: center; vertical-align: top\">0.0</td>\n",
       "        <td style=\"padding-left: 1em; padding-right: 1em; text-align: center; vertical-align: top\">0.0</td>\n",
       "        <td style=\"padding-left: 1em; padding-right: 1em; text-align: center; vertical-align: top\">0.0</td>\n",
       "        <td style=\"padding-left: 1em; padding-right: 1em; text-align: center; vertical-align: top\">0.0</td>\n",
       "        <td style=\"padding-left: 1em; padding-right: 1em; text-align: center; vertical-align: top\">0.0</td>\n",
       "        <td style=\"padding-left: 1em; padding-right: 1em; text-align: center; vertical-align: top\">0.0</td>\n",
       "        <td style=\"padding-left: 1em; padding-right: 1em; text-align: center; vertical-align: top\">0.0</td>\n",
       "        <td style=\"padding-left: 1em; padding-right: 1em; text-align: center; vertical-align: top\">...</td>\n",
       "    </tr>\n",
       "    <tr>\n",
       "        <td style=\"padding-left: 1em; padding-right: 1em; text-align: center; vertical-align: top\">0.0</td>\n",
       "        <td style=\"padding-left: 1em; padding-right: 1em; text-align: center; vertical-align: top\">17.65</td>\n",
       "        <td style=\"padding-left: 1em; padding-right: 1em; text-align: center; vertical-align: top\">17.65</td>\n",
       "        <td style=\"padding-left: 1em; padding-right: 1em; text-align: center; vertical-align: top\">5.88</td>\n",
       "        <td style=\"padding-left: 1em; padding-right: 1em; text-align: center; vertical-align: top\">0.0</td>\n",
       "        <td style=\"padding-left: 1em; padding-right: 1em; text-align: center; vertical-align: top\">0.0</td>\n",
       "        <td style=\"padding-left: 1em; padding-right: 1em; text-align: center; vertical-align: top\">0.0</td>\n",
       "        <td style=\"padding-left: 1em; padding-right: 1em; text-align: center; vertical-align: top\">11.76</td>\n",
       "        <td style=\"padding-left: 1em; padding-right: 1em; text-align: center; vertical-align: top\">0.0</td>\n",
       "        <td style=\"padding-left: 1em; padding-right: 1em; text-align: center; vertical-align: top\">0.0</td>\n",
       "        <td style=\"padding-left: 1em; padding-right: 1em; text-align: center; vertical-align: top\">0.0</td>\n",
       "        <td style=\"padding-left: 1em; padding-right: 1em; text-align: center; vertical-align: top\">0.0</td>\n",
       "        <td style=\"padding-left: 1em; padding-right: 1em; text-align: center; vertical-align: top\">0.0</td>\n",
       "        <td style=\"padding-left: 1em; padding-right: 1em; text-align: center; vertical-align: top\">5.88</td>\n",
       "        <td style=\"padding-left: 1em; padding-right: 1em; text-align: center; vertical-align: top\">...</td>\n",
       "    </tr>\n",
       "    <tr>\n",
       "        <td style=\"padding-left: 1em; padding-right: 1em; text-align: center; vertical-align: top\">11.11</td>\n",
       "        <td style=\"padding-left: 1em; padding-right: 1em; text-align: center; vertical-align: top\">0.0</td>\n",
       "        <td style=\"padding-left: 1em; padding-right: 1em; text-align: center; vertical-align: top\">0.0</td>\n",
       "        <td style=\"padding-left: 1em; padding-right: 1em; text-align: center; vertical-align: top\">0.0</td>\n",
       "        <td style=\"padding-left: 1em; padding-right: 1em; text-align: center; vertical-align: top\">0.0</td>\n",
       "        <td style=\"padding-left: 1em; padding-right: 1em; text-align: center; vertical-align: top\">0.0</td>\n",
       "        <td style=\"padding-left: 1em; padding-right: 1em; text-align: center; vertical-align: top\">0.0</td>\n",
       "        <td style=\"padding-left: 1em; padding-right: 1em; text-align: center; vertical-align: top\">0.0</td>\n",
       "        <td style=\"padding-left: 1em; padding-right: 1em; text-align: center; vertical-align: top\">0.0</td>\n",
       "        <td style=\"padding-left: 1em; padding-right: 1em; text-align: center; vertical-align: top\">0.0</td>\n",
       "        <td style=\"padding-left: 1em; padding-right: 1em; text-align: center; vertical-align: top\">0.0</td>\n",
       "        <td style=\"padding-left: 1em; padding-right: 1em; text-align: center; vertical-align: top\">0.0</td>\n",
       "        <td style=\"padding-left: 1em; padding-right: 1em; text-align: center; vertical-align: top\">11.11</td>\n",
       "        <td style=\"padding-left: 1em; padding-right: 1em; text-align: center; vertical-align: top\">0.0</td>\n",
       "        <td style=\"padding-left: 1em; padding-right: 1em; text-align: center; vertical-align: top\">...</td>\n",
       "    </tr>\n",
       "    <tr>\n",
       "        <td style=\"padding-left: 1em; padding-right: 1em; text-align: center; vertical-align: top\">15.38</td>\n",
       "        <td style=\"padding-left: 1em; padding-right: 1em; text-align: center; vertical-align: top\">0.0</td>\n",
       "        <td style=\"padding-left: 1em; padding-right: 1em; text-align: center; vertical-align: top\">7.69</td>\n",
       "        <td style=\"padding-left: 1em; padding-right: 1em; text-align: center; vertical-align: top\">7.69</td>\n",
       "        <td style=\"padding-left: 1em; padding-right: 1em; text-align: center; vertical-align: top\">7.69</td>\n",
       "        <td style=\"padding-left: 1em; padding-right: 1em; text-align: center; vertical-align: top\">0.0</td>\n",
       "        <td style=\"padding-left: 1em; padding-right: 1em; text-align: center; vertical-align: top\">0.0</td>\n",
       "        <td style=\"padding-left: 1em; padding-right: 1em; text-align: center; vertical-align: top\">23.08</td>\n",
       "        <td style=\"padding-left: 1em; padding-right: 1em; text-align: center; vertical-align: top\">0.0</td>\n",
       "        <td style=\"padding-left: 1em; padding-right: 1em; text-align: center; vertical-align: top\">0.0</td>\n",
       "        <td style=\"padding-left: 1em; padding-right: 1em; text-align: center; vertical-align: top\">7.69</td>\n",
       "        <td style=\"padding-left: 1em; padding-right: 1em; text-align: center; vertical-align: top\">0.0</td>\n",
       "        <td style=\"padding-left: 1em; padding-right: 1em; text-align: center; vertical-align: top\">0.0</td>\n",
       "        <td style=\"padding-left: 1em; padding-right: 1em; text-align: center; vertical-align: top\">0.0</td>\n",
       "        <td style=\"padding-left: 1em; padding-right: 1em; text-align: center; vertical-align: top\">...</td>\n",
       "    </tr>\n",
       "    <tr>\n",
       "        <td style=\"padding-left: 1em; padding-right: 1em; text-align: center; vertical-align: top\">0.0</td>\n",
       "        <td style=\"padding-left: 1em; padding-right: 1em; text-align: center; vertical-align: top\">15.79</td>\n",
       "        <td style=\"padding-left: 1em; padding-right: 1em; text-align: center; vertical-align: top\">15.79</td>\n",
       "        <td style=\"padding-left: 1em; padding-right: 1em; text-align: center; vertical-align: top\">5.26</td>\n",
       "        <td style=\"padding-left: 1em; padding-right: 1em; text-align: center; vertical-align: top\">0.0</td>\n",
       "        <td style=\"padding-left: 1em; padding-right: 1em; text-align: center; vertical-align: top\">0.0</td>\n",
       "        <td style=\"padding-left: 1em; padding-right: 1em; text-align: center; vertical-align: top\">0.0</td>\n",
       "        <td style=\"padding-left: 1em; padding-right: 1em; text-align: center; vertical-align: top\">10.53</td>\n",
       "        <td style=\"padding-left: 1em; padding-right: 1em; text-align: center; vertical-align: top\">0.0</td>\n",
       "        <td style=\"padding-left: 1em; padding-right: 1em; text-align: center; vertical-align: top\">0.0</td>\n",
       "        <td style=\"padding-left: 1em; padding-right: 1em; text-align: center; vertical-align: top\">0.0</td>\n",
       "        <td style=\"padding-left: 1em; padding-right: 1em; text-align: center; vertical-align: top\">0.0</td>\n",
       "        <td style=\"padding-left: 1em; padding-right: 1em; text-align: center; vertical-align: top\">0.0</td>\n",
       "        <td style=\"padding-left: 1em; padding-right: 1em; text-align: center; vertical-align: top\">0.0</td>\n",
       "        <td style=\"padding-left: 1em; padding-right: 1em; text-align: center; vertical-align: top\">...</td>\n",
       "    </tr>\n",
       "    <tr>\n",
       "        <td style=\"padding-left: 1em; padding-right: 1em; text-align: center; vertical-align: top\">4.76</td>\n",
       "        <td style=\"padding-left: 1em; padding-right: 1em; text-align: center; vertical-align: top\">9.52</td>\n",
       "        <td style=\"padding-left: 1em; padding-right: 1em; text-align: center; vertical-align: top\">9.52</td>\n",
       "        <td style=\"padding-left: 1em; padding-right: 1em; text-align: center; vertical-align: top\">4.76</td>\n",
       "        <td style=\"padding-left: 1em; padding-right: 1em; text-align: center; vertical-align: top\">0.0</td>\n",
       "        <td style=\"padding-left: 1em; padding-right: 1em; text-align: center; vertical-align: top\">0.0</td>\n",
       "        <td style=\"padding-left: 1em; padding-right: 1em; text-align: center; vertical-align: top\">0.0</td>\n",
       "        <td style=\"padding-left: 1em; padding-right: 1em; text-align: center; vertical-align: top\">14.29</td>\n",
       "        <td style=\"padding-left: 1em; padding-right: 1em; text-align: center; vertical-align: top\">4.76</td>\n",
       "        <td style=\"padding-left: 1em; padding-right: 1em; text-align: center; vertical-align: top\">4.76</td>\n",
       "        <td style=\"padding-left: 1em; padding-right: 1em; text-align: center; vertical-align: top\">0.0</td>\n",
       "        <td style=\"padding-left: 1em; padding-right: 1em; text-align: center; vertical-align: top\">0.0</td>\n",
       "        <td style=\"padding-left: 1em; padding-right: 1em; text-align: center; vertical-align: top\">0.0</td>\n",
       "        <td style=\"padding-left: 1em; padding-right: 1em; text-align: center; vertical-align: top\">9.52</td>\n",
       "        <td style=\"padding-left: 1em; padding-right: 1em; text-align: center; vertical-align: top\">...</td>\n",
       "    </tr>\n",
       "</table>\n",
       "[12160 rows x 103 columns]<br/>Note: Only the head of the SFrame is printed.<br/>You can use print_rows(num_rows=m, num_columns=n) to print more rows and columns.\n",
       "</div>"
      ],
      "text/plain": [
       "Columns:\n",
       "\tA\tint\n",
       "\tB\tstr\n",
       "\tC\tstr\n",
       "\tD\tstr\n",
       "\tE\tstr\n",
       "\tF\tstr\n",
       "\tG\tstr\n",
       "\tH\tstr\n",
       "\tI\tstr\n",
       "\tJ\tstr\n",
       "\tWC\tint\n",
       "\tAnalytic\tfloat\n",
       "\tClout\tfloat\n",
       "\tAuthentic\tfloat\n",
       "\tTone\tfloat\n",
       "\tWPS\tfloat\n",
       "\tSixltr\tfloat\n",
       "\tDic\tfloat\n",
       "\tfunction\tfloat\n",
       "\tpronoun\tfloat\n",
       "\tppron\tfloat\n",
       "\ti\tfloat\n",
       "\twe\tfloat\n",
       "\tyou\tfloat\n",
       "\tshehe\tfloat\n",
       "\tthey\tfloat\n",
       "\tipron\tfloat\n",
       "\tarticle\tfloat\n",
       "\tprep\tfloat\n",
       "\tauxverb\tfloat\n",
       "\tadverb\tfloat\n",
       "\tconj\tfloat\n",
       "\tnegate\tfloat\n",
       "\tverb\tfloat\n",
       "\tadj\tfloat\n",
       "\tcompare\tfloat\n",
       "\tinterrog\tfloat\n",
       "\tnumber\tfloat\n",
       "\tquant\tfloat\n",
       "\taffect\tfloat\n",
       "\tposemo\tfloat\n",
       "\tnegemo\tfloat\n",
       "\tanx\tfloat\n",
       "\tanger\tfloat\n",
       "\tsad\tfloat\n",
       "\tsocial\tfloat\n",
       "\tfamily\tfloat\n",
       "\tfriend\tfloat\n",
       "\tfemale\tfloat\n",
       "\tmale\tfloat\n",
       "\tcogproc\tfloat\n",
       "\tinsight\tfloat\n",
       "\tcause\tfloat\n",
       "\tdiscrep\tfloat\n",
       "\ttentat\tfloat\n",
       "\tcertain\tfloat\n",
       "\tdiffer\tfloat\n",
       "\tpercept\tfloat\n",
       "\tsee\tfloat\n",
       "\thear\tfloat\n",
       "\tfeel\tfloat\n",
       "\tbio\tfloat\n",
       "\tbody\tfloat\n",
       "\thealth\tfloat\n",
       "\tsexual\tfloat\n",
       "\tingest\tfloat\n",
       "\tdrives\tfloat\n",
       "\taffiliation\tfloat\n",
       "\tachieve\tfloat\n",
       "\tpower\tfloat\n",
       "\treward\tfloat\n",
       "\trisk\tfloat\n",
       "\tfocuspast\tfloat\n",
       "\tfocuspresent\tfloat\n",
       "\tfocusfuture\tfloat\n",
       "\trelativ\tfloat\n",
       "\tmotion\tfloat\n",
       "\tspace\tfloat\n",
       "\ttime\tfloat\n",
       "\twork\tfloat\n",
       "\tleisure\tfloat\n",
       "\thome\tfloat\n",
       "\tmoney\tfloat\n",
       "\trelig\tfloat\n",
       "\tdeath\tfloat\n",
       "\tinformal\tfloat\n",
       "\tswear\tfloat\n",
       "\tnetspeak\tfloat\n",
       "\tassent\tfloat\n",
       "\tnonflu\tfloat\n",
       "\tfiller\tfloat\n",
       "\tAllPunc\tfloat\n",
       "\tPeriod\tfloat\n",
       "\tComma\tfloat\n",
       "\tColon\tfloat\n",
       "\tSemiC\tfloat\n",
       "\tQMark\tfloat\n",
       "\tExclam\tfloat\n",
       "\tDash\tfloat\n",
       "\tQuote\tfloat\n",
       "\tApostro\tfloat\n",
       "\tParenth\tfloat\n",
       "\tOtherP\tfloat\n",
       "\n",
       "Rows: 12160\n",
       "\n",
       "Data:\n",
       "+--------------------+----------+--------------+-------------------------------+\n",
       "|         A          |    B     |      C       |               D               |\n",
       "+--------------------+----------+--------------+-------------------------------+\n",
       "| 692040748263297024 | 14073680 | 1453830346.0 | RT @gadboislensnola: AIR B... |\n",
       "| 692035170354868224 | 14073680 | 1453829016.0 | @fransco @NOLA_Fredo I hav... |\n",
       "| 692034361999302658 | 14073680 | 1453828823.0 | Yes. God help us all. http... |\n",
       "| 692033806270763008 | 14073680 | 1453828691.0 | Patrick Swayze's Bodhi wou... |\n",
       "| 692033257081217024 | 14073680 | 1453828560.0 | Duuuuude. https://t.co/8ZZ... |\n",
       "| 692032799222566912 | 14073680 | 1453828451.0 | The current @BeingNOLA see... |\n",
       "| 692025407193817088 | 14073680 | 1453826688.0 | RT @amaditalks: This, enti... |\n",
       "| 692025326180835329 | 14073680 | 1453826669.0 | RT @amaditalks: Think abou... |\n",
       "| 692023623217844225 | 14073680 | 1453826263.0 | \"The idea was to experimen... |\n",
       "| 692002055779516416 | 14073680 | 1453821121.0 | “'Soviet radiation,' he jo... |\n",
       "+--------------------+----------+--------------+-------------------------------+\n",
       "+---+----+---+---+---+----+----+----------+-------+-----------+-------+------+\n",
       "| E | F  | G | H | I | J  | WC | Analytic | Clout | Authentic |  Tone | WPS  |\n",
       "+---+----+---+---+---+----+----+----------+-------+-----------+-------+------+\n",
       "| 0 | 3  | 1 | 0 | 0 | en | 13 |  97.77   | 77.92 |    1.4    | 25.77 | 13.0 |\n",
       "| 0 | 0  | 2 | 1 | 0 | en | 11 |  31.44   |  50.0 |   31.94   | 25.77 | 5.5  |\n",
       "| 0 | 0  | 0 | 0 | 0 | en | 10 |  77.33   |  99.0 |    1.0    | 25.77 | 3.33 |\n",
       "| 4 | 0  | 0 | 0 | 0 | en | 21 |   99.0   | 31.71 |   68.01   | 25.77 | 21.0 |\n",
       "| 0 | 0  | 0 | 0 | 0 | en | 6  |  92.84   |  50.0 |    1.0    | 25.77 | 3.0  |\n",
       "| 3 | 0  | 1 | 0 | 0 | en | 17 |   99.0   |  50.0 |   66.34   |  1.0  | 17.0 |\n",
       "| 0 | 28 | 1 | 0 | 0 | en | 9  |  74.89   | 86.68 |    1.0    | 25.77 | 4.5  |\n",
       "| 0 | 11 | 1 | 0 | 0 | en | 13 |  42.69   | 93.79 |    1.4    | 25.77 | 6.5  |\n",
       "| 2 | 0  | 0 | 0 | 0 | en | 19 |   99.0   | 70.08 |    1.0    | 25.77 | 9.5  |\n",
       "| 2 | 2  | 0 | 0 | 0 | en | 21 |  92.84   | 97.14 |    1.0    |  99.0 | 7.0  |\n",
       "+---+----+---+---+---+----+----+----------+-------+-----------+-------+------+\n",
       "+--------+-------+----------+---------+-----+\n",
       "| Sixltr |  Dic  | function | pronoun | ... |\n",
       "+--------+-------+----------+---------+-----+\n",
       "| 30.77  | 38.46 |   7.69   |   0.0   | ... |\n",
       "| 18.18  | 72.73 |  36.36   |   9.09  | ... |\n",
       "|  10.0  |  60.0 |   10.0   |   10.0  | ... |\n",
       "|  9.52  | 71.43 |   38.1   |   0.0   | ... |\n",
       "| 33.33  | 16.67 |   0.0    |   0.0   | ... |\n",
       "| 35.29  | 70.59 |  41.18   |   0.0   | ... |\n",
       "| 33.33  | 44.44 |  11.11   |  11.11  | ... |\n",
       "| 15.38  | 61.54 |  30.77   |  15.38  | ... |\n",
       "| 26.32  | 63.16 |  36.84   |   0.0   | ... |\n",
       "| 14.29  |  61.9 |   38.1   |  14.29  | ... |\n",
       "+--------+-------+----------+---------+-----+\n",
       "[12160 rows x 103 columns]\n",
       "Note: Only the head of the SFrame is printed.\n",
       "You can use print_rows(num_rows=m, num_columns=n) to print more rows and columns."
      ]
     },
     "execution_count": 10,
     "metadata": {},
     "output_type": "execute_result"
    }
   ],
   "source": [
    "status_ego_LIWC = gl.SFrame.read_csv(data_dir + data_list[3], \n",
    "                                header = True, \n",
    "                                delimiter = ',', \n",
    "                                column_type_hints = {'A': int})\n",
    "status_ego_LIWC\n",
    "# There are also some mistakes in parsing, mainly due to the line breaks"
   ]
  },
  {
   "cell_type": "markdown",
   "metadata": {},
   "source": [
    "### For the alter"
   ]
  },
  {
   "cell_type": "code",
   "execution_count": 11,
   "metadata": {},
   "outputs": [
    {
     "data": {
      "text/html": [
       "<pre>Finished parsing file /Users/lyndon/graphlab/NFL_data/demo/14073680-alter.csv</pre>"
      ],
      "text/plain": [
       "Finished parsing file /Users/lyndon/graphlab/NFL_data/demo/14073680-alter.csv"
      ]
     },
     "metadata": {},
     "output_type": "display_data"
    },
    {
     "data": {
      "text/html": [
       "<pre>Parsing completed. Parsed 100 lines in 0.040297 secs.</pre>"
      ],
      "text/plain": [
       "Parsing completed. Parsed 100 lines in 0.040297 secs."
      ]
     },
     "metadata": {},
     "output_type": "display_data"
    },
    {
     "data": {
      "text/html": [
       "<pre>Finished parsing file /Users/lyndon/graphlab/NFL_data/demo/14073680-alter.csv</pre>"
      ],
      "text/plain": [
       "Finished parsing file /Users/lyndon/graphlab/NFL_data/demo/14073680-alter.csv"
      ]
     },
     "metadata": {},
     "output_type": "display_data"
    },
    {
     "data": {
      "text/html": [
       "<pre>Parsing completed. Parsed 2533 lines in 0.027728 secs.</pre>"
      ],
      "text/plain": [
       "Parsing completed. Parsed 2533 lines in 0.027728 secs."
      ]
     },
     "metadata": {},
     "output_type": "display_data"
    },
    {
     "data": {
      "text/html": [
       "<div style=\"max-height:1000px;max-width:1500px;overflow:auto;\"><table frame=\"box\" rules=\"cols\">\n",
       "    <tr>\n",
       "        <th style=\"padding-left: 1em; padding-right: 1em; text-align: center\">user_id</th>\n",
       "        <th style=\"padding-left: 1em; padding-right: 1em; text-align: center\">20150911</th>\n",
       "        <th style=\"padding-left: 1em; padding-right: 1em; text-align: center\">20151011</th>\n",
       "        <th style=\"padding-left: 1em; padding-right: 1em; text-align: center\">20151013</th>\n",
       "        <th style=\"padding-left: 1em; padding-right: 1em; text-align: center\">20151014</th>\n",
       "        <th style=\"padding-left: 1em; padding-right: 1em; text-align: center\">20151015</th>\n",
       "        <th style=\"padding-left: 1em; padding-right: 1em; text-align: center\">20151016</th>\n",
       "        <th style=\"padding-left: 1em; padding-right: 1em; text-align: center\">20151017</th>\n",
       "        <th style=\"padding-left: 1em; padding-right: 1em; text-align: center\">20151018</th>\n",
       "        <th style=\"padding-left: 1em; padding-right: 1em; text-align: center\">20151019</th>\n",
       "        <th style=\"padding-left: 1em; padding-right: 1em; text-align: center\">20151020</th>\n",
       "    </tr>\n",
       "    <tr>\n",
       "        <td style=\"padding-left: 1em; padding-right: 1em; text-align: center; vertical-align: top\">229552128</td>\n",
       "        <td style=\"padding-left: 1em; padding-right: 1em; text-align: center; vertical-align: top\">1</td>\n",
       "        <td style=\"padding-left: 1em; padding-right: 1em; text-align: center; vertical-align: top\">1</td>\n",
       "        <td style=\"padding-left: 1em; padding-right: 1em; text-align: center; vertical-align: top\">1</td>\n",
       "        <td style=\"padding-left: 1em; padding-right: 1em; text-align: center; vertical-align: top\">1</td>\n",
       "        <td style=\"padding-left: 1em; padding-right: 1em; text-align: center; vertical-align: top\">1</td>\n",
       "        <td style=\"padding-left: 1em; padding-right: 1em; text-align: center; vertical-align: top\">1</td>\n",
       "        <td style=\"padding-left: 1em; padding-right: 1em; text-align: center; vertical-align: top\">1</td>\n",
       "        <td style=\"padding-left: 1em; padding-right: 1em; text-align: center; vertical-align: top\">1</td>\n",
       "        <td style=\"padding-left: 1em; padding-right: 1em; text-align: center; vertical-align: top\">1</td>\n",
       "        <td style=\"padding-left: 1em; padding-right: 1em; text-align: center; vertical-align: top\">1</td>\n",
       "    </tr>\n",
       "    <tr>\n",
       "        <td style=\"padding-left: 1em; padding-right: 1em; text-align: center; vertical-align: top\">3232227331</td>\n",
       "        <td style=\"padding-left: 1em; padding-right: 1em; text-align: center; vertical-align: top\">1</td>\n",
       "        <td style=\"padding-left: 1em; padding-right: 1em; text-align: center; vertical-align: top\">1</td>\n",
       "        <td style=\"padding-left: 1em; padding-right: 1em; text-align: center; vertical-align: top\">1</td>\n",
       "        <td style=\"padding-left: 1em; padding-right: 1em; text-align: center; vertical-align: top\">1</td>\n",
       "        <td style=\"padding-left: 1em; padding-right: 1em; text-align: center; vertical-align: top\">1</td>\n",
       "        <td style=\"padding-left: 1em; padding-right: 1em; text-align: center; vertical-align: top\">1</td>\n",
       "        <td style=\"padding-left: 1em; padding-right: 1em; text-align: center; vertical-align: top\">1</td>\n",
       "        <td style=\"padding-left: 1em; padding-right: 1em; text-align: center; vertical-align: top\">1</td>\n",
       "        <td style=\"padding-left: 1em; padding-right: 1em; text-align: center; vertical-align: top\">1</td>\n",
       "        <td style=\"padding-left: 1em; padding-right: 1em; text-align: center; vertical-align: top\">1</td>\n",
       "    </tr>\n",
       "    <tr>\n",
       "        <td style=\"padding-left: 1em; padding-right: 1em; text-align: center; vertical-align: top\">2443083780</td>\n",
       "        <td style=\"padding-left: 1em; padding-right: 1em; text-align: center; vertical-align: top\">1</td>\n",
       "        <td style=\"padding-left: 1em; padding-right: 1em; text-align: center; vertical-align: top\">1</td>\n",
       "        <td style=\"padding-left: 1em; padding-right: 1em; text-align: center; vertical-align: top\">1</td>\n",
       "        <td style=\"padding-left: 1em; padding-right: 1em; text-align: center; vertical-align: top\">1</td>\n",
       "        <td style=\"padding-left: 1em; padding-right: 1em; text-align: center; vertical-align: top\">1</td>\n",
       "        <td style=\"padding-left: 1em; padding-right: 1em; text-align: center; vertical-align: top\">1</td>\n",
       "        <td style=\"padding-left: 1em; padding-right: 1em; text-align: center; vertical-align: top\">1</td>\n",
       "        <td style=\"padding-left: 1em; padding-right: 1em; text-align: center; vertical-align: top\">1</td>\n",
       "        <td style=\"padding-left: 1em; padding-right: 1em; text-align: center; vertical-align: top\">1</td>\n",
       "        <td style=\"padding-left: 1em; padding-right: 1em; text-align: center; vertical-align: top\">1</td>\n",
       "    </tr>\n",
       "    <tr>\n",
       "        <td style=\"padding-left: 1em; padding-right: 1em; text-align: center; vertical-align: top\">321003525</td>\n",
       "        <td style=\"padding-left: 1em; padding-right: 1em; text-align: center; vertical-align: top\">1</td>\n",
       "        <td style=\"padding-left: 1em; padding-right: 1em; text-align: center; vertical-align: top\">1</td>\n",
       "        <td style=\"padding-left: 1em; padding-right: 1em; text-align: center; vertical-align: top\">1</td>\n",
       "        <td style=\"padding-left: 1em; padding-right: 1em; text-align: center; vertical-align: top\">1</td>\n",
       "        <td style=\"padding-left: 1em; padding-right: 1em; text-align: center; vertical-align: top\">1</td>\n",
       "        <td style=\"padding-left: 1em; padding-right: 1em; text-align: center; vertical-align: top\">1</td>\n",
       "        <td style=\"padding-left: 1em; padding-right: 1em; text-align: center; vertical-align: top\">1</td>\n",
       "        <td style=\"padding-left: 1em; padding-right: 1em; text-align: center; vertical-align: top\">1</td>\n",
       "        <td style=\"padding-left: 1em; padding-right: 1em; text-align: center; vertical-align: top\">1</td>\n",
       "        <td style=\"padding-left: 1em; padding-right: 1em; text-align: center; vertical-align: top\">1</td>\n",
       "    </tr>\n",
       "    <tr>\n",
       "        <td style=\"padding-left: 1em; padding-right: 1em; text-align: center; vertical-align: top\">928358407</td>\n",
       "        <td style=\"padding-left: 1em; padding-right: 1em; text-align: center; vertical-align: top\">1</td>\n",
       "        <td style=\"padding-left: 1em; padding-right: 1em; text-align: center; vertical-align: top\">1</td>\n",
       "        <td style=\"padding-left: 1em; padding-right: 1em; text-align: center; vertical-align: top\">1</td>\n",
       "        <td style=\"padding-left: 1em; padding-right: 1em; text-align: center; vertical-align: top\">1</td>\n",
       "        <td style=\"padding-left: 1em; padding-right: 1em; text-align: center; vertical-align: top\">1</td>\n",
       "        <td style=\"padding-left: 1em; padding-right: 1em; text-align: center; vertical-align: top\">1</td>\n",
       "        <td style=\"padding-left: 1em; padding-right: 1em; text-align: center; vertical-align: top\">1</td>\n",
       "        <td style=\"padding-left: 1em; padding-right: 1em; text-align: center; vertical-align: top\">1</td>\n",
       "        <td style=\"padding-left: 1em; padding-right: 1em; text-align: center; vertical-align: top\">1</td>\n",
       "        <td style=\"padding-left: 1em; padding-right: 1em; text-align: center; vertical-align: top\">1</td>\n",
       "    </tr>\n",
       "    <tr>\n",
       "        <td style=\"padding-left: 1em; padding-right: 1em; text-align: center; vertical-align: top\">75603977</td>\n",
       "        <td style=\"padding-left: 1em; padding-right: 1em; text-align: center; vertical-align: top\">1</td>\n",
       "        <td style=\"padding-left: 1em; padding-right: 1em; text-align: center; vertical-align: top\">1</td>\n",
       "        <td style=\"padding-left: 1em; padding-right: 1em; text-align: center; vertical-align: top\">1</td>\n",
       "        <td style=\"padding-left: 1em; padding-right: 1em; text-align: center; vertical-align: top\">1</td>\n",
       "        <td style=\"padding-left: 1em; padding-right: 1em; text-align: center; vertical-align: top\">1</td>\n",
       "        <td style=\"padding-left: 1em; padding-right: 1em; text-align: center; vertical-align: top\">1</td>\n",
       "        <td style=\"padding-left: 1em; padding-right: 1em; text-align: center; vertical-align: top\">1</td>\n",
       "        <td style=\"padding-left: 1em; padding-right: 1em; text-align: center; vertical-align: top\">1</td>\n",
       "        <td style=\"padding-left: 1em; padding-right: 1em; text-align: center; vertical-align: top\">1</td>\n",
       "        <td style=\"padding-left: 1em; padding-right: 1em; text-align: center; vertical-align: top\">1</td>\n",
       "    </tr>\n",
       "    <tr>\n",
       "        <td style=\"padding-left: 1em; padding-right: 1em; text-align: center; vertical-align: top\">29532171</td>\n",
       "        <td style=\"padding-left: 1em; padding-right: 1em; text-align: center; vertical-align: top\">1</td>\n",
       "        <td style=\"padding-left: 1em; padding-right: 1em; text-align: center; vertical-align: top\">1</td>\n",
       "        <td style=\"padding-left: 1em; padding-right: 1em; text-align: center; vertical-align: top\">1</td>\n",
       "        <td style=\"padding-left: 1em; padding-right: 1em; text-align: center; vertical-align: top\">1</td>\n",
       "        <td style=\"padding-left: 1em; padding-right: 1em; text-align: center; vertical-align: top\">1</td>\n",
       "        <td style=\"padding-left: 1em; padding-right: 1em; text-align: center; vertical-align: top\">1</td>\n",
       "        <td style=\"padding-left: 1em; padding-right: 1em; text-align: center; vertical-align: top\">1</td>\n",
       "        <td style=\"padding-left: 1em; padding-right: 1em; text-align: center; vertical-align: top\">1</td>\n",
       "        <td style=\"padding-left: 1em; padding-right: 1em; text-align: center; vertical-align: top\">1</td>\n",
       "        <td style=\"padding-left: 1em; padding-right: 1em; text-align: center; vertical-align: top\">1</td>\n",
       "    </tr>\n",
       "    <tr>\n",
       "        <td style=\"padding-left: 1em; padding-right: 1em; text-align: center; vertical-align: top\">37847061</td>\n",
       "        <td style=\"padding-left: 1em; padding-right: 1em; text-align: center; vertical-align: top\">1</td>\n",
       "        <td style=\"padding-left: 1em; padding-right: 1em; text-align: center; vertical-align: top\">1</td>\n",
       "        <td style=\"padding-left: 1em; padding-right: 1em; text-align: center; vertical-align: top\">1</td>\n",
       "        <td style=\"padding-left: 1em; padding-right: 1em; text-align: center; vertical-align: top\">1</td>\n",
       "        <td style=\"padding-left: 1em; padding-right: 1em; text-align: center; vertical-align: top\">1</td>\n",
       "        <td style=\"padding-left: 1em; padding-right: 1em; text-align: center; vertical-align: top\">1</td>\n",
       "        <td style=\"padding-left: 1em; padding-right: 1em; text-align: center; vertical-align: top\">1</td>\n",
       "        <td style=\"padding-left: 1em; padding-right: 1em; text-align: center; vertical-align: top\">1</td>\n",
       "        <td style=\"padding-left: 1em; padding-right: 1em; text-align: center; vertical-align: top\">1</td>\n",
       "        <td style=\"padding-left: 1em; padding-right: 1em; text-align: center; vertical-align: top\">1</td>\n",
       "    </tr>\n",
       "    <tr>\n",
       "        <td style=\"padding-left: 1em; padding-right: 1em; text-align: center; vertical-align: top\">77307927</td>\n",
       "        <td style=\"padding-left: 1em; padding-right: 1em; text-align: center; vertical-align: top\">1</td>\n",
       "        <td style=\"padding-left: 1em; padding-right: 1em; text-align: center; vertical-align: top\">1</td>\n",
       "        <td style=\"padding-left: 1em; padding-right: 1em; text-align: center; vertical-align: top\">1</td>\n",
       "        <td style=\"padding-left: 1em; padding-right: 1em; text-align: center; vertical-align: top\">1</td>\n",
       "        <td style=\"padding-left: 1em; padding-right: 1em; text-align: center; vertical-align: top\">1</td>\n",
       "        <td style=\"padding-left: 1em; padding-right: 1em; text-align: center; vertical-align: top\">1</td>\n",
       "        <td style=\"padding-left: 1em; padding-right: 1em; text-align: center; vertical-align: top\">1</td>\n",
       "        <td style=\"padding-left: 1em; padding-right: 1em; text-align: center; vertical-align: top\">1</td>\n",
       "        <td style=\"padding-left: 1em; padding-right: 1em; text-align: center; vertical-align: top\">1</td>\n",
       "        <td style=\"padding-left: 1em; padding-right: 1em; text-align: center; vertical-align: top\">1</td>\n",
       "    </tr>\n",
       "    <tr>\n",
       "        <td style=\"padding-left: 1em; padding-right: 1em; text-align: center; vertical-align: top\">83876527</td>\n",
       "        <td style=\"padding-left: 1em; padding-right: 1em; text-align: center; vertical-align: top\">1</td>\n",
       "        <td style=\"padding-left: 1em; padding-right: 1em; text-align: center; vertical-align: top\">1</td>\n",
       "        <td style=\"padding-left: 1em; padding-right: 1em; text-align: center; vertical-align: top\">1</td>\n",
       "        <td style=\"padding-left: 1em; padding-right: 1em; text-align: center; vertical-align: top\">1</td>\n",
       "        <td style=\"padding-left: 1em; padding-right: 1em; text-align: center; vertical-align: top\">1</td>\n",
       "        <td style=\"padding-left: 1em; padding-right: 1em; text-align: center; vertical-align: top\">1</td>\n",
       "        <td style=\"padding-left: 1em; padding-right: 1em; text-align: center; vertical-align: top\">1</td>\n",
       "        <td style=\"padding-left: 1em; padding-right: 1em; text-align: center; vertical-align: top\">1</td>\n",
       "        <td style=\"padding-left: 1em; padding-right: 1em; text-align: center; vertical-align: top\">1</td>\n",
       "        <td style=\"padding-left: 1em; padding-right: 1em; text-align: center; vertical-align: top\">1</td>\n",
       "    </tr>\n",
       "</table>\n",
       "<table frame=\"box\" rules=\"cols\">\n",
       "    <tr>\n",
       "        <th style=\"padding-left: 1em; padding-right: 1em; text-align: center\">20151021</th>\n",
       "        <th style=\"padding-left: 1em; padding-right: 1em; text-align: center\">20151022</th>\n",
       "        <th style=\"padding-left: 1em; padding-right: 1em; text-align: center\">20151023</th>\n",
       "        <th style=\"padding-left: 1em; padding-right: 1em; text-align: center\">20151024</th>\n",
       "        <th style=\"padding-left: 1em; padding-right: 1em; text-align: center\">20151025</th>\n",
       "        <th style=\"padding-left: 1em; padding-right: 1em; text-align: center\">20151026</th>\n",
       "        <th style=\"padding-left: 1em; padding-right: 1em; text-align: center\">20151027</th>\n",
       "        <th style=\"padding-left: 1em; padding-right: 1em; text-align: center\">20151028</th>\n",
       "        <th style=\"padding-left: 1em; padding-right: 1em; text-align: center\">20151029</th>\n",
       "        <th style=\"padding-left: 1em; padding-right: 1em; text-align: center\">20151030</th>\n",
       "        <th style=\"padding-left: 1em; padding-right: 1em; text-align: center\">20151102</th>\n",
       "    </tr>\n",
       "    <tr>\n",
       "        <td style=\"padding-left: 1em; padding-right: 1em; text-align: center; vertical-align: top\">1</td>\n",
       "        <td style=\"padding-left: 1em; padding-right: 1em; text-align: center; vertical-align: top\">1</td>\n",
       "        <td style=\"padding-left: 1em; padding-right: 1em; text-align: center; vertical-align: top\">1</td>\n",
       "        <td style=\"padding-left: 1em; padding-right: 1em; text-align: center; vertical-align: top\">1</td>\n",
       "        <td style=\"padding-left: 1em; padding-right: 1em; text-align: center; vertical-align: top\">1</td>\n",
       "        <td style=\"padding-left: 1em; padding-right: 1em; text-align: center; vertical-align: top\">1</td>\n",
       "        <td style=\"padding-left: 1em; padding-right: 1em; text-align: center; vertical-align: top\">1</td>\n",
       "        <td style=\"padding-left: 1em; padding-right: 1em; text-align: center; vertical-align: top\">1</td>\n",
       "        <td style=\"padding-left: 1em; padding-right: 1em; text-align: center; vertical-align: top\">1</td>\n",
       "        <td style=\"padding-left: 1em; padding-right: 1em; text-align: center; vertical-align: top\">1</td>\n",
       "        <td style=\"padding-left: 1em; padding-right: 1em; text-align: center; vertical-align: top\">1</td>\n",
       "    </tr>\n",
       "    <tr>\n",
       "        <td style=\"padding-left: 1em; padding-right: 1em; text-align: center; vertical-align: top\">1</td>\n",
       "        <td style=\"padding-left: 1em; padding-right: 1em; text-align: center; vertical-align: top\">1</td>\n",
       "        <td style=\"padding-left: 1em; padding-right: 1em; text-align: center; vertical-align: top\">1</td>\n",
       "        <td style=\"padding-left: 1em; padding-right: 1em; text-align: center; vertical-align: top\">1</td>\n",
       "        <td style=\"padding-left: 1em; padding-right: 1em; text-align: center; vertical-align: top\">1</td>\n",
       "        <td style=\"padding-left: 1em; padding-right: 1em; text-align: center; vertical-align: top\">1</td>\n",
       "        <td style=\"padding-left: 1em; padding-right: 1em; text-align: center; vertical-align: top\">1</td>\n",
       "        <td style=\"padding-left: 1em; padding-right: 1em; text-align: center; vertical-align: top\">1</td>\n",
       "        <td style=\"padding-left: 1em; padding-right: 1em; text-align: center; vertical-align: top\">1</td>\n",
       "        <td style=\"padding-left: 1em; padding-right: 1em; text-align: center; vertical-align: top\">1</td>\n",
       "        <td style=\"padding-left: 1em; padding-right: 1em; text-align: center; vertical-align: top\">1</td>\n",
       "    </tr>\n",
       "    <tr>\n",
       "        <td style=\"padding-left: 1em; padding-right: 1em; text-align: center; vertical-align: top\">1</td>\n",
       "        <td style=\"padding-left: 1em; padding-right: 1em; text-align: center; vertical-align: top\">1</td>\n",
       "        <td style=\"padding-left: 1em; padding-right: 1em; text-align: center; vertical-align: top\">1</td>\n",
       "        <td style=\"padding-left: 1em; padding-right: 1em; text-align: center; vertical-align: top\">1</td>\n",
       "        <td style=\"padding-left: 1em; padding-right: 1em; text-align: center; vertical-align: top\">1</td>\n",
       "        <td style=\"padding-left: 1em; padding-right: 1em; text-align: center; vertical-align: top\">1</td>\n",
       "        <td style=\"padding-left: 1em; padding-right: 1em; text-align: center; vertical-align: top\">1</td>\n",
       "        <td style=\"padding-left: 1em; padding-right: 1em; text-align: center; vertical-align: top\">1</td>\n",
       "        <td style=\"padding-left: 1em; padding-right: 1em; text-align: center; vertical-align: top\">1</td>\n",
       "        <td style=\"padding-left: 1em; padding-right: 1em; text-align: center; vertical-align: top\">1</td>\n",
       "        <td style=\"padding-left: 1em; padding-right: 1em; text-align: center; vertical-align: top\">1</td>\n",
       "    </tr>\n",
       "    <tr>\n",
       "        <td style=\"padding-left: 1em; padding-right: 1em; text-align: center; vertical-align: top\">1</td>\n",
       "        <td style=\"padding-left: 1em; padding-right: 1em; text-align: center; vertical-align: top\">1</td>\n",
       "        <td style=\"padding-left: 1em; padding-right: 1em; text-align: center; vertical-align: top\">1</td>\n",
       "        <td style=\"padding-left: 1em; padding-right: 1em; text-align: center; vertical-align: top\">1</td>\n",
       "        <td style=\"padding-left: 1em; padding-right: 1em; text-align: center; vertical-align: top\">1</td>\n",
       "        <td style=\"padding-left: 1em; padding-right: 1em; text-align: center; vertical-align: top\">1</td>\n",
       "        <td style=\"padding-left: 1em; padding-right: 1em; text-align: center; vertical-align: top\">1</td>\n",
       "        <td style=\"padding-left: 1em; padding-right: 1em; text-align: center; vertical-align: top\">1</td>\n",
       "        <td style=\"padding-left: 1em; padding-right: 1em; text-align: center; vertical-align: top\">1</td>\n",
       "        <td style=\"padding-left: 1em; padding-right: 1em; text-align: center; vertical-align: top\">1</td>\n",
       "        <td style=\"padding-left: 1em; padding-right: 1em; text-align: center; vertical-align: top\">1</td>\n",
       "    </tr>\n",
       "    <tr>\n",
       "        <td style=\"padding-left: 1em; padding-right: 1em; text-align: center; vertical-align: top\">1</td>\n",
       "        <td style=\"padding-left: 1em; padding-right: 1em; text-align: center; vertical-align: top\">1</td>\n",
       "        <td style=\"padding-left: 1em; padding-right: 1em; text-align: center; vertical-align: top\">1</td>\n",
       "        <td style=\"padding-left: 1em; padding-right: 1em; text-align: center; vertical-align: top\">1</td>\n",
       "        <td style=\"padding-left: 1em; padding-right: 1em; text-align: center; vertical-align: top\">1</td>\n",
       "        <td style=\"padding-left: 1em; padding-right: 1em; text-align: center; vertical-align: top\">1</td>\n",
       "        <td style=\"padding-left: 1em; padding-right: 1em; text-align: center; vertical-align: top\">1</td>\n",
       "        <td style=\"padding-left: 1em; padding-right: 1em; text-align: center; vertical-align: top\">1</td>\n",
       "        <td style=\"padding-left: 1em; padding-right: 1em; text-align: center; vertical-align: top\">1</td>\n",
       "        <td style=\"padding-left: 1em; padding-right: 1em; text-align: center; vertical-align: top\">1</td>\n",
       "        <td style=\"padding-left: 1em; padding-right: 1em; text-align: center; vertical-align: top\">1</td>\n",
       "    </tr>\n",
       "    <tr>\n",
       "        <td style=\"padding-left: 1em; padding-right: 1em; text-align: center; vertical-align: top\">1</td>\n",
       "        <td style=\"padding-left: 1em; padding-right: 1em; text-align: center; vertical-align: top\">1</td>\n",
       "        <td style=\"padding-left: 1em; padding-right: 1em; text-align: center; vertical-align: top\">1</td>\n",
       "        <td style=\"padding-left: 1em; padding-right: 1em; text-align: center; vertical-align: top\">1</td>\n",
       "        <td style=\"padding-left: 1em; padding-right: 1em; text-align: center; vertical-align: top\">1</td>\n",
       "        <td style=\"padding-left: 1em; padding-right: 1em; text-align: center; vertical-align: top\">1</td>\n",
       "        <td style=\"padding-left: 1em; padding-right: 1em; text-align: center; vertical-align: top\">1</td>\n",
       "        <td style=\"padding-left: 1em; padding-right: 1em; text-align: center; vertical-align: top\">1</td>\n",
       "        <td style=\"padding-left: 1em; padding-right: 1em; text-align: center; vertical-align: top\">1</td>\n",
       "        <td style=\"padding-left: 1em; padding-right: 1em; text-align: center; vertical-align: top\">1</td>\n",
       "        <td style=\"padding-left: 1em; padding-right: 1em; text-align: center; vertical-align: top\">1</td>\n",
       "    </tr>\n",
       "    <tr>\n",
       "        <td style=\"padding-left: 1em; padding-right: 1em; text-align: center; vertical-align: top\">1</td>\n",
       "        <td style=\"padding-left: 1em; padding-right: 1em; text-align: center; vertical-align: top\">1</td>\n",
       "        <td style=\"padding-left: 1em; padding-right: 1em; text-align: center; vertical-align: top\">1</td>\n",
       "        <td style=\"padding-left: 1em; padding-right: 1em; text-align: center; vertical-align: top\">1</td>\n",
       "        <td style=\"padding-left: 1em; padding-right: 1em; text-align: center; vertical-align: top\">1</td>\n",
       "        <td style=\"padding-left: 1em; padding-right: 1em; text-align: center; vertical-align: top\">1</td>\n",
       "        <td style=\"padding-left: 1em; padding-right: 1em; text-align: center; vertical-align: top\">1</td>\n",
       "        <td style=\"padding-left: 1em; padding-right: 1em; text-align: center; vertical-align: top\">1</td>\n",
       "        <td style=\"padding-left: 1em; padding-right: 1em; text-align: center; vertical-align: top\">1</td>\n",
       "        <td style=\"padding-left: 1em; padding-right: 1em; text-align: center; vertical-align: top\">1</td>\n",
       "        <td style=\"padding-left: 1em; padding-right: 1em; text-align: center; vertical-align: top\">1</td>\n",
       "    </tr>\n",
       "    <tr>\n",
       "        <td style=\"padding-left: 1em; padding-right: 1em; text-align: center; vertical-align: top\">1</td>\n",
       "        <td style=\"padding-left: 1em; padding-right: 1em; text-align: center; vertical-align: top\">1</td>\n",
       "        <td style=\"padding-left: 1em; padding-right: 1em; text-align: center; vertical-align: top\">1</td>\n",
       "        <td style=\"padding-left: 1em; padding-right: 1em; text-align: center; vertical-align: top\">1</td>\n",
       "        <td style=\"padding-left: 1em; padding-right: 1em; text-align: center; vertical-align: top\">1</td>\n",
       "        <td style=\"padding-left: 1em; padding-right: 1em; text-align: center; vertical-align: top\">1</td>\n",
       "        <td style=\"padding-left: 1em; padding-right: 1em; text-align: center; vertical-align: top\">1</td>\n",
       "        <td style=\"padding-left: 1em; padding-right: 1em; text-align: center; vertical-align: top\">1</td>\n",
       "        <td style=\"padding-left: 1em; padding-right: 1em; text-align: center; vertical-align: top\">1</td>\n",
       "        <td style=\"padding-left: 1em; padding-right: 1em; text-align: center; vertical-align: top\">1</td>\n",
       "        <td style=\"padding-left: 1em; padding-right: 1em; text-align: center; vertical-align: top\">1</td>\n",
       "    </tr>\n",
       "    <tr>\n",
       "        <td style=\"padding-left: 1em; padding-right: 1em; text-align: center; vertical-align: top\">1</td>\n",
       "        <td style=\"padding-left: 1em; padding-right: 1em; text-align: center; vertical-align: top\">1</td>\n",
       "        <td style=\"padding-left: 1em; padding-right: 1em; text-align: center; vertical-align: top\">1</td>\n",
       "        <td style=\"padding-left: 1em; padding-right: 1em; text-align: center; vertical-align: top\">1</td>\n",
       "        <td style=\"padding-left: 1em; padding-right: 1em; text-align: center; vertical-align: top\">1</td>\n",
       "        <td style=\"padding-left: 1em; padding-right: 1em; text-align: center; vertical-align: top\">1</td>\n",
       "        <td style=\"padding-left: 1em; padding-right: 1em; text-align: center; vertical-align: top\">1</td>\n",
       "        <td style=\"padding-left: 1em; padding-right: 1em; text-align: center; vertical-align: top\">1</td>\n",
       "        <td style=\"padding-left: 1em; padding-right: 1em; text-align: center; vertical-align: top\">1</td>\n",
       "        <td style=\"padding-left: 1em; padding-right: 1em; text-align: center; vertical-align: top\">1</td>\n",
       "        <td style=\"padding-left: 1em; padding-right: 1em; text-align: center; vertical-align: top\">1</td>\n",
       "    </tr>\n",
       "    <tr>\n",
       "        <td style=\"padding-left: 1em; padding-right: 1em; text-align: center; vertical-align: top\">1</td>\n",
       "        <td style=\"padding-left: 1em; padding-right: 1em; text-align: center; vertical-align: top\">1</td>\n",
       "        <td style=\"padding-left: 1em; padding-right: 1em; text-align: center; vertical-align: top\">1</td>\n",
       "        <td style=\"padding-left: 1em; padding-right: 1em; text-align: center; vertical-align: top\">1</td>\n",
       "        <td style=\"padding-left: 1em; padding-right: 1em; text-align: center; vertical-align: top\">1</td>\n",
       "        <td style=\"padding-left: 1em; padding-right: 1em; text-align: center; vertical-align: top\">1</td>\n",
       "        <td style=\"padding-left: 1em; padding-right: 1em; text-align: center; vertical-align: top\">1</td>\n",
       "        <td style=\"padding-left: 1em; padding-right: 1em; text-align: center; vertical-align: top\">1</td>\n",
       "        <td style=\"padding-left: 1em; padding-right: 1em; text-align: center; vertical-align: top\">1</td>\n",
       "        <td style=\"padding-left: 1em; padding-right: 1em; text-align: center; vertical-align: top\">1</td>\n",
       "        <td style=\"padding-left: 1em; padding-right: 1em; text-align: center; vertical-align: top\">1</td>\n",
       "    </tr>\n",
       "</table>\n",
       "<table frame=\"box\" rules=\"cols\">\n",
       "    <tr>\n",
       "        <th style=\"padding-left: 1em; padding-right: 1em; text-align: center\">20151103</th>\n",
       "        <th style=\"padding-left: 1em; padding-right: 1em; text-align: center\">20151104</th>\n",
       "        <th style=\"padding-left: 1em; padding-right: 1em; text-align: center\">20151105</th>\n",
       "        <th style=\"padding-left: 1em; padding-right: 1em; text-align: center\">20151106</th>\n",
       "        <th style=\"padding-left: 1em; padding-right: 1em; text-align: center\">20151107</th>\n",
       "        <th style=\"padding-left: 1em; padding-right: 1em; text-align: center\">20151108</th>\n",
       "        <th style=\"padding-left: 1em; padding-right: 1em; text-align: center\">20151109</th>\n",
       "        <th style=\"padding-left: 1em; padding-right: 1em; text-align: center\">20151110</th>\n",
       "        <th style=\"padding-left: 1em; padding-right: 1em; text-align: center\">20151111</th>\n",
       "        <th style=\"padding-left: 1em; padding-right: 1em; text-align: center\">20151112</th>\n",
       "        <th style=\"padding-left: 1em; padding-right: 1em; text-align: center\">20151113</th>\n",
       "    </tr>\n",
       "    <tr>\n",
       "        <td style=\"padding-left: 1em; padding-right: 1em; text-align: center; vertical-align: top\">1</td>\n",
       "        <td style=\"padding-left: 1em; padding-right: 1em; text-align: center; vertical-align: top\">1</td>\n",
       "        <td style=\"padding-left: 1em; padding-right: 1em; text-align: center; vertical-align: top\">1</td>\n",
       "        <td style=\"padding-left: 1em; padding-right: 1em; text-align: center; vertical-align: top\">1</td>\n",
       "        <td style=\"padding-left: 1em; padding-right: 1em; text-align: center; vertical-align: top\">1</td>\n",
       "        <td style=\"padding-left: 1em; padding-right: 1em; text-align: center; vertical-align: top\">1</td>\n",
       "        <td style=\"padding-left: 1em; padding-right: 1em; text-align: center; vertical-align: top\">1</td>\n",
       "        <td style=\"padding-left: 1em; padding-right: 1em; text-align: center; vertical-align: top\">1</td>\n",
       "        <td style=\"padding-left: 1em; padding-right: 1em; text-align: center; vertical-align: top\">1</td>\n",
       "        <td style=\"padding-left: 1em; padding-right: 1em; text-align: center; vertical-align: top\">1</td>\n",
       "        <td style=\"padding-left: 1em; padding-right: 1em; text-align: center; vertical-align: top\">1</td>\n",
       "    </tr>\n",
       "    <tr>\n",
       "        <td style=\"padding-left: 1em; padding-right: 1em; text-align: center; vertical-align: top\">1</td>\n",
       "        <td style=\"padding-left: 1em; padding-right: 1em; text-align: center; vertical-align: top\">1</td>\n",
       "        <td style=\"padding-left: 1em; padding-right: 1em; text-align: center; vertical-align: top\">1</td>\n",
       "        <td style=\"padding-left: 1em; padding-right: 1em; text-align: center; vertical-align: top\">1</td>\n",
       "        <td style=\"padding-left: 1em; padding-right: 1em; text-align: center; vertical-align: top\">1</td>\n",
       "        <td style=\"padding-left: 1em; padding-right: 1em; text-align: center; vertical-align: top\">1</td>\n",
       "        <td style=\"padding-left: 1em; padding-right: 1em; text-align: center; vertical-align: top\">1</td>\n",
       "        <td style=\"padding-left: 1em; padding-right: 1em; text-align: center; vertical-align: top\">1</td>\n",
       "        <td style=\"padding-left: 1em; padding-right: 1em; text-align: center; vertical-align: top\">1</td>\n",
       "        <td style=\"padding-left: 1em; padding-right: 1em; text-align: center; vertical-align: top\">1</td>\n",
       "        <td style=\"padding-left: 1em; padding-right: 1em; text-align: center; vertical-align: top\">1</td>\n",
       "    </tr>\n",
       "    <tr>\n",
       "        <td style=\"padding-left: 1em; padding-right: 1em; text-align: center; vertical-align: top\">1</td>\n",
       "        <td style=\"padding-left: 1em; padding-right: 1em; text-align: center; vertical-align: top\">1</td>\n",
       "        <td style=\"padding-left: 1em; padding-right: 1em; text-align: center; vertical-align: top\">1</td>\n",
       "        <td style=\"padding-left: 1em; padding-right: 1em; text-align: center; vertical-align: top\">1</td>\n",
       "        <td style=\"padding-left: 1em; padding-right: 1em; text-align: center; vertical-align: top\">1</td>\n",
       "        <td style=\"padding-left: 1em; padding-right: 1em; text-align: center; vertical-align: top\">1</td>\n",
       "        <td style=\"padding-left: 1em; padding-right: 1em; text-align: center; vertical-align: top\">1</td>\n",
       "        <td style=\"padding-left: 1em; padding-right: 1em; text-align: center; vertical-align: top\">1</td>\n",
       "        <td style=\"padding-left: 1em; padding-right: 1em; text-align: center; vertical-align: top\">1</td>\n",
       "        <td style=\"padding-left: 1em; padding-right: 1em; text-align: center; vertical-align: top\">1</td>\n",
       "        <td style=\"padding-left: 1em; padding-right: 1em; text-align: center; vertical-align: top\">1</td>\n",
       "    </tr>\n",
       "    <tr>\n",
       "        <td style=\"padding-left: 1em; padding-right: 1em; text-align: center; vertical-align: top\">1</td>\n",
       "        <td style=\"padding-left: 1em; padding-right: 1em; text-align: center; vertical-align: top\">1</td>\n",
       "        <td style=\"padding-left: 1em; padding-right: 1em; text-align: center; vertical-align: top\">1</td>\n",
       "        <td style=\"padding-left: 1em; padding-right: 1em; text-align: center; vertical-align: top\">1</td>\n",
       "        <td style=\"padding-left: 1em; padding-right: 1em; text-align: center; vertical-align: top\">1</td>\n",
       "        <td style=\"padding-left: 1em; padding-right: 1em; text-align: center; vertical-align: top\">1</td>\n",
       "        <td style=\"padding-left: 1em; padding-right: 1em; text-align: center; vertical-align: top\">1</td>\n",
       "        <td style=\"padding-left: 1em; padding-right: 1em; text-align: center; vertical-align: top\">1</td>\n",
       "        <td style=\"padding-left: 1em; padding-right: 1em; text-align: center; vertical-align: top\">1</td>\n",
       "        <td style=\"padding-left: 1em; padding-right: 1em; text-align: center; vertical-align: top\">1</td>\n",
       "        <td style=\"padding-left: 1em; padding-right: 1em; text-align: center; vertical-align: top\">1</td>\n",
       "    </tr>\n",
       "    <tr>\n",
       "        <td style=\"padding-left: 1em; padding-right: 1em; text-align: center; vertical-align: top\">1</td>\n",
       "        <td style=\"padding-left: 1em; padding-right: 1em; text-align: center; vertical-align: top\">1</td>\n",
       "        <td style=\"padding-left: 1em; padding-right: 1em; text-align: center; vertical-align: top\">1</td>\n",
       "        <td style=\"padding-left: 1em; padding-right: 1em; text-align: center; vertical-align: top\">1</td>\n",
       "        <td style=\"padding-left: 1em; padding-right: 1em; text-align: center; vertical-align: top\">1</td>\n",
       "        <td style=\"padding-left: 1em; padding-right: 1em; text-align: center; vertical-align: top\">1</td>\n",
       "        <td style=\"padding-left: 1em; padding-right: 1em; text-align: center; vertical-align: top\">1</td>\n",
       "        <td style=\"padding-left: 1em; padding-right: 1em; text-align: center; vertical-align: top\">1</td>\n",
       "        <td style=\"padding-left: 1em; padding-right: 1em; text-align: center; vertical-align: top\">1</td>\n",
       "        <td style=\"padding-left: 1em; padding-right: 1em; text-align: center; vertical-align: top\">1</td>\n",
       "        <td style=\"padding-left: 1em; padding-right: 1em; text-align: center; vertical-align: top\">1</td>\n",
       "    </tr>\n",
       "    <tr>\n",
       "        <td style=\"padding-left: 1em; padding-right: 1em; text-align: center; vertical-align: top\">1</td>\n",
       "        <td style=\"padding-left: 1em; padding-right: 1em; text-align: center; vertical-align: top\">1</td>\n",
       "        <td style=\"padding-left: 1em; padding-right: 1em; text-align: center; vertical-align: top\">1</td>\n",
       "        <td style=\"padding-left: 1em; padding-right: 1em; text-align: center; vertical-align: top\">1</td>\n",
       "        <td style=\"padding-left: 1em; padding-right: 1em; text-align: center; vertical-align: top\">1</td>\n",
       "        <td style=\"padding-left: 1em; padding-right: 1em; text-align: center; vertical-align: top\">1</td>\n",
       "        <td style=\"padding-left: 1em; padding-right: 1em; text-align: center; vertical-align: top\">1</td>\n",
       "        <td style=\"padding-left: 1em; padding-right: 1em; text-align: center; vertical-align: top\">1</td>\n",
       "        <td style=\"padding-left: 1em; padding-right: 1em; text-align: center; vertical-align: top\">1</td>\n",
       "        <td style=\"padding-left: 1em; padding-right: 1em; text-align: center; vertical-align: top\">1</td>\n",
       "        <td style=\"padding-left: 1em; padding-right: 1em; text-align: center; vertical-align: top\">1</td>\n",
       "    </tr>\n",
       "    <tr>\n",
       "        <td style=\"padding-left: 1em; padding-right: 1em; text-align: center; vertical-align: top\">1</td>\n",
       "        <td style=\"padding-left: 1em; padding-right: 1em; text-align: center; vertical-align: top\">1</td>\n",
       "        <td style=\"padding-left: 1em; padding-right: 1em; text-align: center; vertical-align: top\">1</td>\n",
       "        <td style=\"padding-left: 1em; padding-right: 1em; text-align: center; vertical-align: top\">1</td>\n",
       "        <td style=\"padding-left: 1em; padding-right: 1em; text-align: center; vertical-align: top\">1</td>\n",
       "        <td style=\"padding-left: 1em; padding-right: 1em; text-align: center; vertical-align: top\">1</td>\n",
       "        <td style=\"padding-left: 1em; padding-right: 1em; text-align: center; vertical-align: top\">1</td>\n",
       "        <td style=\"padding-left: 1em; padding-right: 1em; text-align: center; vertical-align: top\">1</td>\n",
       "        <td style=\"padding-left: 1em; padding-right: 1em; text-align: center; vertical-align: top\">1</td>\n",
       "        <td style=\"padding-left: 1em; padding-right: 1em; text-align: center; vertical-align: top\">1</td>\n",
       "        <td style=\"padding-left: 1em; padding-right: 1em; text-align: center; vertical-align: top\">1</td>\n",
       "    </tr>\n",
       "    <tr>\n",
       "        <td style=\"padding-left: 1em; padding-right: 1em; text-align: center; vertical-align: top\">1</td>\n",
       "        <td style=\"padding-left: 1em; padding-right: 1em; text-align: center; vertical-align: top\">1</td>\n",
       "        <td style=\"padding-left: 1em; padding-right: 1em; text-align: center; vertical-align: top\">1</td>\n",
       "        <td style=\"padding-left: 1em; padding-right: 1em; text-align: center; vertical-align: top\">1</td>\n",
       "        <td style=\"padding-left: 1em; padding-right: 1em; text-align: center; vertical-align: top\">1</td>\n",
       "        <td style=\"padding-left: 1em; padding-right: 1em; text-align: center; vertical-align: top\">1</td>\n",
       "        <td style=\"padding-left: 1em; padding-right: 1em; text-align: center; vertical-align: top\">1</td>\n",
       "        <td style=\"padding-left: 1em; padding-right: 1em; text-align: center; vertical-align: top\">1</td>\n",
       "        <td style=\"padding-left: 1em; padding-right: 1em; text-align: center; vertical-align: top\">1</td>\n",
       "        <td style=\"padding-left: 1em; padding-right: 1em; text-align: center; vertical-align: top\">1</td>\n",
       "        <td style=\"padding-left: 1em; padding-right: 1em; text-align: center; vertical-align: top\">1</td>\n",
       "    </tr>\n",
       "    <tr>\n",
       "        <td style=\"padding-left: 1em; padding-right: 1em; text-align: center; vertical-align: top\">1</td>\n",
       "        <td style=\"padding-left: 1em; padding-right: 1em; text-align: center; vertical-align: top\">1</td>\n",
       "        <td style=\"padding-left: 1em; padding-right: 1em; text-align: center; vertical-align: top\">1</td>\n",
       "        <td style=\"padding-left: 1em; padding-right: 1em; text-align: center; vertical-align: top\">1</td>\n",
       "        <td style=\"padding-left: 1em; padding-right: 1em; text-align: center; vertical-align: top\">1</td>\n",
       "        <td style=\"padding-left: 1em; padding-right: 1em; text-align: center; vertical-align: top\">1</td>\n",
       "        <td style=\"padding-left: 1em; padding-right: 1em; text-align: center; vertical-align: top\">1</td>\n",
       "        <td style=\"padding-left: 1em; padding-right: 1em; text-align: center; vertical-align: top\">1</td>\n",
       "        <td style=\"padding-left: 1em; padding-right: 1em; text-align: center; vertical-align: top\">1</td>\n",
       "        <td style=\"padding-left: 1em; padding-right: 1em; text-align: center; vertical-align: top\">1</td>\n",
       "        <td style=\"padding-left: 1em; padding-right: 1em; text-align: center; vertical-align: top\">1</td>\n",
       "    </tr>\n",
       "    <tr>\n",
       "        <td style=\"padding-left: 1em; padding-right: 1em; text-align: center; vertical-align: top\">1</td>\n",
       "        <td style=\"padding-left: 1em; padding-right: 1em; text-align: center; vertical-align: top\">1</td>\n",
       "        <td style=\"padding-left: 1em; padding-right: 1em; text-align: center; vertical-align: top\">1</td>\n",
       "        <td style=\"padding-left: 1em; padding-right: 1em; text-align: center; vertical-align: top\">1</td>\n",
       "        <td style=\"padding-left: 1em; padding-right: 1em; text-align: center; vertical-align: top\">1</td>\n",
       "        <td style=\"padding-left: 1em; padding-right: 1em; text-align: center; vertical-align: top\">1</td>\n",
       "        <td style=\"padding-left: 1em; padding-right: 1em; text-align: center; vertical-align: top\">1</td>\n",
       "        <td style=\"padding-left: 1em; padding-right: 1em; text-align: center; vertical-align: top\">1</td>\n",
       "        <td style=\"padding-left: 1em; padding-right: 1em; text-align: center; vertical-align: top\">1</td>\n",
       "        <td style=\"padding-left: 1em; padding-right: 1em; text-align: center; vertical-align: top\">1</td>\n",
       "        <td style=\"padding-left: 1em; padding-right: 1em; text-align: center; vertical-align: top\">1</td>\n",
       "    </tr>\n",
       "</table>\n",
       "<table frame=\"box\" rules=\"cols\">\n",
       "    <tr>\n",
       "        <th style=\"padding-left: 1em; padding-right: 1em; text-align: center\">20151114</th>\n",
       "        <th style=\"padding-left: 1em; padding-right: 1em; text-align: center\">20151115</th>\n",
       "        <th style=\"padding-left: 1em; padding-right: 1em; text-align: center\">20151116</th>\n",
       "        <th style=\"padding-left: 1em; padding-right: 1em; text-align: center\">20151117</th>\n",
       "        <th style=\"padding-left: 1em; padding-right: 1em; text-align: center\">20151118</th>\n",
       "        <th style=\"padding-left: 1em; padding-right: 1em; text-align: center\">20151119</th>\n",
       "        <th style=\"padding-left: 1em; padding-right: 1em; text-align: center\">20151120</th>\n",
       "        <th style=\"padding-left: 1em; padding-right: 1em; text-align: center\">...</th>\n",
       "    </tr>\n",
       "    <tr>\n",
       "        <td style=\"padding-left: 1em; padding-right: 1em; text-align: center; vertical-align: top\">1</td>\n",
       "        <td style=\"padding-left: 1em; padding-right: 1em; text-align: center; vertical-align: top\">1</td>\n",
       "        <td style=\"padding-left: 1em; padding-right: 1em; text-align: center; vertical-align: top\">1</td>\n",
       "        <td style=\"padding-left: 1em; padding-right: 1em; text-align: center; vertical-align: top\">1</td>\n",
       "        <td style=\"padding-left: 1em; padding-right: 1em; text-align: center; vertical-align: top\">1</td>\n",
       "        <td style=\"padding-left: 1em; padding-right: 1em; text-align: center; vertical-align: top\">1</td>\n",
       "        <td style=\"padding-left: 1em; padding-right: 1em; text-align: center; vertical-align: top\">1</td>\n",
       "        <td style=\"padding-left: 1em; padding-right: 1em; text-align: center; vertical-align: top\">...</td>\n",
       "    </tr>\n",
       "    <tr>\n",
       "        <td style=\"padding-left: 1em; padding-right: 1em; text-align: center; vertical-align: top\">1</td>\n",
       "        <td style=\"padding-left: 1em; padding-right: 1em; text-align: center; vertical-align: top\">1</td>\n",
       "        <td style=\"padding-left: 1em; padding-right: 1em; text-align: center; vertical-align: top\">1</td>\n",
       "        <td style=\"padding-left: 1em; padding-right: 1em; text-align: center; vertical-align: top\">1</td>\n",
       "        <td style=\"padding-left: 1em; padding-right: 1em; text-align: center; vertical-align: top\">1</td>\n",
       "        <td style=\"padding-left: 1em; padding-right: 1em; text-align: center; vertical-align: top\">1</td>\n",
       "        <td style=\"padding-left: 1em; padding-right: 1em; text-align: center; vertical-align: top\">1</td>\n",
       "        <td style=\"padding-left: 1em; padding-right: 1em; text-align: center; vertical-align: top\">...</td>\n",
       "    </tr>\n",
       "    <tr>\n",
       "        <td style=\"padding-left: 1em; padding-right: 1em; text-align: center; vertical-align: top\">1</td>\n",
       "        <td style=\"padding-left: 1em; padding-right: 1em; text-align: center; vertical-align: top\">1</td>\n",
       "        <td style=\"padding-left: 1em; padding-right: 1em; text-align: center; vertical-align: top\">1</td>\n",
       "        <td style=\"padding-left: 1em; padding-right: 1em; text-align: center; vertical-align: top\">1</td>\n",
       "        <td style=\"padding-left: 1em; padding-right: 1em; text-align: center; vertical-align: top\">1</td>\n",
       "        <td style=\"padding-left: 1em; padding-right: 1em; text-align: center; vertical-align: top\">1</td>\n",
       "        <td style=\"padding-left: 1em; padding-right: 1em; text-align: center; vertical-align: top\">1</td>\n",
       "        <td style=\"padding-left: 1em; padding-right: 1em; text-align: center; vertical-align: top\">...</td>\n",
       "    </tr>\n",
       "    <tr>\n",
       "        <td style=\"padding-left: 1em; padding-right: 1em; text-align: center; vertical-align: top\">1</td>\n",
       "        <td style=\"padding-left: 1em; padding-right: 1em; text-align: center; vertical-align: top\">1</td>\n",
       "        <td style=\"padding-left: 1em; padding-right: 1em; text-align: center; vertical-align: top\">1</td>\n",
       "        <td style=\"padding-left: 1em; padding-right: 1em; text-align: center; vertical-align: top\">1</td>\n",
       "        <td style=\"padding-left: 1em; padding-right: 1em; text-align: center; vertical-align: top\">1</td>\n",
       "        <td style=\"padding-left: 1em; padding-right: 1em; text-align: center; vertical-align: top\">1</td>\n",
       "        <td style=\"padding-left: 1em; padding-right: 1em; text-align: center; vertical-align: top\">1</td>\n",
       "        <td style=\"padding-left: 1em; padding-right: 1em; text-align: center; vertical-align: top\">...</td>\n",
       "    </tr>\n",
       "    <tr>\n",
       "        <td style=\"padding-left: 1em; padding-right: 1em; text-align: center; vertical-align: top\">1</td>\n",
       "        <td style=\"padding-left: 1em; padding-right: 1em; text-align: center; vertical-align: top\">1</td>\n",
       "        <td style=\"padding-left: 1em; padding-right: 1em; text-align: center; vertical-align: top\">1</td>\n",
       "        <td style=\"padding-left: 1em; padding-right: 1em; text-align: center; vertical-align: top\">1</td>\n",
       "        <td style=\"padding-left: 1em; padding-right: 1em; text-align: center; vertical-align: top\">1</td>\n",
       "        <td style=\"padding-left: 1em; padding-right: 1em; text-align: center; vertical-align: top\">1</td>\n",
       "        <td style=\"padding-left: 1em; padding-right: 1em; text-align: center; vertical-align: top\">1</td>\n",
       "        <td style=\"padding-left: 1em; padding-right: 1em; text-align: center; vertical-align: top\">...</td>\n",
       "    </tr>\n",
       "    <tr>\n",
       "        <td style=\"padding-left: 1em; padding-right: 1em; text-align: center; vertical-align: top\">1</td>\n",
       "        <td style=\"padding-left: 1em; padding-right: 1em; text-align: center; vertical-align: top\">1</td>\n",
       "        <td style=\"padding-left: 1em; padding-right: 1em; text-align: center; vertical-align: top\">1</td>\n",
       "        <td style=\"padding-left: 1em; padding-right: 1em; text-align: center; vertical-align: top\">1</td>\n",
       "        <td style=\"padding-left: 1em; padding-right: 1em; text-align: center; vertical-align: top\">1</td>\n",
       "        <td style=\"padding-left: 1em; padding-right: 1em; text-align: center; vertical-align: top\">1</td>\n",
       "        <td style=\"padding-left: 1em; padding-right: 1em; text-align: center; vertical-align: top\">1</td>\n",
       "        <td style=\"padding-left: 1em; padding-right: 1em; text-align: center; vertical-align: top\">...</td>\n",
       "    </tr>\n",
       "    <tr>\n",
       "        <td style=\"padding-left: 1em; padding-right: 1em; text-align: center; vertical-align: top\">1</td>\n",
       "        <td style=\"padding-left: 1em; padding-right: 1em; text-align: center; vertical-align: top\">1</td>\n",
       "        <td style=\"padding-left: 1em; padding-right: 1em; text-align: center; vertical-align: top\">1</td>\n",
       "        <td style=\"padding-left: 1em; padding-right: 1em; text-align: center; vertical-align: top\">1</td>\n",
       "        <td style=\"padding-left: 1em; padding-right: 1em; text-align: center; vertical-align: top\">1</td>\n",
       "        <td style=\"padding-left: 1em; padding-right: 1em; text-align: center; vertical-align: top\">1</td>\n",
       "        <td style=\"padding-left: 1em; padding-right: 1em; text-align: center; vertical-align: top\">1</td>\n",
       "        <td style=\"padding-left: 1em; padding-right: 1em; text-align: center; vertical-align: top\">...</td>\n",
       "    </tr>\n",
       "    <tr>\n",
       "        <td style=\"padding-left: 1em; padding-right: 1em; text-align: center; vertical-align: top\">1</td>\n",
       "        <td style=\"padding-left: 1em; padding-right: 1em; text-align: center; vertical-align: top\">1</td>\n",
       "        <td style=\"padding-left: 1em; padding-right: 1em; text-align: center; vertical-align: top\">1</td>\n",
       "        <td style=\"padding-left: 1em; padding-right: 1em; text-align: center; vertical-align: top\">1</td>\n",
       "        <td style=\"padding-left: 1em; padding-right: 1em; text-align: center; vertical-align: top\">1</td>\n",
       "        <td style=\"padding-left: 1em; padding-right: 1em; text-align: center; vertical-align: top\">1</td>\n",
       "        <td style=\"padding-left: 1em; padding-right: 1em; text-align: center; vertical-align: top\">1</td>\n",
       "        <td style=\"padding-left: 1em; padding-right: 1em; text-align: center; vertical-align: top\">...</td>\n",
       "    </tr>\n",
       "    <tr>\n",
       "        <td style=\"padding-left: 1em; padding-right: 1em; text-align: center; vertical-align: top\">1</td>\n",
       "        <td style=\"padding-left: 1em; padding-right: 1em; text-align: center; vertical-align: top\">1</td>\n",
       "        <td style=\"padding-left: 1em; padding-right: 1em; text-align: center; vertical-align: top\">1</td>\n",
       "        <td style=\"padding-left: 1em; padding-right: 1em; text-align: center; vertical-align: top\">1</td>\n",
       "        <td style=\"padding-left: 1em; padding-right: 1em; text-align: center; vertical-align: top\">1</td>\n",
       "        <td style=\"padding-left: 1em; padding-right: 1em; text-align: center; vertical-align: top\">1</td>\n",
       "        <td style=\"padding-left: 1em; padding-right: 1em; text-align: center; vertical-align: top\">1</td>\n",
       "        <td style=\"padding-left: 1em; padding-right: 1em; text-align: center; vertical-align: top\">...</td>\n",
       "    </tr>\n",
       "    <tr>\n",
       "        <td style=\"padding-left: 1em; padding-right: 1em; text-align: center; vertical-align: top\">1</td>\n",
       "        <td style=\"padding-left: 1em; padding-right: 1em; text-align: center; vertical-align: top\">1</td>\n",
       "        <td style=\"padding-left: 1em; padding-right: 1em; text-align: center; vertical-align: top\">1</td>\n",
       "        <td style=\"padding-left: 1em; padding-right: 1em; text-align: center; vertical-align: top\">1</td>\n",
       "        <td style=\"padding-left: 1em; padding-right: 1em; text-align: center; vertical-align: top\">1</td>\n",
       "        <td style=\"padding-left: 1em; padding-right: 1em; text-align: center; vertical-align: top\">1</td>\n",
       "        <td style=\"padding-left: 1em; padding-right: 1em; text-align: center; vertical-align: top\">1</td>\n",
       "        <td style=\"padding-left: 1em; padding-right: 1em; text-align: center; vertical-align: top\">...</td>\n",
       "    </tr>\n",
       "</table>\n",
       "[2533 rows x 122 columns]<br/>Note: Only the head of the SFrame is printed.<br/>You can use print_rows(num_rows=m, num_columns=n) to print more rows and columns.\n",
       "</div>"
      ],
      "text/plain": [
       "Columns:\n",
       "\tuser_id\tint\n",
       "\t20150911\tint\n",
       "\t20151011\tint\n",
       "\t20151013\tint\n",
       "\t20151014\tint\n",
       "\t20151015\tint\n",
       "\t20151016\tint\n",
       "\t20151017\tint\n",
       "\t20151018\tint\n",
       "\t20151019\tint\n",
       "\t20151020\tint\n",
       "\t20151021\tint\n",
       "\t20151022\tint\n",
       "\t20151023\tint\n",
       "\t20151024\tint\n",
       "\t20151025\tint\n",
       "\t20151026\tint\n",
       "\t20151027\tint\n",
       "\t20151028\tint\n",
       "\t20151029\tint\n",
       "\t20151030\tint\n",
       "\t20151102\tint\n",
       "\t20151103\tint\n",
       "\t20151104\tint\n",
       "\t20151105\tint\n",
       "\t20151106\tint\n",
       "\t20151107\tint\n",
       "\t20151108\tint\n",
       "\t20151109\tint\n",
       "\t20151110\tint\n",
       "\t20151111\tint\n",
       "\t20151112\tint\n",
       "\t20151113\tint\n",
       "\t20151114\tint\n",
       "\t20151115\tint\n",
       "\t20151116\tint\n",
       "\t20151117\tint\n",
       "\t20151118\tint\n",
       "\t20151119\tint\n",
       "\t20151120\tint\n",
       "\t20151121\tint\n",
       "\t20151122\tint\n",
       "\t20151123\tint\n",
       "\t20151124\tint\n",
       "\t20151125\tint\n",
       "\t20151126\tint\n",
       "\t20151127\tint\n",
       "\t20151128\tint\n",
       "\t20151129\tint\n",
       "\t20151130\tint\n",
       "\t20151201\tint\n",
       "\t20151202\tint\n",
       "\t20151203\tint\n",
       "\t20151204\tint\n",
       "\t20151205\tint\n",
       "\t20151206\tint\n",
       "\t20151207\tint\n",
       "\t20151208\tint\n",
       "\t20151209\tint\n",
       "\t20151210\tint\n",
       "\t20151211\tint\n",
       "\t20151212\tint\n",
       "\t20151213\tint\n",
       "\t20151214\tint\n",
       "\t20151215\tint\n",
       "\t20151216\tint\n",
       "\t20151217\tint\n",
       "\t20151218\tint\n",
       "\t20151219\tint\n",
       "\t20151220\tint\n",
       "\t20151221\tint\n",
       "\t20151222\tint\n",
       "\t20151223\tint\n",
       "\t20151224\tint\n",
       "\t20151225\tint\n",
       "\t20151226\tint\n",
       "\t20151227\tint\n",
       "\t20151228\tint\n",
       "\t20151229\tint\n",
       "\t20151230\tint\n",
       "\t20151231\tint\n",
       "\t20160101\tint\n",
       "\t20160102\tint\n",
       "\t20160103\tint\n",
       "\t20160104\tint\n",
       "\t20160105\tint\n",
       "\t20160106\tint\n",
       "\t20160107\tint\n",
       "\t20160108\tint\n",
       "\t20160109\tint\n",
       "\t20160110\tint\n",
       "\t20160111\tint\n",
       "\t20160112\tint\n",
       "\t20160113\tint\n",
       "\t20160114\tint\n",
       "\t20160115\tint\n",
       "\t20160116\tint\n",
       "\t20160117\tint\n",
       "\t20160118\tint\n",
       "\t20160119\tint\n",
       "\t20160120\tint\n",
       "\t20160121\tint\n",
       "\t20160122\tint\n",
       "\t20160123\tint\n",
       "\t20160124\tint\n",
       "\t20160125\tint\n",
       "\t20160126\tint\n",
       "\t20160127\tint\n",
       "\t20160128\tint\n",
       "\t20160129\tint\n",
       "\t20160130\tint\n",
       "\t20160131\tint\n",
       "\t20160201\tint\n",
       "\t20160202\tint\n",
       "\t20160203\tint\n",
       "\t20160204\tint\n",
       "\t20160205\tint\n",
       "\t20160206\tint\n",
       "\t20160207\tint\n",
       "\t20160208\tint\n",
       "\t20160209\tint\n",
       "\t20160210\tint\n",
       "\n",
       "Rows: 2533\n",
       "\n",
       "Data:\n",
       "+------------+----------+----------+----------+----------+----------+----------+\n",
       "|  user_id   | 20150911 | 20151011 | 20151013 | 20151014 | 20151015 | 20151016 |\n",
       "+------------+----------+----------+----------+----------+----------+----------+\n",
       "| 229552128  |    1     |    1     |    1     |    1     |    1     |    1     |\n",
       "| 3232227331 |    1     |    1     |    1     |    1     |    1     |    1     |\n",
       "| 2443083780 |    1     |    1     |    1     |    1     |    1     |    1     |\n",
       "| 321003525  |    1     |    1     |    1     |    1     |    1     |    1     |\n",
       "| 928358407  |    1     |    1     |    1     |    1     |    1     |    1     |\n",
       "|  75603977  |    1     |    1     |    1     |    1     |    1     |    1     |\n",
       "|  29532171  |    1     |    1     |    1     |    1     |    1     |    1     |\n",
       "|  37847061  |    1     |    1     |    1     |    1     |    1     |    1     |\n",
       "|  77307927  |    1     |    1     |    1     |    1     |    1     |    1     |\n",
       "|  83876527  |    1     |    1     |    1     |    1     |    1     |    1     |\n",
       "+------------+----------+----------+----------+----------+----------+----------+\n",
       "+----------+----------+----------+----------+----------+----------+----------+----------+\n",
       "| 20151017 | 20151018 | 20151019 | 20151020 | 20151021 | 20151022 | 20151023 | 20151024 |\n",
       "+----------+----------+----------+----------+----------+----------+----------+----------+\n",
       "|    1     |    1     |    1     |    1     |    1     |    1     |    1     |    1     |\n",
       "|    1     |    1     |    1     |    1     |    1     |    1     |    1     |    1     |\n",
       "|    1     |    1     |    1     |    1     |    1     |    1     |    1     |    1     |\n",
       "|    1     |    1     |    1     |    1     |    1     |    1     |    1     |    1     |\n",
       "|    1     |    1     |    1     |    1     |    1     |    1     |    1     |    1     |\n",
       "|    1     |    1     |    1     |    1     |    1     |    1     |    1     |    1     |\n",
       "|    1     |    1     |    1     |    1     |    1     |    1     |    1     |    1     |\n",
       "|    1     |    1     |    1     |    1     |    1     |    1     |    1     |    1     |\n",
       "|    1     |    1     |    1     |    1     |    1     |    1     |    1     |    1     |\n",
       "|    1     |    1     |    1     |    1     |    1     |    1     |    1     |    1     |\n",
       "+----------+----------+----------+----------+----------+----------+----------+----------+\n",
       "+----------+----------+----------+----------+----------+-----+\n",
       "| 20151025 | 20151026 | 20151027 | 20151028 | 20151029 | ... |\n",
       "+----------+----------+----------+----------+----------+-----+\n",
       "|    1     |    1     |    1     |    1     |    1     | ... |\n",
       "|    1     |    1     |    1     |    1     |    1     | ... |\n",
       "|    1     |    1     |    1     |    1     |    1     | ... |\n",
       "|    1     |    1     |    1     |    1     |    1     | ... |\n",
       "|    1     |    1     |    1     |    1     |    1     | ... |\n",
       "|    1     |    1     |    1     |    1     |    1     | ... |\n",
       "|    1     |    1     |    1     |    1     |    1     | ... |\n",
       "|    1     |    1     |    1     |    1     |    1     | ... |\n",
       "|    1     |    1     |    1     |    1     |    1     | ... |\n",
       "|    1     |    1     |    1     |    1     |    1     | ... |\n",
       "+----------+----------+----------+----------+----------+-----+\n",
       "[2533 rows x 122 columns]\n",
       "Note: Only the head of the SFrame is printed.\n",
       "You can use print_rows(num_rows=m, num_columns=n) to print more rows and columns."
      ]
     },
     "execution_count": 11,
     "metadata": {},
     "output_type": "execute_result"
    }
   ],
   "source": [
    "alter = gl.SFrame.read_csv(data_dir + data_list[2], \n",
    "                           header = True, \n",
    "                           delimiter = ',', \n",
    "                           column_type_hints = {'user_id': int})\n",
    "alter"
   ]
  },
  {
   "cell_type": "code",
   "execution_count": 12,
   "metadata": {},
   "outputs": [
    {
     "data": {
      "text/plain": [
       "dtype: int\n",
       "Rows: 2533\n",
       "[267984788, 1127034493, 844440944, 2555534012, 50518751, 171151597, 69083921, 18014005, 255671995, 67388190, 17295588, 14075928, 35007060, 379397581, 612004383, 15024090, 151728530, 49811632, 223180780, 36151251, 2282491334, 301459434, 106446289, 4099074493, 1226130919, 24280252, 236912834, 17801479, 15821830, 532528709, 14344402, 27323880, 90945524, 14131848, 123359510, 217885815, 8320872, 40164352, 20785676, 18769128, 20783, 1205701, 84612979, 5997562, 312868565, 591102049, 14311294, 14369768, 20680399, 30983350, 40980478, 1138078722, 83276679, 136004817, 19310754, 229552128, 1230637795, 197652022, 12885642, 13341022, 17712234, 182224282, 145751624, 2732727324, 15923700, 134872360, 963512402, 16221987, 213511743, 12738722, 4618406119, 2324069972, 173825889, 611276345, 176540247, 169353327, 265032623, 362532335, 108796474, 35564568, 22492279, 17818353, 278127444, 117552075, 17664847, 163238573, 74962228, 50173115, 16000951, 21210607, 19063323, 170229026, 18061908, 17239494, 79310744, 18329398, 304678402, 257199215, 3227129128, 47748118, ... ]"
      ]
     },
     "execution_count": 12,
     "metadata": {},
     "output_type": "execute_result"
    }
   ],
   "source": [
    "alter['user_id'].unique()\n",
    "# No duplicate values"
   ]
  },
  {
   "cell_type": "markdown",
   "metadata": {},
   "source": [
    "### For the status_alter"
   ]
  },
  {
   "cell_type": "code",
   "execution_count": 13,
   "metadata": {},
   "outputs": [
    {
     "data": {
      "text/html": [
       "<pre>Finished parsing file /Users/lyndon/graphlab/NFL_data/demo/14073680-status_alter.csv</pre>"
      ],
      "text/plain": [
       "Finished parsing file /Users/lyndon/graphlab/NFL_data/demo/14073680-status_alter.csv"
      ]
     },
     "metadata": {},
     "output_type": "display_data"
    },
    {
     "data": {
      "text/html": [
       "<pre>Parsing completed. Parsed 100 lines in 0.360586 secs.</pre>"
      ],
      "text/plain": [
       "Parsing completed. Parsed 100 lines in 0.360586 secs."
      ]
     },
     "metadata": {},
     "output_type": "display_data"
    },
    {
     "data": {
      "text/html": [
       "<pre>Read 1236127 lines. Lines per second: 1.8532e+06</pre>"
      ],
      "text/plain": [
       "Read 1236127 lines. Lines per second: 1.8532e+06"
      ]
     },
     "metadata": {},
     "output_type": "display_data"
    },
    {
     "data": {
      "text/html": [
       "<pre>Finished parsing file /Users/lyndon/graphlab/NFL_data/demo/14073680-status_alter.csv</pre>"
      ],
      "text/plain": [
       "Finished parsing file /Users/lyndon/graphlab/NFL_data/demo/14073680-status_alter.csv"
      ]
     },
     "metadata": {},
     "output_type": "display_data"
    },
    {
     "data": {
      "text/html": [
       "<pre>Parsing completed. Parsed 3646363 lines in 1.18315 secs.</pre>"
      ],
      "text/plain": [
       "Parsing completed. Parsed 3646363 lines in 1.18315 secs."
      ]
     },
     "metadata": {},
     "output_type": "display_data"
    },
    {
     "data": {
      "text/html": [
       "<div style=\"max-height:1000px;max-width:1500px;overflow:auto;\"><table frame=\"box\" rules=\"cols\">\n",
       "    <tr>\n",
       "        <th style=\"padding-left: 1em; padding-right: 1em; text-align: center\">id</th>\n",
       "        <th style=\"padding-left: 1em; padding-right: 1em; text-align: center\">user_id</th>\n",
       "        <th style=\"padding-left: 1em; padding-right: 1em; text-align: center\">created_at</th>\n",
       "    </tr>\n",
       "    <tr>\n",
       "        <td style=\"padding-left: 1em; padding-right: 1em; text-align: center; vertical-align: top\">693709762563870720</td>\n",
       "        <td style=\"padding-left: 1em; padding-right: 1em; text-align: center; vertical-align: top\">229552128</td>\n",
       "        <td style=\"padding-left: 1em; padding-right: 1em; text-align: center; vertical-align: top\">1454228270.0</td>\n",
       "    </tr>\n",
       "    <tr>\n",
       "        <td style=\"padding-left: 1em; padding-right: 1em; text-align: center; vertical-align: top\">693587256196632576</td>\n",
       "        <td style=\"padding-left: 1em; padding-right: 1em; text-align: center; vertical-align: top\">229552128</td>\n",
       "        <td style=\"padding-left: 1em; padding-right: 1em; text-align: center; vertical-align: top\">1454199062.0</td>\n",
       "    </tr>\n",
       "    <tr>\n",
       "        <td style=\"padding-left: 1em; padding-right: 1em; text-align: center; vertical-align: top\">693587234809847808</td>\n",
       "        <td style=\"padding-left: 1em; padding-right: 1em; text-align: center; vertical-align: top\">229552128</td>\n",
       "        <td style=\"padding-left: 1em; padding-right: 1em; text-align: center; vertical-align: top\">1454199057.0</td>\n",
       "    </tr>\n",
       "    <tr>\n",
       "        <td style=\"padding-left: 1em; padding-right: 1em; text-align: center; vertical-align: top\">693442363486765056</td>\n",
       "        <td style=\"padding-left: 1em; padding-right: 1em; text-align: center; vertical-align: top\">229552128</td>\n",
       "        <td style=\"padding-left: 1em; padding-right: 1em; text-align: center; vertical-align: top\">1454164517.0</td>\n",
       "    </tr>\n",
       "    <tr>\n",
       "        <td style=\"padding-left: 1em; padding-right: 1em; text-align: center; vertical-align: top\">693442328938291200</td>\n",
       "        <td style=\"padding-left: 1em; padding-right: 1em; text-align: center; vertical-align: top\">229552128</td>\n",
       "        <td style=\"padding-left: 1em; padding-right: 1em; text-align: center; vertical-align: top\">1454164509.0</td>\n",
       "    </tr>\n",
       "    <tr>\n",
       "        <td style=\"padding-left: 1em; padding-right: 1em; text-align: center; vertical-align: top\">693279750475923456</td>\n",
       "        <td style=\"padding-left: 1em; padding-right: 1em; text-align: center; vertical-align: top\">229552128</td>\n",
       "        <td style=\"padding-left: 1em; padding-right: 1em; text-align: center; vertical-align: top\">1454125747.0</td>\n",
       "    </tr>\n",
       "    <tr>\n",
       "        <td style=\"padding-left: 1em; padding-right: 1em; text-align: center; vertical-align: top\">693278155189174272</td>\n",
       "        <td style=\"padding-left: 1em; padding-right: 1em; text-align: center; vertical-align: top\">229552128</td>\n",
       "        <td style=\"padding-left: 1em; padding-right: 1em; text-align: center; vertical-align: top\">1454125367.0</td>\n",
       "    </tr>\n",
       "    <tr>\n",
       "        <td style=\"padding-left: 1em; padding-right: 1em; text-align: center; vertical-align: top\">693275028817874944</td>\n",
       "        <td style=\"padding-left: 1em; padding-right: 1em; text-align: center; vertical-align: top\">229552128</td>\n",
       "        <td style=\"padding-left: 1em; padding-right: 1em; text-align: center; vertical-align: top\">1454124621.0</td>\n",
       "    </tr>\n",
       "    <tr>\n",
       "        <td style=\"padding-left: 1em; padding-right: 1em; text-align: center; vertical-align: top\">693275009159163905</td>\n",
       "        <td style=\"padding-left: 1em; padding-right: 1em; text-align: center; vertical-align: top\">229552128</td>\n",
       "        <td style=\"padding-left: 1em; padding-right: 1em; text-align: center; vertical-align: top\">1454124617.0</td>\n",
       "    </tr>\n",
       "    <tr>\n",
       "        <td style=\"padding-left: 1em; padding-right: 1em; text-align: center; vertical-align: top\">692871336201314304</td>\n",
       "        <td style=\"padding-left: 1em; padding-right: 1em; text-align: center; vertical-align: top\">229552128</td>\n",
       "        <td style=\"padding-left: 1em; padding-right: 1em; text-align: center; vertical-align: top\">1454028374.0</td>\n",
       "    </tr>\n",
       "</table>\n",
       "[3646363 rows x 3 columns]<br/>Note: Only the head of the SFrame is printed.<br/>You can use print_rows(num_rows=m, num_columns=n) to print more rows and columns.\n",
       "</div>"
      ],
      "text/plain": [
       "Columns:\n",
       "\tid\tint\n",
       "\tuser_id\tint\n",
       "\tcreated_at\tfloat\n",
       "\n",
       "Rows: 3646363\n",
       "\n",
       "Data:\n",
       "+--------------------+-----------+--------------+\n",
       "|         id         |  user_id  |  created_at  |\n",
       "+--------------------+-----------+--------------+\n",
       "| 693709762563870720 | 229552128 | 1454228270.0 |\n",
       "| 693587256196632576 | 229552128 | 1454199062.0 |\n",
       "| 693587234809847808 | 229552128 | 1454199057.0 |\n",
       "| 693442363486765056 | 229552128 | 1454164517.0 |\n",
       "| 693442328938291200 | 229552128 | 1454164509.0 |\n",
       "| 693279750475923456 | 229552128 | 1454125747.0 |\n",
       "| 693278155189174272 | 229552128 | 1454125367.0 |\n",
       "| 693275028817874944 | 229552128 | 1454124621.0 |\n",
       "| 693275009159163905 | 229552128 | 1454124617.0 |\n",
       "| 692871336201314304 | 229552128 | 1454028374.0 |\n",
       "+--------------------+-----------+--------------+\n",
       "[3646363 rows x 3 columns]\n",
       "Note: Only the head of the SFrame is printed.\n",
       "You can use print_rows(num_rows=m, num_columns=n) to print more rows and columns."
      ]
     },
     "execution_count": 13,
     "metadata": {},
     "output_type": "execute_result"
    }
   ],
   "source": [
    "status_alter = gl.SFrame.read_csv(data_dir + data_list[0], \n",
    "                                header = True, \n",
    "                                delimiter = ',', \n",
    "                                column_type_hints = {'user_id': int})\n",
    "status_alter"
   ]
  },
  {
   "cell_type": "code",
   "execution_count": 15,
   "metadata": {},
   "outputs": [
    {
     "name": "stdout",
     "output_type": "stream",
     "text": [
      "CPU times: user 15.4 s, sys: 625 ms, total: 16 s\n",
      "Wall time: 7.71 s\n"
     ]
    },
    {
     "data": {
      "text/plain": [
       "dtype: int\n",
       "Rows: 3646007\n",
       "[647466278395875328, 691554160706105344, 693537187552317440, 642422400173240320, 635288359498313729, 635880819530162177, 673920483297853440, 675527895310139392, 690617578171969537, 671198974016167937, 684012016600629249, 671378855895154688, 660593108875276288, 643044307193233410, 676582145796669441, 644697436733186048, 660188240645787648, 676170676487585792, 649353856472739840, 684217581474021376, 656788244252614656, 632581269902241792, 631675705063948288, 666056164346626048, 697817230831185920, 658675918282448896, 682650695456145409, 676141412346257408, 672217532300963841, 693677644559200257, 634056986884116480, 645242156861521920, 687616259073036288, 695653448600014848, 680594019781447680, 638193121768173568, 651567027815972864, 628673532164210688, 644701668538384385, 688949047915237376, 634462813675782145, 679320952505692160, 645365222287392768, 644149175857184768, 660308999485698048, 659383228013277185, 685494506620370944, 689480446602665985, 650702022287556609, 638839107398049792, 671065148258451456, 656225751654510593, 651796180154871808, 669239893449510912, 694919645082447872, 641573449878499328, 659775765093945344, 690218486564573184, 695341807652057088, 668265060439953408, 649331159223005184, 638789198938546176, 649657347694919680, 680797675533504512, 673861809690902528, 692977492664147969, 696840753377456128, 664457557256175616, 682733554212552704, 671404953370427392, 657379268729675776, 634166782127833088, 662707639558791168, 691740458301521924, 668058504142434304, 641756131489005568, 636197563679514625, 697255069180436480, 688474809957662722, 679714644651413504, 639554211890376704, 678008110640943104, 648936580300804096, 647487312276889600, 691811145632632832, 666454033440182272, 642580400217288704, 633392427328499712, 634151190994006016, 659525282248835072, 649034842571710464, 685993196338425856, 694316475302039552, 676962385215778818, 683438294944714752, 641642653268881408, 651828511942946816, 686358112564019200, 658317441194323968, 668269161722703872, ... ]"
      ]
     },
     "execution_count": 15,
     "metadata": {},
     "output_type": "execute_result"
    }
   ],
   "source": [
    "%%time\n",
    "status_alter['id'].unique()\n",
    "# There exists 356 duplicate values"
   ]
  },
  {
   "cell_type": "code",
   "execution_count": 16,
   "metadata": {},
   "outputs": [
    {
     "data": {
      "text/plain": [
       "dtype: int\n",
       "Rows: 2196\n",
       "[267984788, 1127034493, 844440944, 2555534012, 50518751, 171151597, 69083921, 18014005, 67388190, 17295588, 14075928, 35007060, 379397581, 612004383, 15024090, 49811632, 223180780, 36151251, 301459434, 4099074493, 1226130919, 24280252, 236912834, 17801479, 15821830, 532528709, 14344402, 27323880, 90945524, 14131848, 217885815, 8320872, 40164352, 20785676, 18769128, 20783, 1205701, 84612979, 5997562, 591102049, 14311294, 14369768, 20680399, 30983350, 1138078722, 136004817, 229552128, 1230637795, 197652022, 12885642, 13341022, 17712234, 2732727324, 15923700, 963512402, 16221987, 213511743, 12738722, 4618406119, 2324069972, 173825889, 611276345, 176540247, 169353327, 265032623, 362532335, 108796474, 35564568, 22492279, 17818353, 117552075, 17664847, 163238573, 74962228, 50173115, 16000951, 21210607, 19063323, 170229026, 18061908, 17239494, 79310744, 18329398, 304678402, 257199215, 47748118, 1339121372, 101343682, 15661871, 423211359, 14933775, 67880192, 23781896, 2443135201, 14081132, 16158373, 16006592, 197481973, 3181386966, 14403507, ... ]"
      ]
     },
     "execution_count": 16,
     "metadata": {},
     "output_type": "execute_result"
    }
   ],
   "source": [
    "status_alter['user_id'].unique()\n",
    "# id = 14073680 ego has 2196 alters"
   ]
  },
  {
   "cell_type": "code",
   "execution_count": null,
   "metadata": {},
   "outputs": [],
   "source": []
  }
 ],
 "metadata": {
  "kernelspec": {
   "display_name": "Python 2",
   "language": "python",
   "name": "python2"
  },
  "language_info": {
   "codemirror_mode": {
    "name": "ipython",
    "version": 2
   },
   "file_extension": ".py",
   "mimetype": "text/x-python",
   "name": "python",
   "nbconvert_exporter": "python",
   "pygments_lexer": "ipython2",
   "version": "2.7.13"
  },
  "toc": {
   "base_numbering": 1,
   "nav_menu": {},
   "number_sections": true,
   "sideBar": true,
   "skip_h1_title": false,
   "title_cell": "Table of Contents",
   "title_sidebar": "Contents",
   "toc_cell": false,
   "toc_position": {},
   "toc_section_display": true,
   "toc_window_display": false
  },
  "varInspector": {
   "cols": {
    "lenName": 16,
    "lenType": 16,
    "lenVar": 40
   },
   "kernels_config": {
    "python": {
     "delete_cmd_postfix": "",
     "delete_cmd_prefix": "del ",
     "library": "var_list.py",
     "varRefreshCmd": "print(var_dic_list())"
    },
    "r": {
     "delete_cmd_postfix": ") ",
     "delete_cmd_prefix": "rm(",
     "library": "var_list.r",
     "varRefreshCmd": "cat(var_dic_list()) "
    }
   },
   "types_to_exclude": [
    "module",
    "function",
    "builtin_function_or_method",
    "instance",
    "_Feature"
   ],
   "window_display": false
  }
 },
 "nbformat": 4,
 "nbformat_minor": 2
}
