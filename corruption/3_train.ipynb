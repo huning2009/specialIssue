{
 "cells": [
  {
   "cell_type": "markdown",
   "metadata": {},
   "source": [
    "> Date: 20190310\n",
    ">\n",
    "> By Lyndon Chen Luo"
   ]
  },
  {
   "cell_type": "code",
   "execution_count": 58,
   "metadata": {
    "ExecuteTime": {
     "end_time": "2019-03-11T08:33:24.875275Z",
     "start_time": "2019-03-11T08:33:24.872196Z"
    }
   },
   "outputs": [],
   "source": [
    "import warnings\n",
    "\n",
    "warnings.filterwarnings('ignore')"
   ]
  },
  {
   "cell_type": "code",
   "execution_count": 1,
   "metadata": {
    "ExecuteTime": {
     "end_time": "2019-03-10T16:36:52.546612Z",
     "start_time": "2019-03-10T16:36:52.544111Z"
    }
   },
   "outputs": [],
   "source": [
    "import os"
   ]
  },
  {
   "cell_type": "code",
   "execution_count": 4,
   "metadata": {
    "ExecuteTime": {
     "end_time": "2019-03-10T16:38:05.099538Z",
     "start_time": "2019-03-10T16:38:05.096443Z"
    }
   },
   "outputs": [
    {
     "name": "stdout",
     "output_type": "stream",
     "text": [
      "/Users/lyndon/PycharmProjects/corruption\n"
     ]
    }
   ],
   "source": [
    "print(os.getcwd())"
   ]
  },
  {
   "cell_type": "markdown",
   "metadata": {},
   "source": [
    "## 标注数据拆分\n",
    "\n",
    "- 先把原始数据拆分：训练集(80%)、验证集/评估集(20%)\n",
    "\n",
    "- 方法：随机抽样"
   ]
  },
  {
   "cell_type": "code",
   "execution_count": 5,
   "metadata": {
    "ExecuteTime": {
     "end_time": "2019-03-11T01:48:39.966805Z",
     "start_time": "2019-03-11T01:48:30.598204Z"
    }
   },
   "outputs": [],
   "source": [
    "import pandas as pd"
   ]
  },
  {
   "cell_type": "code",
   "execution_count": 6,
   "metadata": {
    "ExecuteTime": {
     "end_time": "2019-03-11T01:50:38.498239Z",
     "start_time": "2019-03-11T01:50:37.769601Z"
    }
   },
   "outputs": [
    {
     "data": {
      "text/html": [
       "<div>\n",
       "<style scoped>\n",
       "    .dataframe tbody tr th:only-of-type {\n",
       "        vertical-align: middle;\n",
       "    }\n",
       "\n",
       "    .dataframe tbody tr th {\n",
       "        vertical-align: top;\n",
       "    }\n",
       "\n",
       "    .dataframe thead th {\n",
       "        text-align: right;\n",
       "    }\n",
       "</style>\n",
       "<table border=\"1\" class=\"dataframe\">\n",
       "  <thead>\n",
       "    <tr style=\"text-align: right;\">\n",
       "      <th></th>\n",
       "      <th>Unnamed: 0</th>\n",
       "      <th>content</th>\n",
       "      <th>type</th>\n",
       "    </tr>\n",
       "  </thead>\n",
       "  <tbody>\n",
       "    <tr>\n",
       "      <th>0</th>\n",
       "      <td>0</td>\n",
       "      <td>道真县违法建筑导致今天的局面，乃是政府严重不作为所形成的。现在搞得人不聊生，人民怨声载道。恳...</td>\n",
       "      <td>不作为</td>\n",
       "    </tr>\n",
       "    <tr>\n",
       "      <th>1</th>\n",
       "      <td>1</td>\n",
       "      <td>我于2009年11月买的城市广场房子，协议上提示2010年8月31日前交房，可是到目前为止，...</td>\n",
       "      <td>不作为</td>\n",
       "    </tr>\n",
       "    <tr>\n",
       "      <th>2</th>\n",
       "      <td>2</td>\n",
       "      <td>目前整个山盆镇大大小小的麻将馆不计其数。其中山盆镇上还有一家赌博游戏机。这些赌博场所有大量的...</td>\n",
       "      <td>不作为</td>\n",
       "    </tr>\n",
       "    <tr>\n",
       "      <th>3</th>\n",
       "      <td>3</td>\n",
       "      <td>肖书记，您好，地方留言我以看了很多，为什么其他城市对民生的留言回答得很快，我们道真关天民生问...</td>\n",
       "      <td>不作为</td>\n",
       "    </tr>\n",
       "    <tr>\n",
       "      <th>4</th>\n",
       "      <td>4</td>\n",
       "      <td>尊敬的遵义县委书记：    新舟机场的开通加速了遵义市及各县区的经济发展，然而，日益猖獗的非...</td>\n",
       "      <td>不作为</td>\n",
       "    </tr>\n",
       "  </tbody>\n",
       "</table>\n",
       "</div>"
      ],
      "text/plain": [
       "   Unnamed: 0                                            content type\n",
       "0           0  道真县违法建筑导致今天的局面，乃是政府严重不作为所形成的。现在搞得人不聊生，人民怨声载道。恳...  不作为\n",
       "1           1  我于2009年11月买的城市广场房子，协议上提示2010年8月31日前交房，可是到目前为止，...  不作为\n",
       "2           2  目前整个山盆镇大大小小的麻将馆不计其数。其中山盆镇上还有一家赌博游戏机。这些赌博场所有大量的...  不作为\n",
       "3           3  肖书记，您好，地方留言我以看了很多，为什么其他城市对民生的留言回答得很快，我们道真关天民生问...  不作为\n",
       "4           4  尊敬的遵义县委书记：    新舟机场的开通加速了遵义市及各县区的经济发展，然而，日益猖獗的非...  不作为"
      ]
     },
     "execution_count": 6,
     "metadata": {},
     "output_type": "execute_result"
    }
   ],
   "source": [
    "trainingSetAll = './trainingSet.csv'\n",
    "data = pd.read_csv(trainingSetAll, sep='|', header=0)\n",
    "data.head()"
   ]
  },
  {
   "cell_type": "code",
   "execution_count": 7,
   "metadata": {
    "ExecuteTime": {
     "end_time": "2019-03-11T04:58:20.792585Z",
     "start_time": "2019-03-11T04:58:20.775107Z"
    }
   },
   "outputs": [],
   "source": [
    "# 随机抽样：抽取20%的数据作为验证集\n",
    "validationSet = data.sample(frac=0.2, replace=False, random_state=311, axis=0)"
   ]
  },
  {
   "cell_type": "code",
   "execution_count": 8,
   "metadata": {
    "ExecuteTime": {
     "end_time": "2019-03-11T04:58:30.766541Z",
     "start_time": "2019-03-11T04:58:30.761943Z"
    }
   },
   "outputs": [
    {
     "data": {
      "text/plain": [
       "pandas.core.frame.DataFrame"
      ]
     },
     "execution_count": 8,
     "metadata": {},
     "output_type": "execute_result"
    }
   ],
   "source": [
    "type(validationSet)"
   ]
  },
  {
   "cell_type": "code",
   "execution_count": 11,
   "metadata": {
    "ExecuteTime": {
     "end_time": "2019-03-11T05:07:18.343967Z",
     "start_time": "2019-03-11T05:07:18.340357Z"
    }
   },
   "outputs": [
    {
     "data": {
      "text/plain": [
       "(12356, 3)"
      ]
     },
     "execution_count": 11,
     "metadata": {},
     "output_type": "execute_result"
    }
   ],
   "source": [
    "validationSet.shape"
   ]
  },
  {
   "cell_type": "code",
   "execution_count": 9,
   "metadata": {
    "ExecuteTime": {
     "end_time": "2019-03-11T04:59:01.497448Z",
     "start_time": "2019-03-11T04:59:01.339141Z"
    }
   },
   "outputs": [],
   "source": [
    "validationSet.to_csv('./validationSet.csv', sep='|', index=None)"
   ]
  },
  {
   "cell_type": "code",
   "execution_count": 10,
   "metadata": {
    "ExecuteTime": {
     "end_time": "2019-03-11T05:06:59.956098Z",
     "start_time": "2019-03-11T05:06:59.816974Z"
    }
   },
   "outputs": [
    {
     "data": {
      "text/plain": [
       "(49426, 3)"
      ]
     },
     "execution_count": 10,
     "metadata": {},
     "output_type": "execute_result"
    }
   ],
   "source": [
    "# 摘选出另外的80%\n",
    "validation = pd.read_csv('./validationSet.csv', sep='|', header=0)\n",
    "trainingTrue = data.drop(list(validation['Unnamed: 0']))\n",
    "trainingTrue.shape"
   ]
  },
  {
   "cell_type": "code",
   "execution_count": 12,
   "metadata": {
    "ExecuteTime": {
     "end_time": "2019-03-11T05:08:41.814171Z",
     "start_time": "2019-03-11T05:08:41.206387Z"
    }
   },
   "outputs": [],
   "source": [
    "trainingTrue.to_csv('./trainingSetTrue.csv', sep='|', index=None, header=True)"
   ]
  },
  {
   "cell_type": "markdown",
   "metadata": {},
   "source": [
    "## 训练模型"
   ]
  },
  {
   "cell_type": "code",
   "execution_count": 13,
   "metadata": {
    "ExecuteTime": {
     "end_time": "2019-03-11T05:11:53.002032Z",
     "start_time": "2019-03-11T05:11:42.926863Z"
    }
   },
   "outputs": [],
   "source": [
    "# 特征提取类库\n",
    "from sklearn.feature_extraction.text import CountVectorizer\n",
    "from sklearn.feature_extraction.text import TfidfVectorizer\n",
    "# 模型类库\n",
    "from sklearn.linear_model import LogisticRegression\n",
    "from sklearn.naive_bayes import MultinomialNB\n",
    "from sklearn.neighbors import KNeighborsClassifier\n",
    "from sklearn.svm import SVC\n",
    "from sklearn.tree import DecisionTreeClassifier\n",
    "# 模型输出结果类库\n",
    "from sklearn.metrics import classification_report\n",
    "from sklearn.metrics import accuracy_score\n",
    "# 模型选择类库\n",
    "from sklearn.model_selection import cross_val_score\n",
    "from sklearn.model_selection import KFold\n",
    "from sklearn.model_selection import GridSearchCV\n",
    "# 模型集成类库\n",
    "from sklearn.ensemble import AdaBoostClassifier\n",
    "from sklearn.ensemble import RandomForestClassifier\n",
    "# 模型可视化类库\n",
    "from matplotlib import pyplot as plt\n",
    "%matplotlib inline"
   ]
  },
  {
   "cell_type": "code",
   "execution_count": 15,
   "metadata": {
    "ExecuteTime": {
     "end_time": "2019-03-11T05:14:52.689941Z",
     "start_time": "2019-03-11T05:14:44.867086Z"
    }
   },
   "outputs": [],
   "source": [
    "# 训练集分词，存成新文件\n",
    "import jieba\n",
    "\n",
    "trainingSetTrue = pd.read_csv('./trainingSetTrue.csv', sep='|', header=0)\n",
    "\n",
    "def seg(text):\n",
    "    _ = list()\n",
    "    for word in list(jieba.cut(str(text))):\n",
    "        if len(word) > 1:\n",
    "            _.append(word.strip())\n",
    "    return _"
   ]
  },
  {
   "cell_type": "code",
   "execution_count": 16,
   "metadata": {
    "ExecuteTime": {
     "end_time": "2019-03-11T05:18:12.824666Z",
     "start_time": "2019-03-11T05:17:20.154252Z"
    }
   },
   "outputs": [
    {
     "name": "stderr",
     "output_type": "stream",
     "text": [
      "Building prefix dict from the default dictionary ...\n",
      "Loading model from cache /var/folders/_6/73bms9_11733g1hbd2_jmrzc0000gn/T/jieba.cache\n",
      "Loading model cost 0.762 seconds.\n",
      "Prefix dict has been built succesfully.\n"
     ]
    }
   ],
   "source": [
    "trainingSetTrue['segmentation'] = trainingSetTrue['content'].apply(seg)\n",
    "trainingSetTrueSeg = trainingSetTrue[['segmentation', 'type']]\n",
    "trainingSetTrueSeg.to_csv('./trainingSetTrueSeg.csv', sep='|', index=None)"
   ]
  },
  {
   "cell_type": "code",
   "execution_count": 17,
   "metadata": {
    "ExecuteTime": {
     "end_time": "2019-03-11T05:19:33.489485Z",
     "start_time": "2019-03-11T05:19:32.956221Z"
    }
   },
   "outputs": [
    {
     "data": {
      "text/html": [
       "<div>\n",
       "<style scoped>\n",
       "    .dataframe tbody tr th:only-of-type {\n",
       "        vertical-align: middle;\n",
       "    }\n",
       "\n",
       "    .dataframe tbody tr th {\n",
       "        vertical-align: top;\n",
       "    }\n",
       "\n",
       "    .dataframe thead th {\n",
       "        text-align: right;\n",
       "    }\n",
       "</style>\n",
       "<table border=\"1\" class=\"dataframe\">\n",
       "  <thead>\n",
       "    <tr style=\"text-align: right;\">\n",
       "      <th></th>\n",
       "      <th>segmentation</th>\n",
       "      <th>type</th>\n",
       "    </tr>\n",
       "  </thead>\n",
       "  <tbody>\n",
       "    <tr>\n",
       "      <th>0</th>\n",
       "      <td>['真县', '违法', '建筑', '导致', '今天', '局面', '乃是', '政府...</td>\n",
       "      <td>不作为</td>\n",
       "    </tr>\n",
       "    <tr>\n",
       "      <th>1</th>\n",
       "      <td>['我于', '2009', '11', '城市', '广场', '房子', '协议', '...</td>\n",
       "      <td>不作为</td>\n",
       "    </tr>\n",
       "    <tr>\n",
       "      <th>2</th>\n",
       "      <td>['目前', '整个', '山盆镇', '大大小小', '麻将馆', '不计其数', '其中...</td>\n",
       "      <td>不作为</td>\n",
       "    </tr>\n",
       "    <tr>\n",
       "      <th>3</th>\n",
       "      <td>['尊敬', '遵义', '县委书记', '新舟', '机场', '开通', '加速', '...</td>\n",
       "      <td>不作为</td>\n",
       "    </tr>\n",
       "    <tr>\n",
       "      <th>4</th>\n",
       "      <td>['曾经', '当过兵', '正在', '部队', '服役', '战友', '朋友', '大...</td>\n",
       "      <td>不作为</td>\n",
       "    </tr>\n",
       "  </tbody>\n",
       "</table>\n",
       "</div>"
      ],
      "text/plain": [
       "                                        segmentation type\n",
       "0  ['真县', '违法', '建筑', '导致', '今天', '局面', '乃是', '政府...  不作为\n",
       "1  ['我于', '2009', '11', '城市', '广场', '房子', '协议', '...  不作为\n",
       "2  ['目前', '整个', '山盆镇', '大大小小', '麻将馆', '不计其数', '其中...  不作为\n",
       "3  ['尊敬', '遵义', '县委书记', '新舟', '机场', '开通', '加速', '...  不作为\n",
       "4  ['曾经', '当过兵', '正在', '部队', '服役', '战友', '朋友', '大...  不作为"
      ]
     },
     "execution_count": 17,
     "metadata": {},
     "output_type": "execute_result"
    }
   ],
   "source": [
    "# 导入分词后的训练集\n",
    "dataset_train = pd.read_csv('./trainingSetTrueSeg.csv', sep='|', index_col=None)\n",
    "dataset_train.head()"
   ]
  },
  {
   "cell_type": "code",
   "execution_count": 19,
   "metadata": {
    "ExecuteTime": {
     "end_time": "2019-03-11T05:22:17.151863Z",
     "start_time": "2019-03-11T05:22:13.120903Z"
    }
   },
   "outputs": [
    {
     "name": "stdout",
     "output_type": "stream",
     "text": [
      "(49426, 141249)\n"
     ]
    }
   ],
   "source": [
    "# 计算词频\n",
    "count_vect = CountVectorizer()\n",
    "X_train_counts = count_vect.fit_transform(dataset_train['segmentation'])\n",
    "print(X_train_counts.shape)\n",
    "# print(count_vect.get_feature_names())"
   ]
  },
  {
   "cell_type": "code",
   "execution_count": 32,
   "metadata": {
    "ExecuteTime": {
     "end_time": "2019-03-11T05:37:51.470744Z",
     "start_time": "2019-03-11T05:37:47.580200Z"
    }
   },
   "outputs": [
    {
     "name": "stdout",
     "output_type": "stream",
     "text": [
      "(49426, 6801)\n"
     ]
    },
    {
     "name": "stderr",
     "output_type": "stream",
     "text": [
      "/Users/lyndon/anaconda3/lib/python3.6/site-packages/sklearn/feature_extraction/text.py:1089: FutureWarning: Conversion of the second argument of issubdtype from `float` to `np.floating` is deprecated. In future, it will be treated as `np.float64 == np.dtype(float).type`.\n",
      "  if hasattr(X, 'dtype') and np.issubdtype(X.dtype, np.float):\n"
     ]
    }
   ],
   "source": [
    "# 计算 TF-IDF（后续分词用 TF-IDF 文本特征）\n",
    "tf_transformer = TfidfVectorizer(max_df=0.99, min_df=0.001)\n",
    "X_train_counts_tf = tf_transformer.fit_transform(dataset_train['segmentation'])\n",
    "print(X_train_counts_tf.shape)"
   ]
  },
  {
   "cell_type": "code",
   "execution_count": 28,
   "metadata": {
    "ExecuteTime": {
     "end_time": "2019-03-11T05:36:04.506646Z",
     "start_time": "2019-03-11T05:36:04.503465Z"
    }
   },
   "outputs": [
    {
     "name": "stdout",
     "output_type": "stream",
     "text": [
      "['10', '12', '20', '2013', '2014', '30', '一下', '一个', '一些', '一名', '一年', '一直', '不到', '不是', '不管', '不能', '不要', '业主', '严重', '为了', '为什么', '举报', '书记', '乱收费', '事情', '人员', '人民', '人民网', '什么', '今年', '他们', '以上', '任何', '但是', '住户', '作为', '你们', '你好', '做主', '公司', '关于', '关注', '关系', '其他', '农村', '农民', '利益', '办法', '办理', '单位', '去年', '反应', '反映', '发展', '只有', '可以', '可是', '回复', '因为', '国家', '土地', '地方', '处理', '多少', '多次', '如果', '存在', '学校', '学生', '孩子', '安全', '导致', '尊敬', '小区', '就是', '居民', '属于', '工作', '工程', '已经', '市长', '希望', '干部', '并且', '应该', '建设', '开发商', '开始', '当地', '当时', '影响', '很多', '得到', '怎么', '恳请', '您好', '情况', '我们', '房子', '房屋', '所以', '所有', '投诉', '拆迁', '按照', '收取', '收费', '政府', '政策', '教育', '无法', '时候', '时间', '是不是', '是否', '有关', '村民', '村里', '来源', '标准', '根本', '正常', '此事', '每天', '没有', '物业', '环境', '现在', '现象', '生活', '由于', '留言板', '百姓', '百忙之中', '相关', '省长', '看到', '知道', '社会', '答复', '管理', '结果', '给予', '群众', '老百姓', '而且', '能够', '腐败', '自己', '至今', '行为', '补偿', '补偿款', '要求', '规定', '解决', '请问', '调查', '谢谢', '贪污', '费用', '过问', '还是', '还有', '还要', '这个', '这么', '这些', '这是', '这样', '这种', '这里', '进行', '违法', '通知', '通过', '造成', '部门', '重视', '问题', '难道', '需要', '非法', '领导']\n"
     ]
    }
   ],
   "source": [
    "# 查看特征\n",
    "# print(tf_transformer.get_feature_names())"
   ]
  },
  {
   "cell_type": "code",
   "execution_count": 21,
   "metadata": {
    "ExecuteTime": {
     "end_time": "2019-03-11T05:25:55.710765Z",
     "start_time": "2019-03-11T05:25:55.708376Z"
    }
   },
   "outputs": [],
   "source": [
    "# 评估算法：10-Folds 交叉验证\n",
    "num_folds, seed, scoring = 10, 7, 'accuracy'"
   ]
  },
  {
   "cell_type": "code",
   "execution_count": 34,
   "metadata": {
    "ExecuteTime": {
     "end_time": "2019-03-11T06:21:13.131967Z",
     "start_time": "2019-03-11T06:21:13.128866Z"
    }
   },
   "outputs": [],
   "source": [
    "# 生成算法模型（暂用默认参数，后期调整）\n",
    "models = dict()\n",
    "models['LR'] = LogisticRegression()\n",
    "models['MNB'] = MultinomialNB()\n",
    "models['KNN'] = KNeighborsClassifier()\n",
    "# models['SVM'] = SVC()\n",
    "models['CART'] = DecisionTreeClassifier()"
   ]
  },
  {
   "cell_type": "code",
   "execution_count": 35,
   "metadata": {
    "ExecuteTime": {
     "end_time": "2019-03-11T06:27:31.479226Z",
     "start_time": "2019-03-11T06:21:31.841693Z"
    }
   },
   "outputs": [
    {
     "name": "stdout",
     "output_type": "stream",
     "text": [
      "LR: 0.890993 (0.080647)\n",
      "MNB: 0.775898 (0.181182)\n",
      "KNN: 0.482790 (0.279739)\n",
      "CART: 0.906650 (0.038499)\n"
     ]
    }
   ],
   "source": [
    "# 算法比较\n",
    "results = []\n",
    "for key in models:\n",
    "    kfold = KFold(n_splits=num_folds, random_state=seed)\n",
    "    cv_results = cross_val_score(models[key], X_train_counts_tf, dataset_train.type, cv=kfold, scoring=scoring)\n",
    "    results.append(cv_results)\n",
    "    # 模型 MSE's mean & std\n",
    "    print('%s: %f (%f)'%(key, cv_results.mean(), cv_results.std()))"
   ]
  },
  {
   "cell_type": "code",
   "execution_count": 36,
   "metadata": {
    "ExecuteTime": {
     "end_time": "2019-03-11T06:31:03.767326Z",
     "start_time": "2019-03-11T06:31:03.575130Z"
    }
   },
   "outputs": [
    {
     "data": {
      "image/png": "[encoded data removed]",
      "text/plain": [
       "<Figure size 432x288 with 1 Axes>"
      ]
     },
     "metadata": {},
     "output_type": "display_data"
    }
   ],
   "source": [
    "# 展现算法结果\n",
    "fig = plt.figure()\n",
    "fig.suptitle('Algorithms Comparison')\n",
    "ax = fig.add_subplot(111)\n",
    "plt.boxplot(results)\n",
    "ax.set_xticklabels(models.keys())\n",
    "plt.show()"
   ]
  },
  {
   "cell_type": "markdown",
   "metadata": {},
   "source": [
    "- 对 Logistic Regression 和 Classification & Regression Tree 做进一步优化"
   ]
  },
  {
   "cell_type": "code",
   "execution_count": 40,
   "metadata": {
    "ExecuteTime": {
     "end_time": "2019-03-11T06:46:07.862927Z",
     "start_time": "2019-03-11T06:45:20.632039Z"
    }
   },
   "outputs": [
    {
     "name": "stdout",
     "output_type": "stream",
     "text": [
      "[0.9108364  0.91203011 0.91184802 0.91227289 0.91132198]\n",
      "Best: 0.9122728928094526, Using: {'C': 20}\n"
     ]
    }
   ],
   "source": [
    "# Logistic 调参\n",
    "param_grid = dict()\n",
    "param_grid['C'] = [5, 13, 15, 20, 25]\n",
    "model = LogisticRegression()\n",
    "kfold = KFold(n_splits=num_folds, random_state=seed)\n",
    "grid = GridSearchCV(estimator=model, param_grid=param_grid, scoring=scoring, cv=kfold)\n",
    "grid_result = grid.fit(X=X_train_counts_tf, y=dataset_train.type)\n",
    "print(grid_result.cv_results_['mean_test_score'])\n",
    "print('Best: %s, Using: %s'%(grid_result.best_score_, grid_result.best_params_))"
   ]
  },
  {
   "cell_type": "code",
   "execution_count": 43,
   "metadata": {
    "ExecuteTime": {
     "end_time": "2019-03-11T07:23:58.431195Z",
     "start_time": "2019-03-11T07:16:37.083236Z"
    }
   },
   "outputs": [
    {
     "name": "stdout",
     "output_type": "stream",
     "text": [
      "[{'criterion': 'gini', 'max_features': 'auto'}, {'criterion': 'gini', 'max_features': 'sqrt'}, {'criterion': 'gini', 'max_features': 'log2'}, {'criterion': 'gini', 'max_features': None}, {'criterion': 'entropy', 'max_features': 'auto'}, {'criterion': 'entropy', 'max_features': 'sqrt'}, {'criterion': 'entropy', 'max_features': 'log2'}, {'criterion': 'entropy', 'max_features': None}] \n",
      " [0.79067697 0.77768786 0.67567677 0.90583903 0.78171408 0.78697447\n",
      " 0.68091693 0.91852466]\n",
      "Best: 0.9185246631327642, Using: {'criterion': 'entropy', 'max_features': None}\n"
     ]
    }
   ],
   "source": [
    "# CART 调参\n",
    "param_grid = dict()\n",
    "param_grid['criterion'] = ('gini', 'entropy')\n",
    "param_grid['max_features'] = ('auto', 'sqrt', 'log2', None)\n",
    "model = DecisionTreeClassifier()\n",
    "kfold = KFold(n_splits=num_folds, random_state=seed)\n",
    "grid = GridSearchCV(estimator=model, param_grid=param_grid, scoring=scoring, cv=kfold)\n",
    "grid_result = grid.fit(X=X_train_counts_tf, y=dataset_train.type)\n",
    "print(grid_result.cv_results_['params'], '\\n', grid_result.cv_results_['mean_test_score'])\n",
    "print('Best: %s, Using: %s'%(grid_result.best_score_, grid_result.best_params_))"
   ]
  },
  {
   "cell_type": "markdown",
   "metadata": {},
   "source": [
    "## 集成算法测试\n",
    "- Bagging (RF) & Boosting (AdaBoost)"
   ]
  },
  {
   "cell_type": "code",
   "execution_count": 46,
   "metadata": {
    "ExecuteTime": {
     "end_time": "2019-03-11T07:28:39.541181Z",
     "start_time": "2019-03-11T07:24:58.291035Z"
    }
   },
   "outputs": [
    {
     "name": "stdout",
     "output_type": "stream",
     "text": [
      "RF: 0.883950 (0.039638)\n",
      "AB: 0.926054 (0.051752)\n"
     ]
    }
   ],
   "source": [
    "ensembles = dict()\n",
    "ensembles['RF'] = RandomForestClassifier()\n",
    "ensembles['AB'] = AdaBoostClassifier()\n",
    "\n",
    "results = list()\n",
    "for key in ensembles:\n",
    "    kfold = KFold(n_splits=num_folds, random_state=seed)\n",
    "    cv_results = cross_val_score(ensembles[key], X_train_counts_tf, dataset_train.type, cv=kfold, scoring=scoring)\n",
    "    results.append(cv_results)\n",
    "    print('%s: %f (%f)'%(key, cv_results.mean(), cv_results.std()))"
   ]
  },
  {
   "cell_type": "code",
   "execution_count": 47,
   "metadata": {
    "ExecuteTime": {
     "end_time": "2019-03-11T07:29:22.557537Z",
     "start_time": "2019-03-11T07:29:22.552826Z"
    }
   },
   "outputs": [
    {
     "data": {
      "text/plain": [
       "[array([0.82743273, 0.8359296 , 0.81428282, 0.90714141, 0.90390451,\n",
       "        0.9261582 , 0.91622825, 0.88972076, 0.92108458, 0.8976123 ]),\n",
       " array([0.85150718, 0.85251871, 0.84220109, 0.93141817, 0.95731337,\n",
       "        0.96560793, 0.956293  , 0.96863618, 0.97248078, 0.96256576])]"
      ]
     },
     "execution_count": 47,
     "metadata": {},
     "output_type": "execute_result"
    }
   ],
   "source": [
    "results"
   ]
  },
  {
   "cell_type": "code",
   "execution_count": 49,
   "metadata": {
    "ExecuteTime": {
     "end_time": "2019-03-11T07:30:08.486500Z",
     "start_time": "2019-03-11T07:30:08.361308Z"
    }
   },
   "outputs": [
    {
     "data": {
      "image/png": "[encoded data removed]",
      "text/plain": [
       "<Figure size 432x288 with 1 Axes>"
      ]
     },
     "metadata": {},
     "output_type": "display_data"
    }
   ],
   "source": [
    "fig = plt.figure()\n",
    "fig.suptitle('Algorithms Comparison')\n",
    "ax = fig.add_subplot(111)\n",
    "plt.boxplot(results)\n",
    "ax.set_xticklabels(ensembles.keys())\n",
    "plt.show()"
   ]
  },
  {
   "cell_type": "code",
   "execution_count": 50,
   "metadata": {
    "ExecuteTime": {
     "end_time": "2019-03-11T08:05:48.047098Z",
     "start_time": "2019-03-11T07:37:16.586726Z"
    }
   },
   "outputs": [
    {
     "name": "stdout",
     "output_type": "stream",
     "text": [
      "[{'n_estimators': 10}, {'n_estimators': 50}, {'n_estimators': 100}, {'n_estimators': 150}, {'n_estimators': 200}] \n",
      " [0.87571319 0.92605107 0.93440699 0.93734067 0.93877716]\n",
      "Best: 0.9387771618176668, Using: {'n_estimators': 200}\n"
     ]
    }
   ],
   "source": [
    "# 对 AdaBoost 进行调参\n",
    "param_grid = dict()\n",
    "param_grid['n_estimators'] = [10, 50, 100, 150, 200]\n",
    "model = AdaBoostClassifier()\n",
    "kfold = KFold(n_splits=num_folds, random_state=seed)\n",
    "grid = GridSearchCV(estimator=model, param_grid=param_grid, scoring=scoring, cv=kfold)\n",
    "grid_result = grid.fit(X=X_train_counts_tf, y=dataset_train.type)\n",
    "print(grid_result.cv_results_['params'], '\\n', grid_result.cv_results_['mean_test_score'])\n",
    "print('Best: %s, Using: %s'%(grid_result.best_score_, grid_result.best_params_))"
   ]
  },
  {
   "cell_type": "markdown",
   "metadata": {},
   "source": [
    "> 模型对比\n",
    ">\n",
    "> - Logistic Regression (C = 20), 0.9123\n",
    ">\n",
    "> - CART (criterion: entropy, max_features: none), 0.9185\n",
    ">\n",
    "> - AdaBoost (n_estimators: 100)  0.9344 之后增长速度变缓"
   ]
  },
  {
   "cell_type": "markdown",
   "metadata": {},
   "source": [
    "## 模型准确度验证"
   ]
  },
  {
   "cell_type": "code",
   "execution_count": 51,
   "metadata": {
    "ExecuteTime": {
     "end_time": "2019-03-11T08:07:44.510063Z",
     "start_time": "2019-03-11T08:07:44.349707Z"
    }
   },
   "outputs": [
    {
     "data": {
      "text/html": [
       "<div>\n",
       "<style scoped>\n",
       "    .dataframe tbody tr th:only-of-type {\n",
       "        vertical-align: middle;\n",
       "    }\n",
       "\n",
       "    .dataframe tbody tr th {\n",
       "        vertical-align: top;\n",
       "    }\n",
       "\n",
       "    .dataframe thead th {\n",
       "        text-align: right;\n",
       "    }\n",
       "</style>\n",
       "<table border=\"1\" class=\"dataframe\">\n",
       "  <thead>\n",
       "    <tr style=\"text-align: right;\">\n",
       "      <th></th>\n",
       "      <th>Unnamed: 0</th>\n",
       "      <th>content</th>\n",
       "      <th>type</th>\n",
       "    </tr>\n",
       "  </thead>\n",
       "  <tbody>\n",
       "    <tr>\n",
       "      <th>0</th>\n",
       "      <td>33185</td>\n",
       "      <td>我们全家4人于2016年2月15日去云南丽江玉龙雪山旅游，在山门口售票处被告知除每人130的...</td>\n",
       "      <td>贪腐</td>\n",
       "    </tr>\n",
       "    <tr>\n",
       "      <th>1</th>\n",
       "      <td>9198</td>\n",
       "      <td>尊敬的黄书记，金牛区银河路一号天鑫花园西区3幢4、5、6单元的违章搭建及非法经营的麻馆我们已...</td>\n",
       "      <td>不作为</td>\n",
       "    </tr>\n",
       "    <tr>\n",
       "      <th>2</th>\n",
       "      <td>47929</td>\n",
       "      <td>尊敬的张书记您好！    在您百忙之中打扰了，实在没有办法，我的孩子2011年9月份上龙华中...</td>\n",
       "      <td>贪腐</td>\n",
       "    </tr>\n",
       "    <tr>\n",
       "      <th>3</th>\n",
       "      <td>58663</td>\n",
       "      <td>灵石一中去年高三开设补习班，未达录取线的孩子根据分数不同分别收取补习费，最低500元，最高为...</td>\n",
       "      <td>贪腐</td>\n",
       "    </tr>\n",
       "    <tr>\n",
       "      <th>4</th>\n",
       "      <td>38195</td>\n",
       "      <td>5月30日，大竹县庙坝镇新桥小学（庙坝镇二小）老师杨万得，在庙坝镇新桥街上办生日宴，办席规模...</td>\n",
       "      <td>贪腐</td>\n",
       "    </tr>\n",
       "  </tbody>\n",
       "</table>\n",
       "</div>"
      ],
      "text/plain": [
       "   Unnamed: 0                                            content type\n",
       "0       33185  我们全家4人于2016年2月15日去云南丽江玉龙雪山旅游，在山门口售票处被告知除每人130的...   贪腐\n",
       "1        9198  尊敬的黄书记，金牛区银河路一号天鑫花园西区3幢4、5、6单元的违章搭建及非法经营的麻馆我们已...  不作为\n",
       "2       47929  尊敬的张书记您好！    在您百忙之中打扰了，实在没有办法，我的孩子2011年9月份上龙华中...   贪腐\n",
       "3       58663  灵石一中去年高三开设补习班，未达录取线的孩子根据分数不同分别收取补习费，最低500元，最高为...   贪腐\n",
       "4       38195  5月30日，大竹县庙坝镇新桥小学（庙坝镇二小）老师杨万得，在庙坝镇新桥街上办生日宴，办席规模...   贪腐"
      ]
     },
     "execution_count": 51,
     "metadata": {},
     "output_type": "execute_result"
    }
   ],
   "source": [
    "validationSet = pd.read_csv('./validationSet.csv', header=0, sep='|')\n",
    "validationSet.head()"
   ]
  },
  {
   "cell_type": "code",
   "execution_count": 52,
   "metadata": {
    "ExecuteTime": {
     "end_time": "2019-03-11T08:08:28.033884Z",
     "start_time": "2019-03-11T08:08:15.479116Z"
    }
   },
   "outputs": [
    {
     "data": {
      "text/html": [
       "<div>\n",
       "<style scoped>\n",
       "    .dataframe tbody tr th:only-of-type {\n",
       "        vertical-align: middle;\n",
       "    }\n",
       "\n",
       "    .dataframe tbody tr th {\n",
       "        vertical-align: top;\n",
       "    }\n",
       "\n",
       "    .dataframe thead th {\n",
       "        text-align: right;\n",
       "    }\n",
       "</style>\n",
       "<table border=\"1\" class=\"dataframe\">\n",
       "  <thead>\n",
       "    <tr style=\"text-align: right;\">\n",
       "      <th></th>\n",
       "      <th>Unnamed: 0</th>\n",
       "      <th>content</th>\n",
       "      <th>type</th>\n",
       "      <th>segmentation</th>\n",
       "    </tr>\n",
       "  </thead>\n",
       "  <tbody>\n",
       "    <tr>\n",
       "      <th>0</th>\n",
       "      <td>33185</td>\n",
       "      <td>我们全家4人于2016年2月15日去云南丽江玉龙雪山旅游，在山门口售票处被告知除每人130的...</td>\n",
       "      <td>贪腐</td>\n",
       "      <td>[我们, 全家, 人于, 2016, 15, 日去, 云南, 丽江, 玉龙雪山, 旅游, 门...</td>\n",
       "    </tr>\n",
       "    <tr>\n",
       "      <th>1</th>\n",
       "      <td>9198</td>\n",
       "      <td>尊敬的黄书记，金牛区银河路一号天鑫花园西区3幢4、5、6单元的违章搭建及非法经营的麻馆我们已...</td>\n",
       "      <td>不作为</td>\n",
       "      <td>[尊敬, 书记, 金牛区, 银河, 一号, 天鑫, 花园, 西区, 单元, 违章, 搭建, ...</td>\n",
       "    </tr>\n",
       "    <tr>\n",
       "      <th>2</th>\n",
       "      <td>47929</td>\n",
       "      <td>尊敬的张书记您好！    在您百忙之中打扰了，实在没有办法，我的孩子2011年9月份上龙华中...</td>\n",
       "      <td>贪腐</td>\n",
       "      <td>[尊敬, 书记, 您好, 百忙之中, 打扰, 实在, 没有, 办法, 孩子, 2011, 月...</td>\n",
       "    </tr>\n",
       "    <tr>\n",
       "      <th>3</th>\n",
       "      <td>58663</td>\n",
       "      <td>灵石一中去年高三开设补习班，未达录取线的孩子根据分数不同分别收取补习费，最低500元，最高为...</td>\n",
       "      <td>贪腐</td>\n",
       "      <td>[灵石, 一中, 去年, 高三, 开设, 补习班, 未达, 录取线, 孩子, 根据, 分数,...</td>\n",
       "    </tr>\n",
       "    <tr>\n",
       "      <th>4</th>\n",
       "      <td>38195</td>\n",
       "      <td>5月30日，大竹县庙坝镇新桥小学（庙坝镇二小）老师杨万得，在庙坝镇新桥街上办生日宴，办席规模...</td>\n",
       "      <td>贪腐</td>\n",
       "      <td>[30, 大竹县, 庙坝, 新桥, 小学, 庙坝, 二小, 老师, 杨万得, 新桥, 街上,...</td>\n",
       "    </tr>\n",
       "  </tbody>\n",
       "</table>\n",
       "</div>"
      ],
      "text/plain": [
       "   Unnamed: 0                                            content type  \\\n",
       "0       33185  我们全家4人于2016年2月15日去云南丽江玉龙雪山旅游，在山门口售票处被告知除每人130的...   贪腐   \n",
       "1        9198  尊敬的黄书记，金牛区银河路一号天鑫花园西区3幢4、5、6单元的违章搭建及非法经营的麻馆我们已...  不作为   \n",
       "2       47929  尊敬的张书记您好！    在您百忙之中打扰了，实在没有办法，我的孩子2011年9月份上龙华中...   贪腐   \n",
       "3       58663  灵石一中去年高三开设补习班，未达录取线的孩子根据分数不同分别收取补习费，最低500元，最高为...   贪腐   \n",
       "4       38195  5月30日，大竹县庙坝镇新桥小学（庙坝镇二小）老师杨万得，在庙坝镇新桥街上办生日宴，办席规模...   贪腐   \n",
       "\n",
       "                                        segmentation  \n",
       "0  [我们, 全家, 人于, 2016, 15, 日去, 云南, 丽江, 玉龙雪山, 旅游, 门...  \n",
       "1  [尊敬, 书记, 金牛区, 银河, 一号, 天鑫, 花园, 西区, 单元, 违章, 搭建, ...  \n",
       "2  [尊敬, 书记, 您好, 百忙之中, 打扰, 实在, 没有, 办法, 孩子, 2011, 月...  \n",
       "3  [灵石, 一中, 去年, 高三, 开设, 补习班, 未达, 录取线, 孩子, 根据, 分数,...  \n",
       "4  [30, 大竹县, 庙坝, 新桥, 小学, 庙坝, 二小, 老师, 杨万得, 新桥, 街上,...  "
      ]
     },
     "execution_count": 52,
     "metadata": {},
     "output_type": "execute_result"
    }
   ],
   "source": [
    "validationSet['segmentation'] = validationSet['content'].apply(seg)\n",
    "validationSet.head()"
   ]
  },
  {
   "cell_type": "code",
   "execution_count": 55,
   "metadata": {
    "ExecuteTime": {
     "end_time": "2019-03-11T08:24:08.585307Z",
     "start_time": "2019-03-11T08:24:08.488412Z"
    }
   },
   "outputs": [
    {
     "data": {
      "text/html": [
       "<div>\n",
       "<style scoped>\n",
       "    .dataframe tbody tr th:only-of-type {\n",
       "        vertical-align: middle;\n",
       "    }\n",
       "\n",
       "    .dataframe tbody tr th {\n",
       "        vertical-align: top;\n",
       "    }\n",
       "\n",
       "    .dataframe thead th {\n",
       "        text-align: right;\n",
       "    }\n",
       "</style>\n",
       "<table border=\"1\" class=\"dataframe\">\n",
       "  <thead>\n",
       "    <tr style=\"text-align: right;\">\n",
       "      <th></th>\n",
       "      <th>Unnamed: 0</th>\n",
       "      <th>content</th>\n",
       "      <th>type</th>\n",
       "      <th>segmentation</th>\n",
       "    </tr>\n",
       "  </thead>\n",
       "  <tbody>\n",
       "    <tr>\n",
       "      <th>0</th>\n",
       "      <td>33185</td>\n",
       "      <td>我们全家4人于2016年2月15日去云南丽江玉龙雪山旅游，在山门口售票处被告知除每人130的...</td>\n",
       "      <td>贪腐</td>\n",
       "      <td>我们 全家 人于 2016 15 日去 云南 丽江 玉龙雪山 旅游 门口 售票处 告知 每人...</td>\n",
       "    </tr>\n",
       "    <tr>\n",
       "      <th>1</th>\n",
       "      <td>9198</td>\n",
       "      <td>尊敬的黄书记，金牛区银河路一号天鑫花园西区3幢4、5、6单元的违章搭建及非法经营的麻馆我们已...</td>\n",
       "      <td>不作为</td>\n",
       "      <td>尊敬 书记 金牛区 银河 一号 天鑫 花园 西区 单元 违章 搭建 非法经营 麻馆 我们 已...</td>\n",
       "    </tr>\n",
       "    <tr>\n",
       "      <th>2</th>\n",
       "      <td>47929</td>\n",
       "      <td>尊敬的张书记您好！    在您百忙之中打扰了，实在没有办法，我的孩子2011年9月份上龙华中...</td>\n",
       "      <td>贪腐</td>\n",
       "      <td>尊敬 书记 您好 百忙之中 打扰 实在 没有 办法 孩子 2011 月份 龙华 中学 初一 ...</td>\n",
       "    </tr>\n",
       "    <tr>\n",
       "      <th>3</th>\n",
       "      <td>58663</td>\n",
       "      <td>灵石一中去年高三开设补习班，未达录取线的孩子根据分数不同分别收取补习费，最低500元，最高为...</td>\n",
       "      <td>贪腐</td>\n",
       "      <td>灵石 一中 去年 高三 开设 补习班 未达 录取线 孩子 根据 分数 不同 分别 收取 补习...</td>\n",
       "    </tr>\n",
       "    <tr>\n",
       "      <th>4</th>\n",
       "      <td>38195</td>\n",
       "      <td>5月30日，大竹县庙坝镇新桥小学（庙坝镇二小）老师杨万得，在庙坝镇新桥街上办生日宴，办席规模...</td>\n",
       "      <td>贪腐</td>\n",
       "      <td>30 大竹县 庙坝 新桥 小学 庙坝 二小 老师 杨万得 新桥 街上 生日 办席 规模 很大...</td>\n",
       "    </tr>\n",
       "    <tr>\n",
       "      <th>5</th>\n",
       "      <td>24981</td>\n",
       "      <td>西安是长安区引镇高村，为什么在村中间建设屠宰场，一天臭气熏天，还让人活不了，每天晚上杀猪，晚...</td>\n",
       "      <td>贪腐</td>\n",
       "      <td>西安 长安区 引镇 高村 为什么 中间 建设 屠宰场 一天 臭气熏天 活不了 每天晚上 杀猪...</td>\n",
       "    </tr>\n",
       "    <tr>\n",
       "      <th>6</th>\n",
       "      <td>8348</td>\n",
       "      <td>番禺区环保局是否收了这两间餐馆的钱?为何大岗镇环镇西路30号的“富华居”住宅小区居民投诉多年...</td>\n",
       "      <td>不作为</td>\n",
       "      <td>番禺区 环保局 是否 两间 餐馆 为何 大岗镇 环镇 西路 30 富华 住宅小区 居民 投诉...</td>\n",
       "    </tr>\n",
       "    <tr>\n",
       "      <th>7</th>\n",
       "      <td>40911</td>\n",
       "      <td>据我观察，我县各大小机关的公车私用现象十分突出，为此，本人建议在县政府网、县新闻网的首页的标...</td>\n",
       "      <td>贪腐</td>\n",
       "      <td>观察 我县 大小 机关 公车私用 现象 十分 突出 为此 本人 建议 县政府 新闻网 首页 ...</td>\n",
       "    </tr>\n",
       "    <tr>\n",
       "      <th>8</th>\n",
       "      <td>19337</td>\n",
       "      <td>我的一辆进口奔驰560型轿车停在家门口，被人故意砸坏，因警察的渎职，3年未处理，违法嫌疑人一...</td>\n",
       "      <td>不作为</td>\n",
       "      <td>一辆 进口 奔驰 560 轿车 家门口 故意 砸坏 警察 渎职 处理 违法 嫌疑人 一直 逍...</td>\n",
       "    </tr>\n",
       "    <tr>\n",
       "      <th>9</th>\n",
       "      <td>17915</td>\n",
       "      <td>郭书记：您好！最近京津冀大气污染严重并连成片了，长此以往后果非常可怕，请领导们到京津冀各地实...</td>\n",
       "      <td>不作为</td>\n",
       "      <td>书记 您好 最近 京津冀 大气污染 严重 成片 长此以往 后果 非常 可怕 领导 京津冀 各...</td>\n",
       "    </tr>\n",
       "    <tr>\n",
       "      <th>10</th>\n",
       "      <td>34784</td>\n",
       "      <td>尊敬的领导：我对所谓的公平公正的考试很失望了，今年在我们县自主出卷监考的这次招考，居然有一些...</td>\n",
       "      <td>贪腐</td>\n",
       "      <td>尊敬 领导 所谓 公平 公正 考试 失望 今年 我们 自主 出卷 监考 这次 招考 居然 一...</td>\n",
       "    </tr>\n",
       "    <tr>\n",
       "      <th>11</th>\n",
       "      <td>42279</td>\n",
       "      <td>我们是马家湾民乐小区的住户，延安市第二社会福利院收取暖费1-5号楼都收5元，而6号楼却收6元...</td>\n",
       "      <td>贪腐</td>\n",
       "      <td>我们 马家湾 民乐 小区 住户 延安市 第二 社会 福利院 取暖费 号楼 号楼 知道 什么 ...</td>\n",
       "    </tr>\n",
       "    <tr>\n",
       "      <th>12</th>\n",
       "      <td>30949</td>\n",
       "      <td>豫西工业集团公司（原红阳厂）棚户区改造项目只把部分楼房的外墙体抹了一层水泥和涂料。棚户区改造...</td>\n",
       "      <td>贪腐</td>\n",
       "      <td>豫西 工业 集团公司 红阳 棚户区 改造 项目 部分 楼房 墙体 一层 水泥 涂料 棚户区 ...</td>\n",
       "    </tr>\n",
       "    <tr>\n",
       "      <th>13</th>\n",
       "      <td>54764</td>\n",
       "      <td>学杭州车改，遏制车轮腐败</td>\n",
       "      <td>贪腐</td>\n",
       "      <td>杭州 车改 遏制 车轮 腐败</td>\n",
       "    </tr>\n",
       "    <tr>\n",
       "      <th>14</th>\n",
       "      <td>11034</td>\n",
       "      <td>王书记您好，关于我之前12月15号给张掖市委书记毛书记发过一个农村新建住宅楼板裂缝给您的留言...</td>\n",
       "      <td>不作为</td>\n",
       "      <td>书记 您好 关于 之前 12 15 张掖 市委书记 书记 一个 农村 新建 住宅楼 裂缝 留...</td>\n",
       "    </tr>\n",
       "    <tr>\n",
       "      <th>15</th>\n",
       "      <td>13201</td>\n",
       "      <td>尊敬的领导：你好！广东省茂名市茂名石化胜利水泥有限公司（民营企业）不按《劳动法》发放工人节假...</td>\n",
       "      <td>不作为</td>\n",
       "      <td>尊敬 领导 你好 广东省 茂名市 茂名 石化 胜利 水泥 有限公司 民营企业 劳动法 发放 ...</td>\n",
       "    </tr>\n",
       "    <tr>\n",
       "      <th>16</th>\n",
       "      <td>39645</td>\n",
       "      <td>非常感谢领导能抽时间听听我们矿工的苦衷。也希望能尽快回复我们。我是兖矿贵州能化公司五轮山煤矿...</td>\n",
       "      <td>贪腐</td>\n",
       "      <td>非常感谢 领导 抽时间 听听 我们 矿工 苦衷 希望 尽快 回复 我们 兖矿 贵州 能化 公...</td>\n",
       "    </tr>\n",
       "    <tr>\n",
       "      <th>17</th>\n",
       "      <td>10681</td>\n",
       "      <td>姜书记您好！近两年来山东特别是淄博临淄的环境状况有了明显好转，见到了久违的蓝天白云，这归功于...</td>\n",
       "      <td>不作为</td>\n",
       "      <td>书记 您好 近两年来 山东 特别 淄博 临淄 环境 状况 明显好转 见到 久违 蓝天白云 归...</td>\n",
       "    </tr>\n",
       "    <tr>\n",
       "      <th>18</th>\n",
       "      <td>10213</td>\n",
       "      <td>尊敬的市长大人你好 我是高新八路钛谷路南口向阳小区的业主。1 我们小区现在没有任何的绿化，小...</td>\n",
       "      <td>不作为</td>\n",
       "      <td>尊敬 市长 大人 你好 高新 八路 谷路 南口 向阳 小区 业主 我们 小区 现在 没有 任...</td>\n",
       "    </tr>\n",
       "    <tr>\n",
       "      <th>19</th>\n",
       "      <td>35366</td>\n",
       "      <td>尊敬的领导您好：    关于农村建房的问题，我想请问我们农民有资格在自己原宅基地建房吗，手续...</td>\n",
       "      <td>贪腐</td>\n",
       "      <td>尊敬 领导 您好 关于 农村 建房 问题 请问 我们 农民 资格 自己 宅基地 建房 手续 ...</td>\n",
       "    </tr>\n",
       "    <tr>\n",
       "      <th>20</th>\n",
       "      <td>31509</td>\n",
       "      <td>营山的交通状态比周边各县都差，一是路况差；二是客运管理差，乱收费现象严重，比如营山至回龙段，...</td>\n",
       "      <td>贪腐</td>\n",
       "      <td>营山 交通 状态 周边 各县 一是 路况 二是 客运 管理 乱收费 现象 严重 比如 营山 ...</td>\n",
       "    </tr>\n",
       "    <tr>\n",
       "      <th>21</th>\n",
       "      <td>32075</td>\n",
       "      <td>2010年2月2日晚，乾瑞花园物业管理雇佣洛宁县黑社会对5号楼的女业主进行暴打，原因是这名女...</td>\n",
       "      <td>贪腐</td>\n",
       "      <td>2010 日晚 乾瑞 花园 物业管理 雇佣 洛宁县 黑社会 号楼 女业主 进行 暴打 原因 ...</td>\n",
       "    </tr>\n",
       "    <tr>\n",
       "      <th>22</th>\n",
       "      <td>40642</td>\n",
       "      <td>北关区金水花园一期冬季供暖改造工程，2009年每户交3、400元，更换交换泵后当年正常供暖。...</td>\n",
       "      <td>贪腐</td>\n",
       "      <td>北关区 金水 花园 一期 冬季 供暖 改造 工程 2009 每户 400 更换 交换 当年 ...</td>\n",
       "    </tr>\n",
       "    <tr>\n",
       "      <th>23</th>\n",
       "      <td>12785</td>\n",
       "      <td>1.平顶山卫东区乐巢娱乐会所于8月5日被贴上封条以查封，然而8月6日下午该会所人员就撕掉封条...</td>\n",
       "      <td>不作为</td>\n",
       "      <td>平顶山 卫东区 乐巢 娱乐 会所于 封条 查封 然而 下午 该会 人员 撕掉 封条 继续 营...</td>\n",
       "    </tr>\n",
       "    <tr>\n",
       "      <th>24</th>\n",
       "      <td>8855</td>\n",
       "      <td>方书记：你好！“十七大”的精神德阳贯彻较缓，英雄故乡的中江农村道路的确太差，特别是古店镇，总...</td>\n",
       "      <td>不作为</td>\n",
       "      <td>书记 你好 十七 精神 德阳 贯彻 较缓 英雄 故乡 中江 农村 道路 的确 特别 古店 总...</td>\n",
       "    </tr>\n",
       "    <tr>\n",
       "      <th>25</th>\n",
       "      <td>56342</td>\n",
       "      <td>李省长：我们是安徽省舒城县桃溪镇农村居民，由于2012年1月舒城县经济开发区扩期工程的需要，...</td>\n",
       "      <td>贪腐</td>\n",
       "      <td>省长 我们 安徽省 舒城县 桃溪 农村居民 由于 2012 舒城县 经济 开发区 扩期 工程...</td>\n",
       "    </tr>\n",
       "    <tr>\n",
       "      <th>26</th>\n",
       "      <td>21937</td>\n",
       "      <td>我是嫁入该村一女村民，二十年了户口一直在该村，现在该土地卖给外商老板建厂房了但土地补偿款村试...</td>\n",
       "      <td>贪腐</td>\n",
       "      <td>嫁入 该村 一女 村民 二十年 户口 一直 该村 现在 土地 外商 老板 厂房 土地 补偿款...</td>\n",
       "    </tr>\n",
       "    <tr>\n",
       "      <th>27</th>\n",
       "      <td>1510</td>\n",
       "      <td>我们县的村村通公路为什么坏这么多、这么长的时间都没有人管没有人问,特别是县城通往河坞的那条路...</td>\n",
       "      <td>不作为</td>\n",
       "      <td>我们 村村通 公路 为什么 这么 这么 时间 没有 人管 没有 人问 特别 县城 通往 河坞...</td>\n",
       "    </tr>\n",
       "    <tr>\n",
       "      <th>28</th>\n",
       "      <td>41196</td>\n",
       "      <td>书记你好，我是中国移动四川资阳公司的一用户，在最近查询话费时发现被移动公司乱扣了5个月的增值...</td>\n",
       "      <td>贪腐</td>\n",
       "      <td>书记 你好 中国移动 四川 资阳 公司 用户 最近 查询 话费 发现 移动 公司 乱扣 增值...</td>\n",
       "    </tr>\n",
       "    <tr>\n",
       "      <th>29</th>\n",
       "      <td>9326</td>\n",
       "      <td>金河路，靖兴街十字路口和金河路，犀安路 X路口很多年前就有人反应没有红绿灯，行人过马路很危险...</td>\n",
       "      <td>不作为</td>\n",
       "      <td>金河 靖兴街 十字路口 金河 犀安路 路口 很多年 有人 反应 没有 红绿灯 行人 马路 危...</td>\n",
       "    </tr>\n",
       "    <tr>\n",
       "      <th>...</th>\n",
       "      <td>...</td>\n",
       "      <td>...</td>\n",
       "      <td>...</td>\n",
       "      <td>...</td>\n",
       "    </tr>\n",
       "    <tr>\n",
       "      <th>12326</th>\n",
       "      <td>8143</td>\n",
       "      <td>海淀区挂甲屯虎城4号，为了一己之私增加室内使用面积，把楼梯建在了二层胡同上方，这对我们周围群...</td>\n",
       "      <td>不作为</td>\n",
       "      <td>海淀区 挂甲 屯虎城 为了 一己之私 增加 室内 使用 面积 楼梯 建在 二层 胡同 上方 ...</td>\n",
       "    </tr>\n",
       "    <tr>\n",
       "      <th>12327</th>\n",
       "      <td>57820</td>\n",
       "      <td>由开发商出资修路，路修好，路两边500米有开发商自由开发，官商勾结，让国家利益损失特大来源：...</td>\n",
       "      <td>贪腐</td>\n",
       "      <td>开发商 出资 修路 修好 两边 500 开发商 自由 开发 官商勾结 国家 利益 损失 特大...</td>\n",
       "    </tr>\n",
       "    <tr>\n",
       "      <th>12328</th>\n",
       "      <td>46061</td>\n",
       "      <td>尊敬的王书记，您好，在百忙之中打扰您！????????我是眉山市东坡区崇礼镇石子村8组村民，...</td>\n",
       "      <td>贪腐</td>\n",
       "      <td>尊敬 书记 您好 百忙之中 打扰 眉山市 东坡区 崇礼 石子 村民 一个 美援 老战士 身份...</td>\n",
       "    </tr>\n",
       "    <tr>\n",
       "      <th>12329</th>\n",
       "      <td>20273</td>\n",
       "      <td>一直以来西藏自治区就会开展区直部门公务员选调的相关考试！?可是最近我们基层的干部越来越觉得调...</td>\n",
       "      <td>不作为</td>\n",
       "      <td>一直 以来 西藏自治区 开展 区直 部门 公务员 选调 相关 考试 可是 最近 我们 基层 ...</td>\n",
       "    </tr>\n",
       "    <tr>\n",
       "      <th>12330</th>\n",
       "      <td>32739</td>\n",
       "      <td>尊敬县委领导，关于集镇建设方面，自去年保义镇实施集镇建设，停水以来，原本是因搞建设停水，固也...</td>\n",
       "      <td>贪腐</td>\n",
       "      <td>尊敬 县委 领导 关于 集镇 建设 方面 去年 保义 实施 集镇 建设 停水 以来 原本 建...</td>\n",
       "    </tr>\n",
       "    <tr>\n",
       "      <th>12331</th>\n",
       "      <td>36765</td>\n",
       "      <td>作为御景花园的业主，对御景花园的物管服务简直无语，只知道乱收钱，管理却一团遭，开放的两个大门...</td>\n",
       "      <td>贪腐</td>\n",
       "      <td>作为 御景 花园 业主 对御景 花园 物管 服务 简直 知道 乱收 管理 一团 开放 两个 ...</td>\n",
       "    </tr>\n",
       "    <tr>\n",
       "      <th>12332</th>\n",
       "      <td>11311</td>\n",
       "      <td>领导好，我是长葛西转盘意为老百姓。我前段反应俺这有户违章建筑，在人民网留言并得到回复是在限期...</td>\n",
       "      <td>不作为</td>\n",
       "      <td>领导 长葛 转盘 老百姓 前段 反应 有户 违章建筑 人民网 留言 得到 回复 限期 强制执...</td>\n",
       "    </tr>\n",
       "    <tr>\n",
       "      <th>12333</th>\n",
       "      <td>30218</td>\n",
       "      <td>白库山水库管理局小区物业乱收费，物业费收一块两毛五一平方，每户装修还得交300元装修管理费，...</td>\n",
       "      <td>贪腐</td>\n",
       "      <td>白库 水库 管理局 小区 物业 乱收费 物业费 一块 两毛 五一 平方 每户 装修 300 ...</td>\n",
       "    </tr>\n",
       "    <tr>\n",
       "      <th>12334</th>\n",
       "      <td>15788</td>\n",
       "      <td>NaN</td>\n",
       "      <td>不作为</td>\n",
       "      <td>nan</td>\n",
       "    </tr>\n",
       "    <tr>\n",
       "      <th>12335</th>\n",
       "      <td>53334</td>\n",
       "      <td>尊敬的领导：您好！能查一下皖O00353是那个部门的公车吗？该车经常出现在大兴塔陵园门前等候...</td>\n",
       "      <td>贪腐</td>\n",
       "      <td>尊敬 领导 您好 能查 一下 O00353 那个 部门 公车 该车 经常出现 大兴 陵园 门...</td>\n",
       "    </tr>\n",
       "    <tr>\n",
       "      <th>12336</th>\n",
       "      <td>733</td>\n",
       "      <td>净月森杨路上，在世外桃园小区对面，每个周末早上都有占道经营现象，相关部门行政不作为，导致这个...</td>\n",
       "      <td>不作为</td>\n",
       "      <td>净月森 路上 世外 桃园 小区 对面 每个 周末 早上 经营 现象 相关 部门 行政 作为 ...</td>\n",
       "    </tr>\n",
       "    <tr>\n",
       "      <th>12337</th>\n",
       "      <td>40518</td>\n",
       "      <td>我向吉林省白山市、市委市政府还有江源区领导举报江源区公路养护公司严重超编进人、严重工人工资下...</td>\n",
       "      <td>贪腐</td>\n",
       "      <td>吉林省 白山市 市委 市政府 还有 江源 领导 举报 江源 公路 养护 公司 严重 超编 进...</td>\n",
       "    </tr>\n",
       "    <tr>\n",
       "      <th>12338</th>\n",
       "      <td>20332</td>\n",
       "      <td>李希省委书记您好   在百忙之中打扰您了，我是新民市西郊村三组的，我省证办理五七工政策，我是...</td>\n",
       "      <td>不作为</td>\n",
       "      <td>李希 省委书记 您好 百忙之中 打扰 新民市 西郊 三组 我省 办理 五七 政策 1982 ...</td>\n",
       "    </tr>\n",
       "    <tr>\n",
       "      <th>12339</th>\n",
       "      <td>30429</td>\n",
       "      <td>平顶山市农业局违规施工，在未获审批情况下违规建设。农业局领导顶风违纪，置国务院三令五申停建楼...</td>\n",
       "      <td>贪腐</td>\n",
       "      <td>平顶山市 农业局 违规 施工 未获 审批 情况 违规 建设 农业局 领导 顶风 违纪 国务院...</td>\n",
       "    </tr>\n",
       "    <tr>\n",
       "      <th>12340</th>\n",
       "      <td>17971</td>\n",
       "      <td>古交电影院世纪精品东楼4层和地下室开设赌博机游戏厅。4楼是浙江人开，地下室是本地人。地下室游...</td>\n",
       "      <td>不作为</td>\n",
       "      <td>古交 电影院 世纪 精品 东楼 地下室 开设 赌博机 游戏厅 浙江人 地下室 本地人 地下室...</td>\n",
       "    </tr>\n",
       "    <tr>\n",
       "      <th>12341</th>\n",
       "      <td>3448</td>\n",
       "      <td>尊敬的书记您好！我是绍兴安昌的网友，安昌作为千年古镇，可是违章建筑太过分了，在安昌镇东昌小学...</td>\n",
       "      <td>不作为</td>\n",
       "      <td>尊敬 书记 您好 绍兴 安昌 网友 安昌 作为 千年 古镇 可是 违章建筑 太过分 安昌 东...</td>\n",
       "    </tr>\n",
       "    <tr>\n",
       "      <th>12342</th>\n",
       "      <td>14399</td>\n",
       "      <td>省长您好！位于合肥市北城双凤经济开发区的凤梅家园小区是一个失地农民拆迁安置小区，由长丰县双凤...</td>\n",
       "      <td>不作为</td>\n",
       "      <td>省长 您好 位于 合肥市 北城 双凤 经济 开发区 凤梅 家园 小区 一个 失地农民 拆迁 ...</td>\n",
       "    </tr>\n",
       "    <tr>\n",
       "      <th>12343</th>\n",
       "      <td>57997</td>\n",
       "      <td>我省中小学校长很多知法违法，侵犯教师学生权益的现象比较严重，如随意增加早晚自习时间，随意要求...</td>\n",
       "      <td>贪腐</td>\n",
       "      <td>我省 中小学 校长 很多 知法 违法 侵犯 教师 学生 权益 现象 比较严重 随意 增加 早...</td>\n",
       "    </tr>\n",
       "    <tr>\n",
       "      <th>12344</th>\n",
       "      <td>14336</td>\n",
       "      <td>尊敬的省委张书记，你好！    我们是潘集区嘉和名城二期的业主，我们于2012年购买了安徽福...</td>\n",
       "      <td>不作为</td>\n",
       "      <td>尊敬 省委 书记 你好 我们 潘集区 名城 二期 业主 我们 2012 购买 安徽 福特 置...</td>\n",
       "    </tr>\n",
       "    <tr>\n",
       "      <th>12345</th>\n",
       "      <td>2167</td>\n",
       "      <td>西安碑林东方星苑11号楼，设计为住宅楼，但是在一楼东面最近开了一家黑吃嘿涮餐饮，违反《西安市...</td>\n",
       "      <td>不作为</td>\n",
       "      <td>西安 碑林 东方 星苑 11 号楼 设计 住宅楼 但是 一楼 东面 最近 一家 黑吃嘿 餐饮...</td>\n",
       "    </tr>\n",
       "    <tr>\n",
       "      <th>12346</th>\n",
       "      <td>26234</td>\n",
       "      <td>这个学校怎么了，收费不止？法律规定义务教育是免费教育，任何单位和个人不得给学生发放末经省级有...</td>\n",
       "      <td>贪腐</td>\n",
       "      <td>这个 学校 怎么 收费 不止 法律 规定 义务教育 免费 教育 任何 单位 个人 不得 学生...</td>\n",
       "    </tr>\n",
       "    <tr>\n",
       "      <th>12347</th>\n",
       "      <td>25680</td>\n",
       "      <td>是该清理一下教育部门对学生乱收费的行为了，据大同的学生家长反映：现在在读的好多学生认为，好多...</td>\n",
       "      <td>贪腐</td>\n",
       "      <td>清理 一下 教育部门 学生 乱收费 行为 大同 学生家长 反映 现在 在读 好多 学生 认为...</td>\n",
       "    </tr>\n",
       "    <tr>\n",
       "      <th>12348</th>\n",
       "      <td>53530</td>\n",
       "      <td>尊敬的王书记你好：很感谢你对安徽所做的贡献！但安徽要更好的发展要关注反腐，关注吏治，这是民主...</td>\n",
       "      <td>贪腐</td>\n",
       "      <td>尊敬 书记 你好 感谢 安徽 贡献 安徽 更好 发展 关注 反腐 关注 吏治 这是 民主 进...</td>\n",
       "    </tr>\n",
       "    <tr>\n",
       "      <th>12349</th>\n",
       "      <td>46691</td>\n",
       "      <td>关于山西省临汾市尧都区公安局“警匪一家”违法违纪的举报2007年7月，临汾市尧都区临浮路道路...</td>\n",
       "      <td>贪腐</td>\n",
       "      <td>关于 山西省 临汾市 尧都区 公安局 警匪 一家 违法违纪 举报 2007 临汾市 尧都区 ...</td>\n",
       "    </tr>\n",
       "    <tr>\n",
       "      <th>12350</th>\n",
       "      <td>49228</td>\n",
       "      <td>书记您好，我是高三毕业生家长。2013年德州二中收取我们12000元的借读费，有票据为证。当...</td>\n",
       "      <td>贪腐</td>\n",
       "      <td>书记 您好 高三 毕业生 家长 2013 德州 二中 收取 我们 12000 借读费 票据 ...</td>\n",
       "    </tr>\n",
       "    <tr>\n",
       "      <th>12351</th>\n",
       "      <td>53488</td>\n",
       "      <td>尊敬的陕西省委书记您好！您为了我们陕西的经济发展日夜操劳辛苦了。欢迎来西乡县赏樱花顺便看望一...</td>\n",
       "      <td>贪腐</td>\n",
       "      <td>尊敬 陕西省委 书记 您好 为了 我们 陕西 经济 发展 日夜操劳 辛苦 欢迎 西乡县 樱花...</td>\n",
       "    </tr>\n",
       "    <tr>\n",
       "      <th>12352</th>\n",
       "      <td>61091</td>\n",
       "      <td>书记好！我是购买扶余龙嘉城市广场的业主，扶余龙嘉城市广场自2013年8月26日开工，约定公布...</td>\n",
       "      <td>贪腐</td>\n",
       "      <td>书记 购买 扶余 龙嘉 城市 广场 业主 扶余 龙嘉 城市 广场 2013 26 开工 约定...</td>\n",
       "    </tr>\n",
       "    <tr>\n",
       "      <th>12353</th>\n",
       "      <td>30455</td>\n",
       "      <td>尊敬的市委书记，您好！  我们这边是河南省平顶山市叶县保安镇罗冲村崔洞，由于几十年来吃水问题...</td>\n",
       "      <td>贪腐</td>\n",
       "      <td>尊敬 市委书记 您好 我们 这边 河南省 平顶山市 叶县 保安镇 罗冲村 崔洞 由于 几十年...</td>\n",
       "    </tr>\n",
       "    <tr>\n",
       "      <th>12354</th>\n",
       "      <td>50736</td>\n",
       "      <td>卢书记：你好!我是省社科联一名离休干部，1939年参加革命工作，今年88岁。去年中组部来文提...</td>\n",
       "      <td>贪腐</td>\n",
       "      <td>书记 你好 社科联 一名 离休干部 1939 参加 革命 工作 今年 88 去年 中组部 来...</td>\n",
       "    </tr>\n",
       "    <tr>\n",
       "      <th>12355</th>\n",
       "      <td>14623</td>\n",
       "      <td>到现在广安市各个中学校(广安友谊中学、广安中学、广安二中、广安三中、恒升中学、花桥中学、代市...</td>\n",
       "      <td>不作为</td>\n",
       "      <td>现在 广安市 各个 学校 广安 友谊 中学 广安 中学 广安 二中 广安 三中 恒升 中学 ...</td>\n",
       "    </tr>\n",
       "  </tbody>\n",
       "</table>\n",
       "<p>12356 rows × 4 columns</p>\n",
       "</div>"
      ],
      "text/plain": [
       "       Unnamed: 0                                            content type  \\\n",
       "0           33185  我们全家4人于2016年2月15日去云南丽江玉龙雪山旅游，在山门口售票处被告知除每人130的...   贪腐   \n",
       "1            9198  尊敬的黄书记，金牛区银河路一号天鑫花园西区3幢4、5、6单元的违章搭建及非法经营的麻馆我们已...  不作为   \n",
       "2           47929  尊敬的张书记您好！    在您百忙之中打扰了，实在没有办法，我的孩子2011年9月份上龙华中...   贪腐   \n",
       "3           58663  灵石一中去年高三开设补习班，未达录取线的孩子根据分数不同分别收取补习费，最低500元，最高为...   贪腐   \n",
       "4           38195  5月30日，大竹县庙坝镇新桥小学（庙坝镇二小）老师杨万得，在庙坝镇新桥街上办生日宴，办席规模...   贪腐   \n",
       "5           24981  西安是长安区引镇高村，为什么在村中间建设屠宰场，一天臭气熏天，还让人活不了，每天晚上杀猪，晚...   贪腐   \n",
       "6            8348  番禺区环保局是否收了这两间餐馆的钱?为何大岗镇环镇西路30号的“富华居”住宅小区居民投诉多年...  不作为   \n",
       "7           40911  据我观察，我县各大小机关的公车私用现象十分突出，为此，本人建议在县政府网、县新闻网的首页的标...   贪腐   \n",
       "8           19337  我的一辆进口奔驰560型轿车停在家门口，被人故意砸坏，因警察的渎职，3年未处理，违法嫌疑人一...  不作为   \n",
       "9           17915  郭书记：您好！最近京津冀大气污染严重并连成片了，长此以往后果非常可怕，请领导们到京津冀各地实...  不作为   \n",
       "10          34784  尊敬的领导：我对所谓的公平公正的考试很失望了，今年在我们县自主出卷监考的这次招考，居然有一些...   贪腐   \n",
       "11          42279  我们是马家湾民乐小区的住户，延安市第二社会福利院收取暖费1-5号楼都收5元，而6号楼却收6元...   贪腐   \n",
       "12          30949  豫西工业集团公司（原红阳厂）棚户区改造项目只把部分楼房的外墙体抹了一层水泥和涂料。棚户区改造...   贪腐   \n",
       "13          54764                                       学杭州车改，遏制车轮腐败   贪腐   \n",
       "14          11034  王书记您好，关于我之前12月15号给张掖市委书记毛书记发过一个农村新建住宅楼板裂缝给您的留言...  不作为   \n",
       "15          13201  尊敬的领导：你好！广东省茂名市茂名石化胜利水泥有限公司（民营企业）不按《劳动法》发放工人节假...  不作为   \n",
       "16          39645  非常感谢领导能抽时间听听我们矿工的苦衷。也希望能尽快回复我们。我是兖矿贵州能化公司五轮山煤矿...   贪腐   \n",
       "17          10681  姜书记您好！近两年来山东特别是淄博临淄的环境状况有了明显好转，见到了久违的蓝天白云，这归功于...  不作为   \n",
       "18          10213  尊敬的市长大人你好 我是高新八路钛谷路南口向阳小区的业主。1 我们小区现在没有任何的绿化，小...  不作为   \n",
       "19          35366  尊敬的领导您好：    关于农村建房的问题，我想请问我们农民有资格在自己原宅基地建房吗，手续...   贪腐   \n",
       "20          31509  营山的交通状态比周边各县都差，一是路况差；二是客运管理差，乱收费现象严重，比如营山至回龙段，...   贪腐   \n",
       "21          32075  2010年2月2日晚，乾瑞花园物业管理雇佣洛宁县黑社会对5号楼的女业主进行暴打，原因是这名女...   贪腐   \n",
       "22          40642  北关区金水花园一期冬季供暖改造工程，2009年每户交3、400元，更换交换泵后当年正常供暖。...   贪腐   \n",
       "23          12785  1.平顶山卫东区乐巢娱乐会所于8月5日被贴上封条以查封，然而8月6日下午该会所人员就撕掉封条...  不作为   \n",
       "24           8855  方书记：你好！“十七大”的精神德阳贯彻较缓，英雄故乡的中江农村道路的确太差，特别是古店镇，总...  不作为   \n",
       "25          56342  李省长：我们是安徽省舒城县桃溪镇农村居民，由于2012年1月舒城县经济开发区扩期工程的需要，...   贪腐   \n",
       "26          21937  我是嫁入该村一女村民，二十年了户口一直在该村，现在该土地卖给外商老板建厂房了但土地补偿款村试...   贪腐   \n",
       "27           1510  我们县的村村通公路为什么坏这么多、这么长的时间都没有人管没有人问,特别是县城通往河坞的那条路...  不作为   \n",
       "28          41196  书记你好，我是中国移动四川资阳公司的一用户，在最近查询话费时发现被移动公司乱扣了5个月的增值...   贪腐   \n",
       "29           9326  金河路，靖兴街十字路口和金河路，犀安路 X路口很多年前就有人反应没有红绿灯，行人过马路很危险...  不作为   \n",
       "...           ...                                                ...  ...   \n",
       "12326        8143  海淀区挂甲屯虎城4号，为了一己之私增加室内使用面积，把楼梯建在了二层胡同上方，这对我们周围群...  不作为   \n",
       "12327       57820  由开发商出资修路，路修好，路两边500米有开发商自由开发，官商勾结，让国家利益损失特大来源：...   贪腐   \n",
       "12328       46061  尊敬的王书记，您好，在百忙之中打扰您！????????我是眉山市东坡区崇礼镇石子村8组村民，...   贪腐   \n",
       "12329       20273  一直以来西藏自治区就会开展区直部门公务员选调的相关考试！?可是最近我们基层的干部越来越觉得调...  不作为   \n",
       "12330       32739  尊敬县委领导，关于集镇建设方面，自去年保义镇实施集镇建设，停水以来，原本是因搞建设停水，固也...   贪腐   \n",
       "12331       36765  作为御景花园的业主，对御景花园的物管服务简直无语，只知道乱收钱，管理却一团遭，开放的两个大门...   贪腐   \n",
       "12332       11311  领导好，我是长葛西转盘意为老百姓。我前段反应俺这有户违章建筑，在人民网留言并得到回复是在限期...  不作为   \n",
       "12333       30218  白库山水库管理局小区物业乱收费，物业费收一块两毛五一平方，每户装修还得交300元装修管理费，...   贪腐   \n",
       "12334       15788                                                NaN  不作为   \n",
       "12335       53334  尊敬的领导：您好！能查一下皖O00353是那个部门的公车吗？该车经常出现在大兴塔陵园门前等候...   贪腐   \n",
       "12336         733  净月森杨路上，在世外桃园小区对面，每个周末早上都有占道经营现象，相关部门行政不作为，导致这个...  不作为   \n",
       "12337       40518  我向吉林省白山市、市委市政府还有江源区领导举报江源区公路养护公司严重超编进人、严重工人工资下...   贪腐   \n",
       "12338       20332  李希省委书记您好   在百忙之中打扰您了，我是新民市西郊村三组的，我省证办理五七工政策，我是...  不作为   \n",
       "12339       30429  平顶山市农业局违规施工，在未获审批情况下违规建设。农业局领导顶风违纪，置国务院三令五申停建楼...   贪腐   \n",
       "12340       17971  古交电影院世纪精品东楼4层和地下室开设赌博机游戏厅。4楼是浙江人开，地下室是本地人。地下室游...  不作为   \n",
       "12341        3448  尊敬的书记您好！我是绍兴安昌的网友，安昌作为千年古镇，可是违章建筑太过分了，在安昌镇东昌小学...  不作为   \n",
       "12342       14399  省长您好！位于合肥市北城双凤经济开发区的凤梅家园小区是一个失地农民拆迁安置小区，由长丰县双凤...  不作为   \n",
       "12343       57997  我省中小学校长很多知法违法，侵犯教师学生权益的现象比较严重，如随意增加早晚自习时间，随意要求...   贪腐   \n",
       "12344       14336  尊敬的省委张书记，你好！    我们是潘集区嘉和名城二期的业主，我们于2012年购买了安徽福...  不作为   \n",
       "12345        2167  西安碑林东方星苑11号楼，设计为住宅楼，但是在一楼东面最近开了一家黑吃嘿涮餐饮，违反《西安市...  不作为   \n",
       "12346       26234  这个学校怎么了，收费不止？法律规定义务教育是免费教育，任何单位和个人不得给学生发放末经省级有...   贪腐   \n",
       "12347       25680  是该清理一下教育部门对学生乱收费的行为了，据大同的学生家长反映：现在在读的好多学生认为，好多...   贪腐   \n",
       "12348       53530  尊敬的王书记你好：很感谢你对安徽所做的贡献！但安徽要更好的发展要关注反腐，关注吏治，这是民主...   贪腐   \n",
       "12349       46691  关于山西省临汾市尧都区公安局“警匪一家”违法违纪的举报2007年7月，临汾市尧都区临浮路道路...   贪腐   \n",
       "12350       49228  书记您好，我是高三毕业生家长。2013年德州二中收取我们12000元的借读费，有票据为证。当...   贪腐   \n",
       "12351       53488  尊敬的陕西省委书记您好！您为了我们陕西的经济发展日夜操劳辛苦了。欢迎来西乡县赏樱花顺便看望一...   贪腐   \n",
       "12352       61091  书记好！我是购买扶余龙嘉城市广场的业主，扶余龙嘉城市广场自2013年8月26日开工，约定公布...   贪腐   \n",
       "12353       30455  尊敬的市委书记，您好！  我们这边是河南省平顶山市叶县保安镇罗冲村崔洞，由于几十年来吃水问题...   贪腐   \n",
       "12354       50736  卢书记：你好!我是省社科联一名离休干部，1939年参加革命工作，今年88岁。去年中组部来文提...   贪腐   \n",
       "12355       14623  到现在广安市各个中学校(广安友谊中学、广安中学、广安二中、广安三中、恒升中学、花桥中学、代市...  不作为   \n",
       "\n",
       "                                            segmentation  \n",
       "0      我们 全家 人于 2016 15 日去 云南 丽江 玉龙雪山 旅游 门口 售票处 告知 每人...  \n",
       "1      尊敬 书记 金牛区 银河 一号 天鑫 花园 西区 单元 违章 搭建 非法经营 麻馆 我们 已...  \n",
       "2      尊敬 书记 您好 百忙之中 打扰 实在 没有 办法 孩子 2011 月份 龙华 中学 初一 ...  \n",
       "3      灵石 一中 去年 高三 开设 补习班 未达 录取线 孩子 根据 分数 不同 分别 收取 补习...  \n",
       "4      30 大竹县 庙坝 新桥 小学 庙坝 二小 老师 杨万得 新桥 街上 生日 办席 规模 很大...  \n",
       "5      西安 长安区 引镇 高村 为什么 中间 建设 屠宰场 一天 臭气熏天 活不了 每天晚上 杀猪...  \n",
       "6      番禺区 环保局 是否 两间 餐馆 为何 大岗镇 环镇 西路 30 富华 住宅小区 居民 投诉...  \n",
       "7      观察 我县 大小 机关 公车私用 现象 十分 突出 为此 本人 建议 县政府 新闻网 首页 ...  \n",
       "8      一辆 进口 奔驰 560 轿车 家门口 故意 砸坏 警察 渎职 处理 违法 嫌疑人 一直 逍...  \n",
       "9      书记 您好 最近 京津冀 大气污染 严重 成片 长此以往 后果 非常 可怕 领导 京津冀 各...  \n",
       "10     尊敬 领导 所谓 公平 公正 考试 失望 今年 我们 自主 出卷 监考 这次 招考 居然 一...  \n",
       "11     我们 马家湾 民乐 小区 住户 延安市 第二 社会 福利院 取暖费 号楼 号楼 知道 什么 ...  \n",
       "12     豫西 工业 集团公司 红阳 棚户区 改造 项目 部分 楼房 墙体 一层 水泥 涂料 棚户区 ...  \n",
       "13                                        杭州 车改 遏制 车轮 腐败  \n",
       "14     书记 您好 关于 之前 12 15 张掖 市委书记 书记 一个 农村 新建 住宅楼 裂缝 留...  \n",
       "15     尊敬 领导 你好 广东省 茂名市 茂名 石化 胜利 水泥 有限公司 民营企业 劳动法 发放 ...  \n",
       "16     非常感谢 领导 抽时间 听听 我们 矿工 苦衷 希望 尽快 回复 我们 兖矿 贵州 能化 公...  \n",
       "17     书记 您好 近两年来 山东 特别 淄博 临淄 环境 状况 明显好转 见到 久违 蓝天白云 归...  \n",
       "18     尊敬 市长 大人 你好 高新 八路 谷路 南口 向阳 小区 业主 我们 小区 现在 没有 任...  \n",
       "19     尊敬 领导 您好 关于 农村 建房 问题 请问 我们 农民 资格 自己 宅基地 建房 手续 ...  \n",
       "20     营山 交通 状态 周边 各县 一是 路况 二是 客运 管理 乱收费 现象 严重 比如 营山 ...  \n",
       "21     2010 日晚 乾瑞 花园 物业管理 雇佣 洛宁县 黑社会 号楼 女业主 进行 暴打 原因 ...  \n",
       "22     北关区 金水 花园 一期 冬季 供暖 改造 工程 2009 每户 400 更换 交换 当年 ...  \n",
       "23     平顶山 卫东区 乐巢 娱乐 会所于 封条 查封 然而 下午 该会 人员 撕掉 封条 继续 营...  \n",
       "24     书记 你好 十七 精神 德阳 贯彻 较缓 英雄 故乡 中江 农村 道路 的确 特别 古店 总...  \n",
       "25     省长 我们 安徽省 舒城县 桃溪 农村居民 由于 2012 舒城县 经济 开发区 扩期 工程...  \n",
       "26     嫁入 该村 一女 村民 二十年 户口 一直 该村 现在 土地 外商 老板 厂房 土地 补偿款...  \n",
       "27     我们 村村通 公路 为什么 这么 这么 时间 没有 人管 没有 人问 特别 县城 通往 河坞...  \n",
       "28     书记 你好 中国移动 四川 资阳 公司 用户 最近 查询 话费 发现 移动 公司 乱扣 增值...  \n",
       "29     金河 靖兴街 十字路口 金河 犀安路 路口 很多年 有人 反应 没有 红绿灯 行人 马路 危...  \n",
       "...                                                  ...  \n",
       "12326  海淀区 挂甲 屯虎城 为了 一己之私 增加 室内 使用 面积 楼梯 建在 二层 胡同 上方 ...  \n",
       "12327  开发商 出资 修路 修好 两边 500 开发商 自由 开发 官商勾结 国家 利益 损失 特大...  \n",
       "12328  尊敬 书记 您好 百忙之中 打扰 眉山市 东坡区 崇礼 石子 村民 一个 美援 老战士 身份...  \n",
       "12329  一直 以来 西藏自治区 开展 区直 部门 公务员 选调 相关 考试 可是 最近 我们 基层 ...  \n",
       "12330  尊敬 县委 领导 关于 集镇 建设 方面 去年 保义 实施 集镇 建设 停水 以来 原本 建...  \n",
       "12331  作为 御景 花园 业主 对御景 花园 物管 服务 简直 知道 乱收 管理 一团 开放 两个 ...  \n",
       "12332  领导 长葛 转盘 老百姓 前段 反应 有户 违章建筑 人民网 留言 得到 回复 限期 强制执...  \n",
       "12333  白库 水库 管理局 小区 物业 乱收费 物业费 一块 两毛 五一 平方 每户 装修 300 ...  \n",
       "12334                                                nan  \n",
       "12335  尊敬 领导 您好 能查 一下 O00353 那个 部门 公车 该车 经常出现 大兴 陵园 门...  \n",
       "12336  净月森 路上 世外 桃园 小区 对面 每个 周末 早上 经营 现象 相关 部门 行政 作为 ...  \n",
       "12337  吉林省 白山市 市委 市政府 还有 江源 领导 举报 江源 公路 养护 公司 严重 超编 进...  \n",
       "12338  李希 省委书记 您好 百忙之中 打扰 新民市 西郊 三组 我省 办理 五七 政策 1982 ...  \n",
       "12339  平顶山市 农业局 违规 施工 未获 审批 情况 违规 建设 农业局 领导 顶风 违纪 国务院...  \n",
       "12340  古交 电影院 世纪 精品 东楼 地下室 开设 赌博机 游戏厅 浙江人 地下室 本地人 地下室...  \n",
       "12341  尊敬 书记 您好 绍兴 安昌 网友 安昌 作为 千年 古镇 可是 违章建筑 太过分 安昌 东...  \n",
       "12342  省长 您好 位于 合肥市 北城 双凤 经济 开发区 凤梅 家园 小区 一个 失地农民 拆迁 ...  \n",
       "12343  我省 中小学 校长 很多 知法 违法 侵犯 教师 学生 权益 现象 比较严重 随意 增加 早...  \n",
       "12344  尊敬 省委 书记 你好 我们 潘集区 名城 二期 业主 我们 2012 购买 安徽 福特 置...  \n",
       "12345  西安 碑林 东方 星苑 11 号楼 设计 住宅楼 但是 一楼 东面 最近 一家 黑吃嘿 餐饮...  \n",
       "12346  这个 学校 怎么 收费 不止 法律 规定 义务教育 免费 教育 任何 单位 个人 不得 学生...  \n",
       "12347  清理 一下 教育部门 学生 乱收费 行为 大同 学生家长 反映 现在 在读 好多 学生 认为...  \n",
       "12348  尊敬 书记 你好 感谢 安徽 贡献 安徽 更好 发展 关注 反腐 关注 吏治 这是 民主 进...  \n",
       "12349  关于 山西省 临汾市 尧都区 公安局 警匪 一家 违法违纪 举报 2007 临汾市 尧都区 ...  \n",
       "12350  书记 您好 高三 毕业生 家长 2013 德州 二中 收取 我们 12000 借读费 票据 ...  \n",
       "12351  尊敬 陕西省委 书记 您好 为了 我们 陕西 经济 发展 日夜操劳 辛苦 欢迎 西乡县 樱花...  \n",
       "12352  书记 购买 扶余 龙嘉 城市 广场 业主 扶余 龙嘉 城市 广场 2013 26 开工 约定...  \n",
       "12353  尊敬 市委书记 您好 我们 这边 河南省 平顶山市 叶县 保安镇 罗冲村 崔洞 由于 几十年...  \n",
       "12354  书记 你好 社科联 一名 离休干部 1939 参加 革命 工作 今年 88 去年 中组部 来...  \n",
       "12355  现在 广安市 各个 学校 广安 友谊 中学 广安 中学 广安 二中 广安 三中 恒升 中学 ...  \n",
       "\n",
       "[12356 rows x 4 columns]"
      ]
     },
     "execution_count": 55,
     "metadata": {},
     "output_type": "execute_result"
    }
   ],
   "source": [
    "def combine(item):\n",
    "    return ' '.join(item)\n",
    "\n",
    "validationSet['segmentation'] = validationSet['segmentation'].apply(combine)\n",
    "validationSet"
   ]
  },
  {
   "cell_type": "code",
   "execution_count": 56,
   "metadata": {
    "ExecuteTime": {
     "end_time": "2019-03-11T08:25:03.765378Z",
     "start_time": "2019-03-11T08:24:30.842134Z"
    }
   },
   "outputs": [
    {
     "name": "stderr",
     "output_type": "stream",
     "text": [
      "/Users/lyndon/anaconda3/lib/python3.6/site-packages/sklearn/feature_extraction/text.py:1089: FutureWarning: Conversion of the second argument of issubdtype from `float` to `np.floating` is deprecated. In future, it will be treated as `np.float64 == np.dtype(float).type`.\n",
      "  if hasattr(X, 'dtype') and np.issubdtype(X.dtype, np.float):\n"
     ]
    },
    {
     "name": "stdout",
     "output_type": "stream",
     "text": [
      "0.946827452249919\n",
      "             precision    recall  f1-score   support\n",
      "\n",
      "        不作为       0.94      0.90      0.92      4107\n",
      "         贪腐       0.95      0.97      0.96      8249\n",
      "\n",
      "avg / total       0.95      0.95      0.95     12356\n",
      "\n"
     ]
    }
   ],
   "source": [
    "model = AdaBoostClassifier(n_estimators=100)\n",
    "model.fit(X_train_counts_tf, dataset_train.type)\n",
    "X_test_counts_tf = tf_transformer.transform(validationSet.segmentation)\n",
    "predictions = model.predict(X_test_counts_tf)\n",
    "print(accuracy_score(validationSet.type, predictions))\n",
    "print(classification_report(validationSet.type, predictions))"
   ]
  },
  {
   "cell_type": "markdown",
   "metadata": {},
   "source": [
    "## 序列化模型"
   ]
  },
  {
   "cell_type": "code",
   "execution_count": 59,
   "metadata": {
    "ExecuteTime": {
     "end_time": "2019-03-11T08:36:35.284105Z",
     "start_time": "2019-03-11T08:36:35.281771Z"
    }
   },
   "outputs": [],
   "source": [
    "from sklearn.externals import joblib"
   ]
  },
  {
   "cell_type": "code",
   "execution_count": 60,
   "metadata": {
    "ExecuteTime": {
     "end_time": "2019-03-11T08:38:52.236956Z",
     "start_time": "2019-03-11T08:38:52.166723Z"
    }
   },
   "outputs": [
    {
     "data": {
      "text/plain": [
       "['textClassifierModel.joblib']"
      ]
     },
     "execution_count": 60,
     "metadata": {},
     "output_type": "execute_result"
    }
   ],
   "source": [
    "joblib.dump(model, 'textClassifierModel.joblib', compress=1)"
   ]
  },
  {
   "cell_type": "markdown",
   "metadata": {},
   "source": [
    "## 加载模型，预测新数据"
   ]
  },
  {
   "cell_type": "code",
   "execution_count": 61,
   "metadata": {
    "ExecuteTime": {
     "end_time": "2019-03-11T08:43:00.275295Z",
     "start_time": "2019-03-11T08:43:00.221176Z"
    }
   },
   "outputs": [],
   "source": [
    "new_model = joblib.load('./textClassifierModel.joblib')"
   ]
  },
  {
   "cell_type": "code",
   "execution_count": 65,
   "metadata": {
    "ExecuteTime": {
     "end_time": "2019-03-11T08:46:39.809180Z",
     "start_time": "2019-03-11T08:46:39.678286Z"
    }
   },
   "outputs": [
    {
     "data": {
      "text/html": [
       "<div>\n",
       "<style scoped>\n",
       "    .dataframe tbody tr th:only-of-type {\n",
       "        vertical-align: middle;\n",
       "    }\n",
       "\n",
       "    .dataframe tbody tr th {\n",
       "        vertical-align: top;\n",
       "    }\n",
       "\n",
       "    .dataframe thead th {\n",
       "        text-align: right;\n",
       "    }\n",
       "</style>\n",
       "<table border=\"1\" class=\"dataframe\">\n",
       "  <thead>\n",
       "    <tr style=\"text-align: right;\">\n",
       "      <th></th>\n",
       "      <th>0</th>\n",
       "    </tr>\n",
       "  </thead>\n",
       "  <tbody>\n",
       "    <tr>\n",
       "      <th>0</th>\n",
       "      <td>&amp;shy; 买房近三年，房子至今未到手。这期间，多少业主的生活发生改变——为买房结婚的人，有...</td>\n",
       "    </tr>\n",
       "    <tr>\n",
       "      <th>1</th>\n",
       "      <td>书记您好：遵义县茅栗镇九龙村花土湾修马路村里每户收了两千多元不开收据，不准乱说，修建过程中让...</td>\n",
       "    </tr>\n",
       "    <tr>\n",
       "      <th>2</th>\n",
       "      <td>书记，你高高在上，何时才到百姓家中走走，到各村各乡访一下，太黑了…村官都知道吃钱，不为百姓着想！</td>\n",
       "    </tr>\n",
       "    <tr>\n",
       "      <th>3</th>\n",
       "      <td>赤水市长期镇是国家级贫困乡镇.国家每年有几百万扶贫款.可是多年以来没有见到做了些什么项目？最...</td>\n",
       "    </tr>\n",
       "    <tr>\n",
       "      <th>4</th>\n",
       "      <td>我们这一条街都是搞色情，皮肉生意的，还有开老虎机的。这些店开了5﹑6年了可是从来没人来过问过...</td>\n",
       "    </tr>\n",
       "  </tbody>\n",
       "</table>\n",
       "</div>"
      ],
      "text/plain": [
       "                                                   0\n",
       "0  &shy; 买房近三年，房子至今未到手。这期间，多少业主的生活发生改变——为买房结婚的人，有...\n",
       "1  书记您好：遵义县茅栗镇九龙村花土湾修马路村里每户收了两千多元不开收据，不准乱说，修建过程中让...\n",
       "2   书记，你高高在上，何时才到百姓家中走走，到各村各乡访一下，太黑了…村官都知道吃钱，不为百姓着想！\n",
       "3  赤水市长期镇是国家级贫困乡镇.国家每年有几百万扶贫款.可是多年以来没有见到做了些什么项目？最...\n",
       "4  我们这一条街都是搞色情，皮肉生意的，还有开老虎机的。这些店开了5﹑6年了可是从来没人来过问过..."
      ]
     },
     "execution_count": 65,
     "metadata": {},
     "output_type": "execute_result"
    }
   ],
   "source": [
    "testSet = pd.read_table('./target.txt', header=None)\n",
    "testSet.head()"
   ]
  },
  {
   "cell_type": "code",
   "execution_count": 68,
   "metadata": {
    "ExecuteTime": {
     "end_time": "2019-03-11T08:48:52.894047Z",
     "start_time": "2019-03-11T08:48:39.199136Z"
    }
   },
   "outputs": [
    {
     "data": {
      "text/html": [
       "<div>\n",
       "<style scoped>\n",
       "    .dataframe tbody tr th:only-of-type {\n",
       "        vertical-align: middle;\n",
       "    }\n",
       "\n",
       "    .dataframe tbody tr th {\n",
       "        vertical-align: top;\n",
       "    }\n",
       "\n",
       "    .dataframe thead th {\n",
       "        text-align: right;\n",
       "    }\n",
       "</style>\n",
       "<table border=\"1\" class=\"dataframe\">\n",
       "  <thead>\n",
       "    <tr style=\"text-align: right;\">\n",
       "      <th></th>\n",
       "      <th>content</th>\n",
       "      <th>segmentation</th>\n",
       "    </tr>\n",
       "  </thead>\n",
       "  <tbody>\n",
       "    <tr>\n",
       "      <th>0</th>\n",
       "      <td>&amp;shy; 买房近三年，房子至今未到手。这期间，多少业主的生活发生改变——为买房结婚的人，有...</td>\n",
       "      <td>shy 买房 近三年 房子 至今 到手 期间 多少 业主 生活 发生 改变 买房 结婚的人 ...</td>\n",
       "    </tr>\n",
       "    <tr>\n",
       "      <th>1</th>\n",
       "      <td>书记您好：遵义县茅栗镇九龙村花土湾修马路村里每户收了两千多元不开收据，不准乱说，修建过程中让...</td>\n",
       "      <td>书记 您好 遵义县 茅栗 九龙 村花 土湾修 马路 村里 每户 两千多元 收据 不准 乱说 ...</td>\n",
       "    </tr>\n",
       "    <tr>\n",
       "      <th>2</th>\n",
       "      <td>书记，你高高在上，何时才到百姓家中走走，到各村各乡访一下，太黑了…村官都知道吃钱，不为百姓着想！</td>\n",
       "      <td>书记 高高在上 何时 百姓家 走走 各村 各乡 一下 太黑 村官 知道 百姓 着想</td>\n",
       "    </tr>\n",
       "    <tr>\n",
       "      <th>3</th>\n",
       "      <td>赤水市长期镇是国家级贫困乡镇.国家每年有几百万扶贫款.可是多年以来没有见到做了些什么项目？最...</td>\n",
       "      <td>赤水市 长期 国家级 贫困 乡镇 国家 每年 几百万 扶贫 可是 多年 以来 没有 见到 什...</td>\n",
       "    </tr>\n",
       "    <tr>\n",
       "      <th>4</th>\n",
       "      <td>我们这一条街都是搞色情，皮肉生意的，还有开老虎机的。这些店开了5﹑6年了可是从来没人来过问过...</td>\n",
       "      <td>我们 一条街 色情 皮肉 生意 还有 老虎机 这些 店开 可是 从来 没人来 过问 我们 这...</td>\n",
       "    </tr>\n",
       "  </tbody>\n",
       "</table>\n",
       "</div>"
      ],
      "text/plain": [
       "                                             content  \\\n",
       "0  &shy; 买房近三年，房子至今未到手。这期间，多少业主的生活发生改变——为买房结婚的人，有...   \n",
       "1  书记您好：遵义县茅栗镇九龙村花土湾修马路村里每户收了两千多元不开收据，不准乱说，修建过程中让...   \n",
       "2   书记，你高高在上，何时才到百姓家中走走，到各村各乡访一下，太黑了…村官都知道吃钱，不为百姓着想！   \n",
       "3  赤水市长期镇是国家级贫困乡镇.国家每年有几百万扶贫款.可是多年以来没有见到做了些什么项目？最...   \n",
       "4  我们这一条街都是搞色情，皮肉生意的，还有开老虎机的。这些店开了5﹑6年了可是从来没人来过问过...   \n",
       "\n",
       "                                        segmentation  \n",
       "0  shy 买房 近三年 房子 至今 到手 期间 多少 业主 生活 发生 改变 买房 结婚的人 ...  \n",
       "1  书记 您好 遵义县 茅栗 九龙 村花 土湾修 马路 村里 每户 两千多元 收据 不准 乱说 ...  \n",
       "2          书记 高高在上 何时 百姓家 走走 各村 各乡 一下 太黑 村官 知道 百姓 着想  \n",
       "3  赤水市 长期 国家级 贫困 乡镇 国家 每年 几百万 扶贫 可是 多年 以来 没有 见到 什...  \n",
       "4  我们 一条街 色情 皮肉 生意 还有 老虎机 这些 店开 可是 从来 没人来 过问 我们 这...  "
      ]
     },
     "execution_count": 68,
     "metadata": {},
     "output_type": "execute_result"
    }
   ],
   "source": [
    "testSet.columns = ['content']\n",
    "\n",
    "def segCombine(text):\n",
    "    _ = list()\n",
    "    for word in jieba.cut(text):\n",
    "        if len(word) > 1:\n",
    "            _.append(word.strip())\n",
    "    return ' '.join(_)\n",
    "\n",
    "testSet['segmentation'] = testSet['content'].apply(segCombine)\n",
    "testSet.head()"
   ]
  },
  {
   "cell_type": "code",
   "execution_count": 69,
   "metadata": {
    "ExecuteTime": {
     "end_time": "2019-03-11T08:51:49.744276Z",
     "start_time": "2019-03-11T08:51:48.502380Z"
    }
   },
   "outputs": [
    {
     "data": {
      "text/html": [
       "<div>\n",
       "<style scoped>\n",
       "    .dataframe tbody tr th:only-of-type {\n",
       "        vertical-align: middle;\n",
       "    }\n",
       "\n",
       "    .dataframe tbody tr th {\n",
       "        vertical-align: top;\n",
       "    }\n",
       "\n",
       "    .dataframe thead th {\n",
       "        text-align: right;\n",
       "    }\n",
       "</style>\n",
       "<table border=\"1\" class=\"dataframe\">\n",
       "  <thead>\n",
       "    <tr style=\"text-align: right;\">\n",
       "      <th></th>\n",
       "      <th>content</th>\n",
       "      <th>segmentation</th>\n",
       "      <th>category</th>\n",
       "    </tr>\n",
       "  </thead>\n",
       "  <tbody>\n",
       "    <tr>\n",
       "      <th>0</th>\n",
       "      <td>&amp;shy; 买房近三年，房子至今未到手。这期间，多少业主的生活发生改变——为买房结婚的人，有...</td>\n",
       "      <td>shy 买房 近三年 房子 至今 到手 期间 多少 业主 生活 发生 改变 买房 结婚的人 ...</td>\n",
       "      <td>贪腐</td>\n",
       "    </tr>\n",
       "    <tr>\n",
       "      <th>1</th>\n",
       "      <td>书记您好：遵义县茅栗镇九龙村花土湾修马路村里每户收了两千多元不开收据，不准乱说，修建过程中让...</td>\n",
       "      <td>书记 您好 遵义县 茅栗 九龙 村花 土湾修 马路 村里 每户 两千多元 收据 不准 乱说 ...</td>\n",
       "      <td>贪腐</td>\n",
       "    </tr>\n",
       "    <tr>\n",
       "      <th>2</th>\n",
       "      <td>书记，你高高在上，何时才到百姓家中走走，到各村各乡访一下，太黑了…村官都知道吃钱，不为百姓着想！</td>\n",
       "      <td>书记 高高在上 何时 百姓家 走走 各村 各乡 一下 太黑 村官 知道 百姓 着想</td>\n",
       "      <td>贪腐</td>\n",
       "    </tr>\n",
       "    <tr>\n",
       "      <th>3</th>\n",
       "      <td>赤水市长期镇是国家级贫困乡镇.国家每年有几百万扶贫款.可是多年以来没有见到做了些什么项目？最...</td>\n",
       "      <td>赤水市 长期 国家级 贫困 乡镇 国家 每年 几百万 扶贫 可是 多年 以来 没有 见到 什...</td>\n",
       "      <td>贪腐</td>\n",
       "    </tr>\n",
       "    <tr>\n",
       "      <th>4</th>\n",
       "      <td>我们这一条街都是搞色情，皮肉生意的，还有开老虎机的。这些店开了5﹑6年了可是从来没人来过问过...</td>\n",
       "      <td>我们 一条街 色情 皮肉 生意 还有 老虎机 这些 店开 可是 从来 没人来 过问 我们 这...</td>\n",
       "      <td>不作为</td>\n",
       "    </tr>\n",
       "  </tbody>\n",
       "</table>\n",
       "</div>"
      ],
      "text/plain": [
       "                                             content  \\\n",
       "0  &shy; 买房近三年，房子至今未到手。这期间，多少业主的生活发生改变——为买房结婚的人，有...   \n",
       "1  书记您好：遵义县茅栗镇九龙村花土湾修马路村里每户收了两千多元不开收据，不准乱说，修建过程中让...   \n",
       "2   书记，你高高在上，何时才到百姓家中走走，到各村各乡访一下，太黑了…村官都知道吃钱，不为百姓着想！   \n",
       "3  赤水市长期镇是国家级贫困乡镇.国家每年有几百万扶贫款.可是多年以来没有见到做了些什么项目？最...   \n",
       "4  我们这一条街都是搞色情，皮肉生意的，还有开老虎机的。这些店开了5﹑6年了可是从来没人来过问过...   \n",
       "\n",
       "                                        segmentation category  \n",
       "0  shy 买房 近三年 房子 至今 到手 期间 多少 业主 生活 发生 改变 买房 结婚的人 ...       贪腐  \n",
       "1  书记 您好 遵义县 茅栗 九龙 村花 土湾修 马路 村里 每户 两千多元 收据 不准 乱说 ...       贪腐  \n",
       "2          书记 高高在上 何时 百姓家 走走 各村 各乡 一下 太黑 村官 知道 百姓 着想       贪腐  \n",
       "3  赤水市 长期 国家级 贫困 乡镇 国家 每年 几百万 扶贫 可是 多年 以来 没有 见到 什...       贪腐  \n",
       "4  我们 一条街 色情 皮肉 生意 还有 老虎机 这些 店开 可是 从来 没人来 过问 我们 这...      不作为  "
      ]
     },
     "execution_count": 69,
     "metadata": {},
     "output_type": "execute_result"
    }
   ],
   "source": [
    "X_test_counts_tf = tf_transformer.transform(testSet.segmentation)\n",
    "testSet['category'] = new_model.predict(X_test_counts_tf)\n",
    "testSet.head()"
   ]
  },
  {
   "cell_type": "code",
   "execution_count": 70,
   "metadata": {
    "ExecuteTime": {
     "end_time": "2019-03-11T08:53:26.128932Z",
     "start_time": "2019-03-11T08:53:26.115566Z"
    }
   },
   "outputs": [
    {
     "data": {
      "text/plain": [
       "贪腐     14421\n",
       "不作为     3225\n",
       "Name: category, dtype: int64"
      ]
     },
     "execution_count": 70,
     "metadata": {},
     "output_type": "execute_result"
    }
   ],
   "source": [
    "# 描述统计\n",
    "testSet.category.value_counts()"
   ]
  },
  {
   "cell_type": "code",
   "execution_count": 72,
   "metadata": {
    "ExecuteTime": {
     "end_time": "2019-03-11T08:55:44.292860Z",
     "start_time": "2019-03-11T08:55:41.189504Z"
    }
   },
   "outputs": [],
   "source": [
    "testSet.to_excel('./prediction.xlsx', index=None, header=True)"
   ]
  },
  {
   "cell_type": "code",
   "execution_count": null,
   "metadata": {},
   "outputs": [],
   "source": []
  }
 ],
 "metadata": {
  "hide_input": false,
  "kernelspec": {
   "display_name": "Python 3",
   "language": "python",
   "name": "python3"
  },
  "toc": {
   "base_numbering": 1,
   "nav_menu": {},
   "number_sections": true,
   "sideBar": true,
   "skip_h1_title": false,
   "title_cell": "Table of Contents",
   "title_sidebar": "Contents",
   "toc_cell": false,
   "toc_position": {},
   "toc_section_display": true,
   "toc_window_display": false
  },
  "varInspector": {
   "cols": {
    "lenName": 16,
    "lenType": 16,
    "lenVar": 40
   },
   "kernels_config": {
    "python": {
     "delete_cmd_postfix": "",
     "delete_cmd_prefix": "del ",
     "library": "var_list.py",
     "varRefreshCmd": "print(var_dic_list())"
    },
    "r": {
     "delete_cmd_postfix": ") ",
     "delete_cmd_prefix": "rm(",
     "library": "var_list.r",
     "varRefreshCmd": "cat(var_dic_list()) "
    }
   },
   "types_to_exclude": [
    "module",
    "function",
    "builtin_function_or_method",
    "instance",
    "_Feature"
   ],
   "window_display": false
  }
 },
 "nbformat": 4,
 "nbformat_minor": 2
}
